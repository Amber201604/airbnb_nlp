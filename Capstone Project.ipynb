{
 "cells": [
  {
   "cell_type": "markdown",
   "metadata": {},
   "source": [
    "# Machine Learning Engineer Nanodegree\n",
    "## Capstone Project\n",
    "Joaee Chew <br>\n",
    "September 14, 2017"
   ]
  },
  {
   "cell_type": "markdown",
   "metadata": {
    "heading_collapsed": true
   },
   "source": [
    "## I. Definition\n",
    "_(approx. 1-2 pages)_"
   ]
  },
  {
   "cell_type": "markdown",
   "metadata": {
    "heading_collapsed": true,
    "hidden": true
   },
   "source": [
    "### Project Overview\n",
    "\n",
    "AirBnb is a popular home-sharing platform, enabling people all over the world to lease or rent short-term lodgings. For potential hosts, this is a potentially lucrative option for their under-utilised vacation homes, spare rooms or even beds. However, it is difficult for new hosts to ascertain how much their property could earn them and whether it will be a worthy investment. Furthermore, how can they know the true value of their beloved penthouse adorned with designer furniture, compared to your run-of-the-mill IKEA filled apartment?\n",
    "\n",
    "This project seeks to solve the problem by building a predictive model for the potential earnings of Airbnb listings, taking into account text descriptions to capture a rich and qualitative model of individual listings. While there are available commercial tools such as [AirSorted](http://www.airsorted.uk/) that predict Airbnb value, these models are generic with minimal features used and no indication of model accuracy. \n",
    "\n",
    "In addition, this project will implement an interpretability layer, using the [TreeInterpreter](https://github.com/andosa/treeinterpreter) package to decompose predictions into feature contribution components. This provides greater transparency and assurance to hosts that the nuances of their unique home has been captured by the model.\n",
    "\n",
    "To build this model, I use the dataset provided by [Inside Airbnb](http://insideairbnb.com/get-the-data.html), where publicly available information about a city’s Airbnb’s listings have been scraped and released for independent, non-commercial use. This includes details about the listing such as no. of rooms, guests available, description, location as well as information about the yield such as price and no. of reviews.\n",
    "\n",
    "Specifically, I will use the detailed listings information for London listings active from 3rd October 2016 – 4th March 2017. An active listing is defined as a property that has been reviewed at least once during this time period. After data cleaning, the dataset has 9722 rows and 16 columns. Importantly, the dataset contains the listings description as well as headers in text format that I will mine for qualitative predictors."
   ]
  },
  {
   "cell_type": "markdown",
   "metadata": {
    "heading_collapsed": true,
    "hidden": true
   },
   "source": [
    "### Problem Statement\n",
    "\n",
    "To build this model, the concept of yield is used as a proxy for potential future earnings. Yield is defined as the amount of revenue that a property will earn over a year. The calculation of yield uses Inside Airbnb’s ‘San Francisco Model’ based on price, average length of stay and review rate. A review rate of [50%](http://insideairbnb.com/about.html \"Why 50% review rate is used\") to convert reviews to estimated bookings. \n",
    "\n",
    ">**This project will predict the yield on prospective AirBnb listings in London and test whether text mining can lead to an increase in predictive accuracy.**\n",
    "\n",
    "The intended workflow for this project is as follows:\n",
    "1.\tRead, clean and preprocess the data: <br>\n",
    "    a.\tRemove unnecessary features. This includes data that does not help with predicting yield, such as listing URL or scrape ID. <br>\n",
    "    b.\tRemove ‘leaking’ features. This includes data that should not be used to predict yield, such as ratings (which are not present at the point of listing), or the no. of other properties listed by the host (model should be built on the property only and not the host). <br>\n",
    "    c.\tRemoving incomplete listings (e.g. listings with no price, or with availability less than 50% which indicates part-time listings that are not comparable). <br>\n",
    "    d.\tImpute missing values (e.g. using the most frequent or median where appropriate). <br>\n",
    "2.\tBuild the model. I will use three models of increasing complexity, both to test for increase in predictive power but also to act as challenger models to the final model. <br>\n",
    "    a.\tI will begin with a simple linear regression to establish a benchmark accuracy. <br>\n",
    "    b.\tI propose the use of a decision tree as a next step. <br>\n",
    "    c.\tFinally, I will use a random forest ensemble model as the final model. <br>\n",
    "4.\tFeature engineering. This will be done iteratively with step 3, with new features tested for improvement in model accuracy. Potential ideas include: <br>\n",
    "    a.\tUsing natural language techniques to extract features from the description. This involves the following NLP pipeline: <br>\n",
    "        i.\tText data preparation (creating corpus, word stemming, creating document term matrix, removing sparse terms etc.) <br>\n",
    "        ii.\tSelection of features using bag-of-words and/or TF-IDF <br>\n",
    "        iii.Use topic modelling to discover any natural topics in the listing descriptions <br>\n",
    "    b.\tBucketing categorical features to reduce dimensionality (eg. Whole apartment vs. non-whole apartment instead of entire class size).\n",
    "5.\tTest the model. Here I will print final accuracy measures and produce insights such as feature importance.<br>\n",
    "6.\tAdd interpretation layer to the final model. As a final step of the project, I will add an interpretation layer. This decomposes each prediction into feature contribution components for tree-based models, and helps improve transparency into model predictions. "
   ]
  },
  {
   "cell_type": "markdown",
   "metadata": {
    "heading_collapsed": true,
    "hidden": true
   },
   "source": [
    "### Metrics\n",
    "\n",
    "Mean squared error is used as the measure for model accuracy.  This measures the average of the square of the errors between the actual yield and predicted yield. The formula for this is as follows:\n",
    "\n",
    "<img src=\"mse.svg\">\n",
    "\n",
    "MSE is a commonly used error score for regression models, and allows for an intuitive measure of error i.e. an MSE of 10000 indicates the yield model is off by £100 (square root of 10000). It is always non-negative, and values closer to zero are better. "
   ]
  },
  {
   "cell_type": "markdown",
   "metadata": {
    "heading_collapsed": true
   },
   "source": [
    "## II. Analysis\n",
    "_(approx. 2-4 pages)_"
   ]
  },
  {
   "cell_type": "markdown",
   "metadata": {
    "heading_collapsed": true,
    "hidden": true
   },
   "source": [
    "#### Setting up"
   ]
  },
  {
   "cell_type": "code",
   "execution_count": 131,
   "metadata": {
    "ExecuteTime": {
     "end_time": "2017-09-12T19:01:48.734137Z",
     "start_time": "2017-09-12T19:01:46.727182Z"
    },
    "collapsed": false,
    "hidden": true
   },
   "outputs": [],
   "source": [
    "import pandas as pd\n",
    "import os\n",
    "import re\n",
    "import numpy as np\n",
    "import seaborn as sns\n",
    "import matplotlib as mpl\n",
    "import matplotlib.pyplot as plt\n",
    "\n",
    "from sklearn.preprocessing import Imputer\n",
    "from sklearn.preprocessing import StandardScaler\n",
    "from sklearn.ensemble import RandomForestRegressor\n",
    "from sklearn.tree import DecisionTreeClassifier\n",
    "from sklearn.model_selection import GridSearchCV\n",
    "from sklearn.model_selection import cross_val_score\n",
    "from sklearn.model_selection import train_test_split\n",
    "from sklearn.metrics import classification_report\n",
    "from sklearn.metrics import confusion_matrix\n",
    "from sklearn.model_selection import train_test_split"
   ]
  },
  {
   "cell_type": "code",
   "execution_count": 132,
   "metadata": {
    "ExecuteTime": {
     "end_time": "2017-09-12T19:01:48.741282Z",
     "start_time": "2017-09-12T19:01:48.736472Z"
    },
    "collapsed": false,
    "hidden": true
   },
   "outputs": [],
   "source": [
    "sns.set(style=\"ticks\")\n",
    "np.random.seed(sum(map(ord, \"axis_grids\")))\n",
    "pd.options.display.max_columns = 20"
   ]
  },
  {
   "cell_type": "markdown",
   "metadata": {
    "heading_collapsed": true,
    "hidden": true
   },
   "source": [
    "#### Read data"
   ]
  },
  {
   "cell_type": "code",
   "execution_count": 133,
   "metadata": {
    "ExecuteTime": {
     "end_time": "2017-09-12T19:01:48.748940Z",
     "start_time": "2017-09-12T19:01:48.744191Z"
    },
    "collapsed": false,
    "hidden": true
   },
   "outputs": [],
   "source": [
    "dir_path = os.path.realpath('')"
   ]
  },
  {
   "cell_type": "code",
   "execution_count": 134,
   "metadata": {
    "ExecuteTime": {
     "end_time": "2017-09-12T19:01:52.216713Z",
     "start_time": "2017-09-12T19:01:48.752247Z"
    },
    "collapsed": false,
    "hidden": true,
    "scrolled": true
   },
   "outputs": [
    {
     "name": "stdout",
     "output_type": "stream",
     "text": [
      "Dataset has 53904 rows, 94 columns.\n"
     ]
    },
    {
     "name": "stderr",
     "output_type": "stream",
     "text": [
      "//anaconda/lib/python3.6/site-packages/IPython/core/interactiveshell.py:2717: DtypeWarning: Columns (88) have mixed types. Specify dtype option on import or set low_memory=False.\n",
      "  interactivity=interactivity, compiler=compiler, result=result)\n"
     ]
    }
   ],
   "source": [
    "path = os.path.join(dir_path, 'data/listings_detailed.csv')\n",
    "df = pd.read_csv(path, header=0, index_col=0)\n",
    "print(\"Dataset has {} rows, {} columns.\".format(*df.shape))"
   ]
  },
  {
   "cell_type": "markdown",
   "metadata": {
    "hidden": true
   },
   "source": [
    "### Data Exploration"
   ]
  },
  {
   "cell_type": "markdown",
   "metadata": {
    "hidden": true
   },
   "source": [
    "In this section, you will be expected to analyze the data you are using for the problem. This data can either be in the form of a dataset (or datasets), input data (or input files), or even an environment. The type of data should be thoroughly described and, if possible, have basic statistics and information presented (such as discussion of input features or defining characteristics about the input or environment). Any abnormalities or interesting qualities about the data that may need to be addressed have been identified (such as features that need to be transformed or the possibility of outliers). Questions to ask yourself when writing this section:\n",
    "- _If a dataset is present for this problem, have you thoroughly discussed certain features about the dataset? Has a data sample been provided to the reader?_\n",
    "- _If a dataset is present for this problem, are statistics about the dataset calculated and reported? Have any relevant results from this calculation been discussed?_\n",
    "- _If a dataset is **not** present for this problem, has discussion been made about the input space or input data for your problem?_\n",
    "- _Are there any abnormalities or characteristics about the input space or dataset that need to be addressed? (categorical variables, missing values, outliers, etc.)_"
   ]
  },
  {
   "cell_type": "markdown",
   "metadata": {
    "hidden": true
   },
   "source": [
    "The data set as scraped by Inside AirBnb is extremely comprehensive, containing 53904 rows and 94 columns. However, many of the data collected are unnecessary metadata (e.g. urls, id, pictures, host data), review data that causes leaking (e.g. review_scores), or has low relevance to the yield model (e.g. security_deposit, is_location_exact, notes). \n",
    "\n",
    "To keep the model manageable and effective, I will focus on the following features:\n",
    "    1. 'name': Listing header text for text mining.\n",
    "    2. 'description': Listing description text for text mining.\n",
    "    3. 'property_type': Type of property e.g. apartment, house etc.\n",
    "    4. 'room_type': Type of room e.g. private, shared etc.\n",
    "    5. 'accommodates': No. of people the listing can accommodate.\n",
    "    6. 'bathrooms': No. of bathrooms.\n",
    "    7. 'bedrooms': No. of bedrooms.\n",
    "    8. 'beds': No. of beds.\n",
    "    9. 'square_feet': Size of listing.\n",
    "    10. 'price': Price of listing.\n",
    "    11. 'cleaning_fee': Cleaning fee.\n",
    "    12. 'guests_included': No. of guests included in the base price.\n",
    "    13. 'extra_people': Price for extra guests not included in the base price.\n",
    "    14. 'minimum_nights': Minimum no. of nights required for booking.\n",
    "    15. 'availability_365': No. of nights the listing is available for booking. (Note: This is a 'leaking' feature as listings may be unavailable as it is already booked and leaks the popularity. However, this needs to be used for filtering part-time listings and will be removed at a later stage.)\n",
    "    16. 'reviews_per_month': Average no. of reviews listing receives per month. Used to calculate yield.\n",
    "    17. 'latitude': Latitude of listing.\n",
    "    18. 'longitude': Longitude of listing.\n",
    "    \n",
    "A sample of the reduced dataset along with summary statistics is shown below."
   ]
  },
  {
   "cell_type": "code",
   "execution_count": 135,
   "metadata": {
    "ExecuteTime": {
     "end_time": "2017-09-12T19:01:52.234600Z",
     "start_time": "2017-09-12T19:01:52.218768Z"
    },
    "collapsed": false,
    "hidden": true,
    "scrolled": false
   },
   "outputs": [
    {
     "name": "stdout",
     "output_type": "stream",
     "text": [
      "Dataset has 53904 rows, 18 columns.\n"
     ]
    },
    {
     "data": {
      "text/html": [
       "<div>\n",
       "<style>\n",
       "    .dataframe thead tr:only-child th {\n",
       "        text-align: right;\n",
       "    }\n",
       "\n",
       "    .dataframe thead th {\n",
       "        text-align: left;\n",
       "    }\n",
       "\n",
       "    .dataframe tbody tr th {\n",
       "        vertical-align: top;\n",
       "    }\n",
       "</style>\n",
       "<table border=\"1\" class=\"dataframe\">\n",
       "  <thead>\n",
       "    <tr style=\"text-align: right;\">\n",
       "      <th></th>\n",
       "      <th>description</th>\n",
       "      <th>property_type</th>\n",
       "      <th>room_type</th>\n",
       "      <th>accommodates</th>\n",
       "      <th>bathrooms</th>\n",
       "      <th>bedrooms</th>\n",
       "      <th>beds</th>\n",
       "      <th>square_feet</th>\n",
       "      <th>price</th>\n",
       "      <th>cleaning_fee</th>\n",
       "      <th>guests_included</th>\n",
       "      <th>extra_people</th>\n",
       "      <th>minimum_nights</th>\n",
       "      <th>availability_365</th>\n",
       "      <th>reviews_per_month</th>\n",
       "      <th>latitude</th>\n",
       "      <th>longitude</th>\n",
       "      <th>bed_type</th>\n",
       "    </tr>\n",
       "    <tr>\n",
       "      <th>id</th>\n",
       "      <th></th>\n",
       "      <th></th>\n",
       "      <th></th>\n",
       "      <th></th>\n",
       "      <th></th>\n",
       "      <th></th>\n",
       "      <th></th>\n",
       "      <th></th>\n",
       "      <th></th>\n",
       "      <th></th>\n",
       "      <th></th>\n",
       "      <th></th>\n",
       "      <th></th>\n",
       "      <th></th>\n",
       "      <th></th>\n",
       "      <th></th>\n",
       "      <th></th>\n",
       "      <th></th>\n",
       "    </tr>\n",
       "  </thead>\n",
       "  <tbody>\n",
       "    <tr>\n",
       "      <th>15896822</th>\n",
       "      <td>My place is close to TK Max, John Lewis, Marks...</td>\n",
       "      <td>Apartment</td>\n",
       "      <td>Private room</td>\n",
       "      <td>1</td>\n",
       "      <td>1.0</td>\n",
       "      <td>1.0</td>\n",
       "      <td>1.0</td>\n",
       "      <td>NaN</td>\n",
       "      <td>$23.00</td>\n",
       "      <td>NaN</td>\n",
       "      <td>1</td>\n",
       "      <td>$8.00</td>\n",
       "      <td>7</td>\n",
       "      <td>61</td>\n",
       "      <td>0.32</td>\n",
       "      <td>51.410036</td>\n",
       "      <td>-0.306323</td>\n",
       "      <td>Real Bed</td>\n",
       "    </tr>\n",
       "    <tr>\n",
       "      <th>4836957</th>\n",
       "      <td>This lovely spacious double bedroom is set in ...</td>\n",
       "      <td>Apartment</td>\n",
       "      <td>Private room</td>\n",
       "      <td>2</td>\n",
       "      <td>1.0</td>\n",
       "      <td>1.0</td>\n",
       "      <td>1.0</td>\n",
       "      <td>NaN</td>\n",
       "      <td>$50.00</td>\n",
       "      <td>NaN</td>\n",
       "      <td>1</td>\n",
       "      <td>$0.00</td>\n",
       "      <td>1</td>\n",
       "      <td>364</td>\n",
       "      <td>0.67</td>\n",
       "      <td>51.411482</td>\n",
       "      <td>-0.290704</td>\n",
       "      <td>Pull-out Sofa</td>\n",
       "    </tr>\n",
       "    <tr>\n",
       "      <th>13355982</th>\n",
       "      <td>Spacious double bedroom, because of the light,...</td>\n",
       "      <td>Apartment</td>\n",
       "      <td>Private room</td>\n",
       "      <td>2</td>\n",
       "      <td>1.0</td>\n",
       "      <td>1.0</td>\n",
       "      <td>1.0</td>\n",
       "      <td>NaN</td>\n",
       "      <td>$24.00</td>\n",
       "      <td>NaN</td>\n",
       "      <td>1</td>\n",
       "      <td>$0.00</td>\n",
       "      <td>1</td>\n",
       "      <td>0</td>\n",
       "      <td>0.25</td>\n",
       "      <td>51.415851</td>\n",
       "      <td>-0.286496</td>\n",
       "      <td>Real Bed</td>\n",
       "    </tr>\n",
       "    <tr>\n",
       "      <th>13472704</th>\n",
       "      <td>My place is good for couples, solo adventurers...</td>\n",
       "      <td>House</td>\n",
       "      <td>Private room</td>\n",
       "      <td>2</td>\n",
       "      <td>1.5</td>\n",
       "      <td>1.0</td>\n",
       "      <td>1.0</td>\n",
       "      <td>NaN</td>\n",
       "      <td>$50.00</td>\n",
       "      <td>NaN</td>\n",
       "      <td>1</td>\n",
       "      <td>$0.00</td>\n",
       "      <td>2</td>\n",
       "      <td>0</td>\n",
       "      <td>NaN</td>\n",
       "      <td>51.415723</td>\n",
       "      <td>-0.292246</td>\n",
       "      <td>Real Bed</td>\n",
       "    </tr>\n",
       "    <tr>\n",
       "      <th>17430865</th>\n",
       "      <td>very new decorated beautiful room and very com...</td>\n",
       "      <td>House</td>\n",
       "      <td>Private room</td>\n",
       "      <td>1</td>\n",
       "      <td>1.0</td>\n",
       "      <td>1.0</td>\n",
       "      <td>1.0</td>\n",
       "      <td>NaN</td>\n",
       "      <td>$25.00</td>\n",
       "      <td>NaN</td>\n",
       "      <td>1</td>\n",
       "      <td>$0.00</td>\n",
       "      <td>1</td>\n",
       "      <td>179</td>\n",
       "      <td>NaN</td>\n",
       "      <td>51.404285</td>\n",
       "      <td>-0.275426</td>\n",
       "      <td>Real Bed</td>\n",
       "    </tr>\n",
       "  </tbody>\n",
       "</table>\n",
       "</div>"
      ],
      "text/plain": [
       "                                                description property_type  \\\n",
       "id                                                                          \n",
       "15896822  My place is close to TK Max, John Lewis, Marks...     Apartment   \n",
       "4836957   This lovely spacious double bedroom is set in ...     Apartment   \n",
       "13355982  Spacious double bedroom, because of the light,...     Apartment   \n",
       "13472704  My place is good for couples, solo adventurers...         House   \n",
       "17430865  very new decorated beautiful room and very com...         House   \n",
       "\n",
       "             room_type  accommodates  bathrooms  bedrooms  beds  square_feet  \\\n",
       "id                                                                             \n",
       "15896822  Private room             1        1.0       1.0   1.0          NaN   \n",
       "4836957   Private room             2        1.0       1.0   1.0          NaN   \n",
       "13355982  Private room             2        1.0       1.0   1.0          NaN   \n",
       "13472704  Private room             2        1.5       1.0   1.0          NaN   \n",
       "17430865  Private room             1        1.0       1.0   1.0          NaN   \n",
       "\n",
       "           price cleaning_fee  guests_included extra_people  minimum_nights  \\\n",
       "id                                                                            \n",
       "15896822  $23.00          NaN                1        $8.00               7   \n",
       "4836957   $50.00          NaN                1        $0.00               1   \n",
       "13355982  $24.00          NaN                1        $0.00               1   \n",
       "13472704  $50.00          NaN                1        $0.00               2   \n",
       "17430865  $25.00          NaN                1        $0.00               1   \n",
       "\n",
       "          availability_365  reviews_per_month   latitude  longitude  \\\n",
       "id                                                                    \n",
       "15896822                61               0.32  51.410036  -0.306323   \n",
       "4836957                364               0.67  51.411482  -0.290704   \n",
       "13355982                 0               0.25  51.415851  -0.286496   \n",
       "13472704                 0                NaN  51.415723  -0.292246   \n",
       "17430865               179                NaN  51.404285  -0.275426   \n",
       "\n",
       "               bed_type  \n",
       "id                       \n",
       "15896822       Real Bed  \n",
       "4836957   Pull-out Sofa  \n",
       "13355982       Real Bed  \n",
       "13472704       Real Bed  \n",
       "17430865       Real Bed  "
      ]
     },
     "execution_count": 135,
     "metadata": {},
     "output_type": "execute_result"
    }
   ],
   "source": [
    "#Keep selected features\n",
    "\n",
    "cols_to_keep = [\n",
    "    'description', \n",
    "    'property_type', 'room_type', 'accommodates',\n",
    "    'bathrooms', 'bedrooms', 'beds', 'square_feet',\n",
    "    'price', 'cleaning_fee', 'guests_included', 'extra_people', 'minimum_nights',\n",
    "    'availability_365', 'reviews_per_month', 'latitude', 'longitude', 'bed_type'\n",
    "]\n",
    "df = df[cols_to_keep]\n",
    "print(\"Dataset has {} rows, {} columns.\".format(*df.shape))\n",
    "df.head()"
   ]
  },
  {
   "cell_type": "code",
   "execution_count": 136,
   "metadata": {
    "ExecuteTime": {
     "end_time": "2017-09-12T19:01:52.635234Z",
     "start_time": "2017-09-12T19:01:52.236503Z"
    },
    "collapsed": false,
    "hidden": true
   },
   "outputs": [
    {
     "name": "stdout",
     "output_type": "stream",
     "text": [
      "Dataset has 53904 rows, 18 columns.\n"
     ]
    }
   ],
   "source": [
    "# Clean numeric fields\n",
    "num_feats = ['cleaning_fee', 'extra_people', 'price']\n",
    "df[num_feats] = df[num_feats].replace('[\\$,]', '', regex=True)\n",
    "df[num_feats] = df[num_feats].apply(pd.to_numeric, errors='coerce')\n",
    "print(\"Dataset has {} rows, {} columns.\".format(*df.shape))"
   ]
  },
  {
   "cell_type": "code",
   "execution_count": 137,
   "metadata": {
    "collapsed": false,
    "hidden": true,
    "scrolled": true
   },
   "outputs": [
    {
     "data": {
      "text/html": [
       "<div>\n",
       "<style>\n",
       "    .dataframe thead tr:only-child th {\n",
       "        text-align: right;\n",
       "    }\n",
       "\n",
       "    .dataframe thead th {\n",
       "        text-align: left;\n",
       "    }\n",
       "\n",
       "    .dataframe tbody tr th {\n",
       "        vertical-align: top;\n",
       "    }\n",
       "</style>\n",
       "<table border=\"1\" class=\"dataframe\">\n",
       "  <thead>\n",
       "    <tr style=\"text-align: right;\">\n",
       "      <th></th>\n",
       "      <th>accommodates</th>\n",
       "      <th>bathrooms</th>\n",
       "      <th>bedrooms</th>\n",
       "      <th>beds</th>\n",
       "      <th>square_feet</th>\n",
       "      <th>price</th>\n",
       "      <th>cleaning_fee</th>\n",
       "      <th>guests_included</th>\n",
       "      <th>extra_people</th>\n",
       "      <th>minimum_nights</th>\n",
       "      <th>availability_365</th>\n",
       "      <th>reviews_per_month</th>\n",
       "      <th>latitude</th>\n",
       "      <th>longitude</th>\n",
       "    </tr>\n",
       "  </thead>\n",
       "  <tbody>\n",
       "    <tr>\n",
       "      <th>count</th>\n",
       "      <td>53904.000000</td>\n",
       "      <td>53644.000000</td>\n",
       "      <td>53811.000000</td>\n",
       "      <td>53731.000000</td>\n",
       "      <td>582.000000</td>\n",
       "      <td>53904.000000</td>\n",
       "      <td>32483.000000</td>\n",
       "      <td>53904.000000</td>\n",
       "      <td>53904.000000</td>\n",
       "      <td>53904.000000</td>\n",
       "      <td>53904.000000</td>\n",
       "      <td>37438.000000</td>\n",
       "      <td>53904.000000</td>\n",
       "      <td>53904.000000</td>\n",
       "    </tr>\n",
       "    <tr>\n",
       "      <th>mean</th>\n",
       "      <td>3.036676</td>\n",
       "      <td>1.262751</td>\n",
       "      <td>1.353980</td>\n",
       "      <td>1.708027</td>\n",
       "      <td>577.508591</td>\n",
       "      <td>96.099622</td>\n",
       "      <td>37.115907</td>\n",
       "      <td>1.407428</td>\n",
       "      <td>6.686238</td>\n",
       "      <td>3.285229</td>\n",
       "      <td>155.849789</td>\n",
       "      <td>1.304307</td>\n",
       "      <td>51.510425</td>\n",
       "      <td>-0.127105</td>\n",
       "    </tr>\n",
       "    <tr>\n",
       "      <th>std</th>\n",
       "      <td>1.907429</td>\n",
       "      <td>0.547699</td>\n",
       "      <td>0.841912</td>\n",
       "      <td>1.201165</td>\n",
       "      <td>726.154243</td>\n",
       "      <td>117.641082</td>\n",
       "      <td>33.961914</td>\n",
       "      <td>1.040308</td>\n",
       "      <td>12.705758</td>\n",
       "      <td>28.536837</td>\n",
       "      <td>144.032928</td>\n",
       "      <td>1.459755</td>\n",
       "      <td>0.045454</td>\n",
       "      <td>0.088346</td>\n",
       "    </tr>\n",
       "    <tr>\n",
       "      <th>min</th>\n",
       "      <td>1.000000</td>\n",
       "      <td>0.000000</td>\n",
       "      <td>0.000000</td>\n",
       "      <td>0.000000</td>\n",
       "      <td>0.000000</td>\n",
       "      <td>8.000000</td>\n",
       "      <td>3.000000</td>\n",
       "      <td>1.000000</td>\n",
       "      <td>0.000000</td>\n",
       "      <td>1.000000</td>\n",
       "      <td>0.000000</td>\n",
       "      <td>0.010000</td>\n",
       "      <td>51.292892</td>\n",
       "      <td>-0.501305</td>\n",
       "    </tr>\n",
       "    <tr>\n",
       "      <th>25%</th>\n",
       "      <td>2.000000</td>\n",
       "      <td>1.000000</td>\n",
       "      <td>1.000000</td>\n",
       "      <td>1.000000</td>\n",
       "      <td>108.000000</td>\n",
       "      <td>42.000000</td>\n",
       "      <td>15.000000</td>\n",
       "      <td>1.000000</td>\n",
       "      <td>0.000000</td>\n",
       "      <td>1.000000</td>\n",
       "      <td>9.000000</td>\n",
       "      <td>0.300000</td>\n",
       "      <td>51.485099</td>\n",
       "      <td>-0.187191</td>\n",
       "    </tr>\n",
       "    <tr>\n",
       "      <th>50%</th>\n",
       "      <td>2.000000</td>\n",
       "      <td>1.000000</td>\n",
       "      <td>1.000000</td>\n",
       "      <td>1.000000</td>\n",
       "      <td>484.000000</td>\n",
       "      <td>70.000000</td>\n",
       "      <td>30.000000</td>\n",
       "      <td>1.000000</td>\n",
       "      <td>0.000000</td>\n",
       "      <td>2.000000</td>\n",
       "      <td>92.000000</td>\n",
       "      <td>0.770000</td>\n",
       "      <td>51.514730</td>\n",
       "      <td>-0.122403</td>\n",
       "    </tr>\n",
       "    <tr>\n",
       "      <th>75%</th>\n",
       "      <td>4.000000</td>\n",
       "      <td>1.500000</td>\n",
       "      <td>2.000000</td>\n",
       "      <td>2.000000</td>\n",
       "      <td>819.500000</td>\n",
       "      <td>119.000000</td>\n",
       "      <td>50.000000</td>\n",
       "      <td>1.000000</td>\n",
       "      <td>10.000000</td>\n",
       "      <td>3.000000</td>\n",
       "      <td>321.000000</td>\n",
       "      <td>1.800000</td>\n",
       "      <td>51.538943</td>\n",
       "      <td>-0.069183</td>\n",
       "    </tr>\n",
       "    <tr>\n",
       "      <th>max</th>\n",
       "      <td>16.000000</td>\n",
       "      <td>8.000000</td>\n",
       "      <td>10.000000</td>\n",
       "      <td>16.000000</td>\n",
       "      <td>10710.000000</td>\n",
       "      <td>7000.000000</td>\n",
       "      <td>517.000000</td>\n",
       "      <td>16.000000</td>\n",
       "      <td>240.000000</td>\n",
       "      <td>5000.000000</td>\n",
       "      <td>365.000000</td>\n",
       "      <td>16.870000</td>\n",
       "      <td>51.683101</td>\n",
       "      <td>0.317523</td>\n",
       "    </tr>\n",
       "  </tbody>\n",
       "</table>\n",
       "</div>"
      ],
      "text/plain": [
       "       accommodates     bathrooms      bedrooms          beds   square_feet  \\\n",
       "count  53904.000000  53644.000000  53811.000000  53731.000000    582.000000   \n",
       "mean       3.036676      1.262751      1.353980      1.708027    577.508591   \n",
       "std        1.907429      0.547699      0.841912      1.201165    726.154243   \n",
       "min        1.000000      0.000000      0.000000      0.000000      0.000000   \n",
       "25%        2.000000      1.000000      1.000000      1.000000    108.000000   \n",
       "50%        2.000000      1.000000      1.000000      1.000000    484.000000   \n",
       "75%        4.000000      1.500000      2.000000      2.000000    819.500000   \n",
       "max       16.000000      8.000000     10.000000     16.000000  10710.000000   \n",
       "\n",
       "              price  cleaning_fee  guests_included  extra_people  \\\n",
       "count  53904.000000  32483.000000     53904.000000  53904.000000   \n",
       "mean      96.099622     37.115907         1.407428      6.686238   \n",
       "std      117.641082     33.961914         1.040308     12.705758   \n",
       "min        8.000000      3.000000         1.000000      0.000000   \n",
       "25%       42.000000     15.000000         1.000000      0.000000   \n",
       "50%       70.000000     30.000000         1.000000      0.000000   \n",
       "75%      119.000000     50.000000         1.000000     10.000000   \n",
       "max     7000.000000    517.000000        16.000000    240.000000   \n",
       "\n",
       "       minimum_nights  availability_365  reviews_per_month      latitude  \\\n",
       "count    53904.000000      53904.000000       37438.000000  53904.000000   \n",
       "mean         3.285229        155.849789           1.304307     51.510425   \n",
       "std         28.536837        144.032928           1.459755      0.045454   \n",
       "min          1.000000          0.000000           0.010000     51.292892   \n",
       "25%          1.000000          9.000000           0.300000     51.485099   \n",
       "50%          2.000000         92.000000           0.770000     51.514730   \n",
       "75%          3.000000        321.000000           1.800000     51.538943   \n",
       "max       5000.000000        365.000000          16.870000     51.683101   \n",
       "\n",
       "          longitude  \n",
       "count  53904.000000  \n",
       "mean      -0.127105  \n",
       "std        0.088346  \n",
       "min       -0.501305  \n",
       "25%       -0.187191  \n",
       "50%       -0.122403  \n",
       "75%       -0.069183  \n",
       "max        0.317523  "
      ]
     },
     "execution_count": 137,
     "metadata": {},
     "output_type": "execute_result"
    }
   ],
   "source": [
    "df.describe()"
   ]
  },
  {
   "cell_type": "markdown",
   "metadata": {
    "hidden": true
   },
   "source": [
    "The summary statistics reveal certain interesting insights about the dataset, and these are explored individually below."
   ]
  },
  {
   "cell_type": "markdown",
   "metadata": {
    "heading_collapsed": true,
    "hidden": true
   },
   "source": [
    "#### Removing part-time listings"
   ]
  },
  {
   "cell_type": "markdown",
   "metadata": {
    "hidden": true
   },
   "source": [
    "An Airbnb host can setup a calendar for their listing so that it is only available for a few days or weeks a year. Other listings are available all year round (except for when it is already booked). For consistency, I will use Inside AirBnb's definition of highly available being >60 days a year.\n",
    "\n",
    "I will remove part-time listings by removing availability <60 days a year, and also newly-listed listings with availability >300 days (using the other tail end as approximation).\n",
    "\n",
    "The below distribution curve shows a bi-modal distribution for availability, demonstrating two concentrations of listing types. The lower availability peaks below 50 days indicating a part-time or non-committed listing, while the higher availability peaks at almost at the maximum 365 indicating a dedicated rental property.\n",
    "\n",
    "Once used to clean the data, I will remove availability as it is a leaking feature. It reveals how many bookings there will be in the coming year."
   ]
  },
  {
   "cell_type": "code",
   "execution_count": 138,
   "metadata": {
    "ExecuteTime": {
     "end_time": "2017-09-12T19:01:53.236711Z",
     "start_time": "2017-09-12T19:01:52.637643Z"
    },
    "collapsed": false,
    "hidden": true,
    "scrolled": false
   },
   "outputs": [
    {
     "name": "stdout",
     "output_type": "stream",
     "text": [
      "Dataset has 18502 rows, 18 columns.\n",
      "Dataset has 18502 rows, 17 columns.\n"
     ]
    },
    {
     "data": {
      "image/png": "[encoded data removed]",
      "text/plain": [
       "<matplotlib.figure.Figure at 0x13a94ec18>"
      ]
     },
     "metadata": {},
     "output_type": "display_data"
    }
   ],
   "source": [
    "#Distribution of availability_365\n",
    "%matplotlib inline\n",
    "\n",
    "fig, axs = plt.subplots(ncols=2, figsize=(24, 4))\n",
    "fig.suptitle('Distribution of availability (before and after removing part-time listings)')\n",
    "\n",
    "# Before cleaning\n",
    "x_axis=df['availability_365'].dropna()\n",
    "sns.distplot(pd.Series(x_axis, name='Availability (before cleaning)'), ax=axs[0])\n",
    "\n",
    "# Remove where availability less than 60 days or greater than 300 days\n",
    "df = df.query('60 <= availability_365 <= 300')\n",
    "print(\"Dataset has {} rows, {} columns.\".format(*df.shape))\n",
    "\n",
    "#After cleaning\n",
    "x_axis=df['availability_365'].dropna()\n",
    "sns.distplot(pd.Series(x_axis, name='Availability (after cleaning)'), ax=axs[1])\n",
    "df = df.drop('availability_365', axis = 1)\n",
    "print(\"Dataset has {} rows, {} columns.\".format(*df.shape))"
   ]
  },
  {
   "cell_type": "markdown",
   "metadata": {
    "hidden": true
   },
   "source": [
    "#### Removing large houses\n",
    "For this model, I will remove extremely large rentals accommodating more than 10. The no. of persons a listing can accommodate will directly impact the calculation of yield, and whilst it is possible for a host to influence this number, this is less within their control and more an indicator of size. It is also unlikely that we have enough data to make tailored predictions for such listings."
   ]
  },
  {
   "cell_type": "code",
   "execution_count": 139,
   "metadata": {
    "ExecuteTime": {
     "end_time": "2017-09-12T19:01:53.801820Z",
     "start_time": "2017-09-12T19:01:53.238787Z"
    },
    "collapsed": false,
    "hidden": true,
    "scrolled": false
   },
   "outputs": [
    {
     "name": "stdout",
     "output_type": "stream",
     "text": [
      "You dropped 116 rows.\n",
      "Dataset has 18386 rows, 17 columns.\n"
     ]
    },
    {
     "data": {
      "text/plain": [
       "<matplotlib.axes._subplots.AxesSubplot at 0x131360e10>"
      ]
     },
     "execution_count": 139,
     "metadata": {},
     "output_type": "execute_result"
    },
    {
     "data": {
      "image/png": "[encoded data removed]",
      "text/plain": [
       "<matplotlib.figure.Figure at 0x13a94e5c0>"
      ]
     },
     "metadata": {},
     "output_type": "display_data"
    }
   ],
   "source": [
    "#Distribution of price\n",
    "%matplotlib inline\n",
    "\n",
    "fig, axs = plt.subplots(ncols=2, figsize=(16, 4))\n",
    "fig.suptitle('Distribution of max guests (before and after removing large listings > 10)', weight='bold', fontsize=12)\n",
    "\n",
    "# Before cleaning\n",
    "x_axis=df['accommodates'].dropna()\n",
    "sns.distplot(pd.Series(x_axis, name='Max guests (before cleaning)'), ax=axs[0])\n",
    "\n",
    "# Remove where price > 1000\n",
    "condition = df[df['accommodates'] > 10]\n",
    "rows_to_drop = condition.index\n",
    "print(\"You dropped {} rows.\".format(condition.shape[0]))\n",
    "df = df.drop(rows_to_drop, axis=0)\n",
    "print(\"Dataset has {} rows, {} columns.\".format(*df.shape))\n",
    "\n",
    "#After cleaning\n",
    "x_axis=df['accommodates'].dropna()\n",
    "sns.distplot(pd.Series(x_axis, name='Max guests (after cleaning)'), ax=axs[1])"
   ]
  },
  {
   "cell_type": "markdown",
   "metadata": {
    "hidden": true
   },
   "source": [
    "#### Removing high-priced rentals\n",
    "The below distribution curve for price is right-skewed with a long tail of low frequency high-priced rentals. For this model, I will remove extremely high priced rentals above £1000/night to maintain comparability. It is also unlikely that we have enough data to make tailored predictions for such bespoke listings"
   ]
  },
  {
   "cell_type": "code",
   "execution_count": 140,
   "metadata": {
    "ExecuteTime": {
     "end_time": "2017-09-12T19:01:54.406887Z",
     "start_time": "2017-09-12T19:01:53.804490Z"
    },
    "collapsed": false,
    "hidden": true,
    "scrolled": false
   },
   "outputs": [
    {
     "name": "stdout",
     "output_type": "stream",
     "text": [
      "You dropped 8 rows.\n",
      "Dataset has 18378 rows, 17 columns.\n"
     ]
    },
    {
     "data": {
      "text/plain": [
       "<matplotlib.axes._subplots.AxesSubplot at 0x124c365c0>"
      ]
     },
     "execution_count": 140,
     "metadata": {},
     "output_type": "execute_result"
    },
    {
     "data": {
      "image/png": "[encoded data removed]",
      "text/plain": [
       "<matplotlib.figure.Figure at 0x125c22cc0>"
      ]
     },
     "metadata": {},
     "output_type": "display_data"
    }
   ],
   "source": [
    "#Distribution of price\n",
    "%matplotlib inline\n",
    "\n",
    "fig, axs = plt.subplots(ncols=2, figsize=(16, 4))\n",
    "fig.suptitle('Distribution of price (before and after removing high-priced outliers)')\n",
    "\n",
    "# Before cleaning\n",
    "x_axis=df['price'].dropna()\n",
    "sns.distplot(pd.Series(x_axis, name='Price (before cleaning)'), ax=axs[0])\n",
    "\n",
    "# Remove where price > 1000\n",
    "condition = df[df['price'] > 1000]\n",
    "rows_to_drop = condition.index\n",
    "print(\"You dropped {} rows.\".format(condition.shape[0]))\n",
    "df = df.drop(rows_to_drop, axis=0)\n",
    "print(\"Dataset has {} rows, {} columns.\".format(*df.shape))\n",
    "\n",
    "#After cleaning\n",
    "x_axis=df['price'].dropna()\n",
    "sns.distplot(pd.Series(x_axis, name='Price  (after cleaning)'), ax=axs[1])"
   ]
  },
  {
   "cell_type": "markdown",
   "metadata": {
    "hidden": true
   },
   "source": [
    "#### Changing rare category types into 'other' bucket\n",
    "For certain categories, we need to have a big enough sample set to ensure that it is statistically significant, i.e. the category is common enough to isolate correlation between that and predictor. This has an added benefit of reducing dimensionality. For property types, I create an 'Others' category for all except for the most common ones - Apartment, House and Bed & Breakfast."
   ]
  },
  {
   "cell_type": "code",
   "execution_count": 141,
   "metadata": {
    "ExecuteTime": {
     "end_time": "2017-09-12T19:01:54.428864Z",
     "start_time": "2017-09-12T19:01:54.408928Z"
    },
    "collapsed": false,
    "hidden": true
   },
   "outputs": [
    {
     "data": {
      "text/plain": [
       "Apartment             13478\n",
       "House                  4060\n",
       "Bed & Breakfast         360\n",
       "Townhouse               103\n",
       "Loft                     85\n",
       "Other                    83\n",
       "Guesthouse               37\n",
       "Serviced apartment       33\n",
       "Dorm                     33\n",
       "Boat                     32\n",
       "Bungalow                 19\n",
       "Condominium              18\n",
       "Cabin                    16\n",
       "Boutique hotel           10\n",
       "Hostel                    4\n",
       "Villa                     3\n",
       "Chalet                    2\n",
       "Lighthouse                1\n",
       "Yurt                      1\n",
       "Name: property_type, dtype: int64"
      ]
     },
     "execution_count": 141,
     "metadata": {},
     "output_type": "execute_result"
    }
   ],
   "source": [
    "df['property_type'].value_counts()"
   ]
  },
  {
   "cell_type": "code",
   "execution_count": 142,
   "metadata": {
    "ExecuteTime": {
     "end_time": "2017-09-12T19:01:54.511144Z",
     "start_time": "2017-09-12T19:01:54.431162Z"
    },
    "collapsed": false,
    "hidden": true
   },
   "outputs": [
    {
     "name": "stderr",
     "output_type": "stream",
     "text": [
      "//anaconda/lib/python3.6/site-packages/pandas/core/indexing.py:179: SettingWithCopyWarning: \n",
      "A value is trying to be set on a copy of a slice from a DataFrame\n",
      "\n",
      "See the caveats in the documentation: http://pandas.pydata.org/pandas-docs/stable/indexing.html#indexing-view-versus-copy\n",
      "  self._setitem_with_indexer(indexer, value)\n"
     ]
    }
   ],
   "source": [
    "categories_to_rename = ['Loft','Dorm','Guesthouse','Boutique hotel','Boat','Bungalow','Hostel',\n",
    "                        'Cabin','Serviced apartment','Camper/RV','Villa','Condominium','Chalet','Parking Space',\n",
    "                        'Tent','Yurt','Igloo','Ryokan (Japan)','Castle', 'Townhouse', 'Lighthouse']\n",
    "df['property_type'].loc[df['property_type'].isin(categories_to_rename)] = 'Other'"
   ]
  },
  {
   "cell_type": "code",
   "execution_count": 143,
   "metadata": {
    "collapsed": false,
    "hidden": true
   },
   "outputs": [
    {
     "name": "stderr",
     "output_type": "stream",
     "text": [
      "//anaconda/lib/python3.6/site-packages/pandas/core/indexing.py:179: SettingWithCopyWarning: \n",
      "A value is trying to be set on a copy of a slice from a DataFrame\n",
      "\n",
      "See the caveats in the documentation: http://pandas.pydata.org/pandas-docs/stable/indexing.html#indexing-view-versus-copy\n",
      "  self._setitem_with_indexer(indexer, value)\n"
     ]
    }
   ],
   "source": [
    "categories_to_rename = ['Pull-out Sofa', 'Futon', 'Couch', 'Airbed']\n",
    "df['bed_type'].loc[df['bed_type'].isin(categories_to_rename)] = 'Non-Real Bed'"
   ]
  },
  {
   "cell_type": "markdown",
   "metadata": {
    "hidden": true
   },
   "source": [
    "#### Calculation of yield"
   ]
  },
  {
   "cell_type": "markdown",
   "metadata": {
    "hidden": true
   },
   "source": [
    "As disuccsed earlier, **Yield** is defined as the amount of revenue that a property will earn over a year. This is calculated as follows:\n",
    "\n",
    "> AVERAGE LENGTH OF STAY X PRICE X NO. OF REVIEWS/MTH X REVIEW RATE X 12 MONTHS\n",
    "\n",
    "Using Inside AirBnb's San Franciso Model, an average length of stay in London is 3 nights with a review rate of 50%. Note that this is fairly conservative, and yield in reality is likely to be higher.\n",
    "\n",
    "Analysing the distributions for price, reviews and resulting yield makes intuitive sense. The bulk of listings are less than £100/night probably for a private room, and receive 1-4 bookings a month for stays over the weekend. This indicates occupancy rates of 10-50%, earning the average AirBnb host £15,739 per listing in a year, going up to £21,480 for upper quartile listings.\n",
    "\n",
    "Sense checking against the median [residential rents in Central London](https://www.london.gov.uk/what-we-do/housing-and-land/renting/london-rents-map, \"London Rent Map by Mayor of London office\") of £7,800 also supports the numbers."
   ]
  },
  {
   "cell_type": "code",
   "execution_count": 144,
   "metadata": {
    "ExecuteTime": {
     "end_time": "2017-09-12T19:01:55.135741Z",
     "start_time": "2017-09-12T19:01:54.612271Z"
    },
    "collapsed": false,
    "hidden": true,
    "scrolled": false
   },
   "outputs": [
    {
     "data": {
      "text/plain": [
       "<matplotlib.axes._subplots.AxesSubplot at 0x12535d898>"
      ]
     },
     "execution_count": 144,
     "metadata": {},
     "output_type": "execute_result"
    },
    {
     "data": {
      "image/png": "[encoded data removed]",
      "text/plain": [
       "<matplotlib.figure.Figure at 0x135a39160>"
      ]
     },
     "metadata": {},
     "output_type": "display_data"
    }
   ],
   "source": [
    "#Distribution of yield, availability_365, reviews_per_month\n",
    "%matplotlib inline\n",
    "\n",
    "fig, axs = plt.subplots(ncols=2, figsize=(16, 4))\n",
    "fig.suptitle('Distribution of variables for calculation of yield')\n",
    "x_axis=df['price'].dropna()\n",
    "sns.distplot(pd.Series(x_axis, name=x_axis.name), ax=axs[0])\n",
    "x_axis=df['reviews_per_month'].dropna()\n",
    "sns.distplot(pd.Series(x_axis, name=x_axis.name), ax=axs[1])"
   ]
  },
  {
   "cell_type": "code",
   "execution_count": 145,
   "metadata": {
    "ExecuteTime": {
     "end_time": "2017-09-12T19:01:55.153458Z",
     "start_time": "2017-09-12T19:01:55.137603Z"
    },
    "collapsed": false,
    "hidden": true
   },
   "outputs": [
    {
     "name": "stdout",
     "output_type": "stream",
     "text": [
      "Dataset has 18378 rows, 17 columns.\n"
     ]
    }
   ],
   "source": [
    "# Calculate yield\n",
    "\n",
    "# Average length of stay (by city) X Price ('price') X No. of reviews('reviews_per_month') / Review rate('50%')\n",
    "avg_length_of_stay_london = 3\n",
    "review_rate = 0.5\n",
    "df['price'] = df['price'] + df['cleaning_fee']\n",
    "df['yield'] = avg_length_of_stay_london * df['price'] * (df['reviews_per_month'] / review_rate) * 12\n",
    "\n",
    "cols_to_drop = ['cleaning_fee']\n",
    "df = df.drop(cols_to_drop, axis = 1)\n",
    "print(\"Dataset has {} rows, {} columns.\".format(*df.shape))"
   ]
  },
  {
   "cell_type": "code",
   "execution_count": 146,
   "metadata": {
    "ExecuteTime": {
     "end_time": "2017-09-12T19:01:55.486208Z",
     "start_time": "2017-09-12T19:01:55.155387Z"
    },
    "collapsed": false,
    "hidden": true,
    "scrolled": false
   },
   "outputs": [
    {
     "data": {
      "image/png": "[encoded data removed]",
      "text/plain": [
       "<matplotlib.figure.Figure at 0x12535c400>"
      ]
     },
     "metadata": {},
     "output_type": "display_data"
    }
   ],
   "source": [
    "%matplotlib inline\n",
    "fig, ax = plt.subplots(figsize=(15,6))\n",
    "fig.suptitle('Distribution of Yield (showing only <£20,000/month)')\n",
    "x_axes = df['yield'].dropna()\n",
    "x = pd.Series(x_axis, name=x_axis.name)\n",
    "ax = sns.distplot(x)"
   ]
  },
  {
   "cell_type": "code",
   "execution_count": 147,
   "metadata": {
    "collapsed": false,
    "hidden": true
   },
   "outputs": [
    {
     "data": {
      "text/plain": [
       "count      9722.000000\n",
       "mean      15739.358560\n",
       "std       17900.206348\n",
       "min          82.080000\n",
       "25%        3830.400000\n",
       "50%        9288.000000\n",
       "75%       21480.660000\n",
       "max      250560.000000\n",
       "Name: yield, dtype: float64"
      ]
     },
     "execution_count": 147,
     "metadata": {},
     "output_type": "execute_result"
    }
   ],
   "source": [
    "df['yield'].describe()"
   ]
  },
  {
   "cell_type": "markdown",
   "metadata": {
    "hidden": true
   },
   "source": [
    "#### Missing values"
   ]
  },
  {
   "cell_type": "markdown",
   "metadata": {
    "hidden": true
   },
   "source": [
    "A preview of the dataset above shows that there are missing values in some of the features such as 'beds', 'price' and 'reviews_per_month'. Depending on the nature of the column, we will treat missing values differently.\n",
    "\n",
    "In 'square_feet', almost 90% of the rows are missing and I will choose to remove the feature completely\n",
    "\n",
    "As 'yield' is an important target variable, I will completely remove any rows that have this datum missing. This will also take care of 'price' and 'reviews_per_month' as those are the required data to calculate 'yield'.\n",
    "\n",
    "For the remaining features with a small number of missing values, I impute the categorical features with the most frequent category and numericla features with the median."
   ]
  },
  {
   "cell_type": "code",
   "execution_count": 148,
   "metadata": {
    "ExecuteTime": {
     "end_time": "2017-09-12T19:02:02.007272Z",
     "start_time": "2017-09-12T19:02:01.998723Z"
    },
    "collapsed": true,
    "hidden": true
   },
   "outputs": [],
   "source": [
    "from sklearn.base import TransformerMixin\n",
    "\n",
    "class DataFrameImputer(TransformerMixin):\n",
    "\n",
    "    def __init__(self):\n",
    "        \"\"\"Impute missing values.\n",
    "\n",
    "        Columns of dtype object are imputed with the most frequent value \n",
    "        in column.\n",
    "\n",
    "        Columns of other types are imputed with mean of column.\n",
    "\n",
    "        \"\"\"\n",
    "    def fit(self, X, y=None):\n",
    "\n",
    "        self.fill = pd.Series([X[c].value_counts().index[0]\n",
    "            if X[c].dtype == np.dtype('O') else X[c].mean() for c in X],\n",
    "            index=X.columns)\n",
    "\n",
    "        return self\n",
    "\n",
    "    def transform(self, X, y=None):\n",
    "        return X.fillna(self.fill)"
   ]
  },
  {
   "cell_type": "code",
   "execution_count": 149,
   "metadata": {
    "ExecuteTime": {
     "end_time": "2017-09-12T19:02:02.184018Z",
     "start_time": "2017-09-12T19:02:02.009131Z"
    },
    "collapsed": false,
    "hidden": true,
    "scrolled": true
   },
   "outputs": [
    {
     "name": "stdout",
     "output_type": "stream",
     "text": [
      "Dataset has 9722 rows, 16 columns.\n"
     ]
    }
   ],
   "source": [
    "# Remove missing yield values\n",
    "df = df.dropna(subset=['yield'])\n",
    "\n",
    "# Remove square_feet as it is too sparse.\n",
    "df = df.drop('square_feet', axis=1)\n",
    "\n",
    "# Impute most frequent for categorical features\n",
    "categorical_feats = df.select_dtypes(include=['object']).columns\n",
    "df[categorical_feats] = DataFrameImputer().fit_transform(df[categorical_feats])\n",
    "\n",
    "# Impute median for numerical features\n",
    "num_feats = df.select_dtypes(include=[np.number]).columns\n",
    "imp = Imputer(missing_values=np.nan, strategy='median', axis=0)\n",
    "df[num_feats] = imp.fit_transform(df[num_feats])\n",
    "\n",
    "print(\"Dataset has {} rows, {} columns.\".format(*df.shape))"
   ]
  },
  {
   "cell_type": "code",
   "execution_count": 150,
   "metadata": {
    "collapsed": false,
    "hidden": true
   },
   "outputs": [
    {
     "data": {
      "text/plain": [
       "False"
      ]
     },
     "execution_count": 150,
     "metadata": {},
     "output_type": "execute_result"
    }
   ],
   "source": [
    "df.isnull().values.any()"
   ]
  },
  {
   "cell_type": "markdown",
   "metadata": {
    "hidden": true
   },
   "source": [
    "#### Topic modelling (Description)"
   ]
  },
  {
   "cell_type": "markdown",
   "metadata": {
    "hidden": true
   },
   "source": [
    "For textual information, we use a Natural Language Processing pipeline to convert the corpus into a Document-Term-Matrix, whereby each listing (document) consists of a matrix of terms (processed words). With this in place, we can use Latent Dirichlet Allocation (LDA) to discover topics inherent in the corpus, classify the corpus according to the learned topics and use them as features for the regression model.<br><br>\n",
    "\n",
    "<div class=\"alert alert-block alert-info\">LDA is a generative Bayesian inference model that associates each document with a probability distribution over topics, where topics are probability distributions over words. It is an efficient way to analyse large volumes of text and is a more human interpretable method of topic modelling.</div>\n",
    "\n",
    "In this project, I model the listing descriptions using LDA to explore emerging topics. The listing description field contains the bulk of the textual information found in a listing, and may contain important information that is not captured elsewhere. What emergent topics might we see from the rich text describing the history of a home, a host's beloved neighbourhood or it's carefully curated interiors?"
   ]
  },
  {
   "cell_type": "code",
   "execution_count": 151,
   "metadata": {
    "ExecuteTime": {
     "end_time": "2017-09-12T19:02:02.227253Z",
     "start_time": "2017-09-12T19:02:02.219064Z"
    },
    "collapsed": false,
    "hidden": true
   },
   "outputs": [
    {
     "name": "stdout",
     "output_type": "stream",
     "text": [
      "Dataset has 9722 rows, 15 columns.\n"
     ]
    }
   ],
   "source": [
    "# Seperate NLP features\n",
    "nlp_feats = ['description']\n",
    "corpus = df[nlp_feats]\n",
    "df = df.drop(nlp_feats, axis = 1)\n",
    "print(\"Dataset has {} rows, {} columns.\".format(*df.shape))"
   ]
  },
  {
   "cell_type": "code",
   "execution_count": 152,
   "metadata": {
    "ExecuteTime": {
     "end_time": "2017-09-12T19:03:41.550581Z",
     "start_time": "2017-09-12T19:03:40.760610Z"
    },
    "collapsed": false,
    "hidden": true
   },
   "outputs": [],
   "source": [
    "import nltk\n",
    "nltk.data.path.append(\"/Users/joaeechew/dev/nltk_data\")\n",
    "\n",
    "from nltk import word_tokenize\n",
    "from nltk.tokenize import RegexpTokenizer\n",
    "from nltk.corpus import stopwords\n",
    "from nltk.stem import WordNetLemmatizer\n",
    "\n",
    "from gensim.corpora.dictionary import Dictionary\n",
    "from gensim.models.tfidfmodel import TfidfModel\n",
    "from gensim.models.ldamodel import LdaModel\n",
    "\n",
    "import itertools\n",
    "from collections import Counter\n",
    "from collections import defaultdict\n",
    "\n",
    "import json\n",
    "import pyLDAvis.gensim\n",
    "pyLDAvis.enable_notebook()"
   ]
  },
  {
   "cell_type": "code",
   "execution_count": 153,
   "metadata": {
    "ExecuteTime": {
     "end_time": "2017-09-12T19:03:50.610528Z",
     "start_time": "2017-09-12T19:03:50.601387Z"
    },
    "collapsed": false,
    "hidden": true
   },
   "outputs": [],
   "source": [
    "def preprocess_text(corpus):\n",
    "    \"\"\"Takes a corpus in list format and applies basic preprocessing steps of word tokenization,\n",
    "     removing of english stop words, lower case and lemmatization.\"\"\"\n",
    "    processed_corpus = []\n",
    "    english_words = set(nltk.corpus.words.words())\n",
    "    english_stopwords = set(stopwords.words('english'))\n",
    "    wordnet_lemmatizer = WordNetLemmatizer()\n",
    "    tokenizer = RegexpTokenizer(r'[\\w|!]+')\n",
    "    for row in corpus:\n",
    "        word_tokens = tokenizer.tokenize(row)\n",
    "        word_tokens_lower = [t.lower() for t in word_tokens]\n",
    "        word_tokens_lower_english = [t for t in word_tokens_lower if t in english_words or not t.isalpha()]\n",
    "        word_tokens_no_stops = [t for t in word_tokens_lower_english if not t in english_stopwords]\n",
    "        word_tokens_no_stops_lemmatized = [wordnet_lemmatizer.lemmatize(t) for t in word_tokens_no_stops]\n",
    "        processed_corpus.append(word_tokens_no_stops_lemmatized)\n",
    "    return processed_corpus"
   ]
  },
  {
   "cell_type": "code",
   "execution_count": 154,
   "metadata": {
    "ExecuteTime": {
     "end_time": "2017-09-12T19:07:05.131021Z",
     "start_time": "2017-09-12T19:07:05.126365Z"
    },
    "collapsed": true,
    "hidden": true
   },
   "outputs": [],
   "source": [
    "def nlp_model_pipeline(processed_corpus):\n",
    "    \"\"\"Takes processed corpus and produce dictionary, doc_term_matrix and LDA model\"\"\"\n",
    "    # Creates the term dictionary (every unique term in corpus is assigned an index)\n",
    "    dictionary = Dictionary(processed_corpus)\n",
    "    # Convert corpus into Document Term Matrix using dictionary prepared above\n",
    "    doc_term_matrix = [dictionary.doc2bow(listing) for listing in processed_corpus]    \n",
    "    return dictionary, doc_term_matrix"
   ]
  },
  {
   "cell_type": "code",
   "execution_count": 155,
   "metadata": {
    "ExecuteTime": {
     "end_time": "2017-09-12T19:05:05.726962Z",
     "start_time": "2017-09-12T19:05:05.722073Z"
    },
    "collapsed": false,
    "hidden": true
   },
   "outputs": [],
   "source": [
    "def LDA_topic_modelling(doc_term_matrix, dictionary, num_topics=3, passes=2):\n",
    "    # Create an object for LDA model and train it on Document-Term-Matrix\n",
    "    LDA = LdaModel\n",
    "    ldamodel = LDA(doc_term_matrix, num_topics=num_topics, id2word = dictionary, passes=passes)\n",
    "    return ldamodel"
   ]
  },
  {
   "cell_type": "code",
   "execution_count": 156,
   "metadata": {
    "collapsed": true,
    "hidden": true
   },
   "outputs": [],
   "source": [
    "def add_topics_to_df(ldamodel, doc_term_matrix, df, new_col, num_topics):\n",
    "    # Convert into Per-document topic probability matrix:\n",
    "    docTopicProbMat = ldamodel[doc_term_matrix]\n",
    "    docTopicProbDf = pd.DataFrame(index=df.index, columns=range(0, num_topics))\n",
    "    for i, doc in enumerate(docTopicProbMat):\n",
    "        for topic in doc:\n",
    "            docTopicProbDf.iloc[i, topic[0]] = topic[1]\n",
    "    docTopicProbDf[new_col] = docTopicProbDf.idxmax(axis=1)\n",
    "    df_topics = docTopicProbDf[new_col]\n",
    "    # Merge with df\n",
    "    df_new = pd.concat([df, df_topics], axis=1)\n",
    "    return df_new"
   ]
  },
  {
   "cell_type": "code",
   "execution_count": 157,
   "metadata": {
    "collapsed": false,
    "hidden": true,
    "scrolled": false
   },
   "outputs": [
    {
     "data": {
      "text/html": [
       "<div>\n",
       "<style>\n",
       "    .dataframe thead tr:only-child th {\n",
       "        text-align: right;\n",
       "    }\n",
       "\n",
       "    .dataframe thead th {\n",
       "        text-align: left;\n",
       "    }\n",
       "\n",
       "    .dataframe tbody tr th {\n",
       "        vertical-align: top;\n",
       "    }\n",
       "</style>\n",
       "<table border=\"1\" class=\"dataframe\">\n",
       "  <thead>\n",
       "    <tr style=\"text-align: right;\">\n",
       "      <th></th>\n",
       "      <th>description</th>\n",
       "    </tr>\n",
       "    <tr>\n",
       "      <th>id</th>\n",
       "      <th></th>\n",
       "    </tr>\n",
       "  </thead>\n",
       "  <tbody>\n",
       "    <tr>\n",
       "      <th>14912894</th>\n",
       "      <td>Lovely bright and sunny room overlooking the g...</td>\n",
       "    </tr>\n",
       "    <tr>\n",
       "      <th>14296637</th>\n",
       "      <td>My place is situated about 10-15mins walking d...</td>\n",
       "    </tr>\n",
       "    <tr>\n",
       "      <th>6222799</th>\n",
       "      <td>Sunny ensuite room in the newly converted loft...</td>\n",
       "    </tr>\n",
       "    <tr>\n",
       "      <th>7327883</th>\n",
       "      <td>Surbiton is very convenient  for getting into ...</td>\n",
       "    </tr>\n",
       "    <tr>\n",
       "      <th>7515814</th>\n",
       "      <td>Our one bedroom apartment is a comfortable spa...</td>\n",
       "    </tr>\n",
       "  </tbody>\n",
       "</table>\n",
       "</div>"
      ],
      "text/plain": [
       "                                                description\n",
       "id                                                         \n",
       "14912894  Lovely bright and sunny room overlooking the g...\n",
       "14296637  My place is situated about 10-15mins walking d...\n",
       "6222799   Sunny ensuite room in the newly converted loft...\n",
       "7327883   Surbiton is very convenient  for getting into ...\n",
       "7515814   Our one bedroom apartment is a comfortable spa..."
      ]
     },
     "execution_count": 157,
     "metadata": {},
     "output_type": "execute_result"
    }
   ],
   "source": [
    "corpus.head()"
   ]
  },
  {
   "cell_type": "code",
   "execution_count": 158,
   "metadata": {
    "ExecuteTime": {
     "end_time": "2017-09-12T19:15:00.948633Z",
     "start_time": "2017-09-12T19:14:27.369324Z"
    },
    "collapsed": false,
    "hidden": true,
    "scrolled": false
   },
   "outputs": [
    {
     "name": "stdout",
     "output_type": "stream",
     "text": [
      "CPU times: user 6.55 s, sys: 82.2 ms, total: 6.63 s\n",
      "Wall time: 6.71 s\n"
     ]
    }
   ],
   "source": [
    "%%time\n",
    "corpus_description = corpus['description'].astype(str)\n",
    "processed_corpus_description = preprocess_text(corpus_description)\n",
    "dictionary_description, doc_term_matrix_description = nlp_model_pipeline(processed_corpus_description)"
   ]
  },
  {
   "cell_type": "code",
   "execution_count": 159,
   "metadata": {
    "collapsed": false,
    "hidden": true,
    "scrolled": true
   },
   "outputs": [
    {
     "name": "stdout",
     "output_type": "stream",
     "text": [
      "CPU times: user 24.3 s, sys: 39 ms, total: 24.3 s\n",
      "Wall time: 24.3 s\n"
     ]
    }
   ],
   "source": [
    "%%time\n",
    "ldamodel_description = LDA_topic_modelling(doc_term_matrix_description, dictionary_description, num_topics=3, passes=1)"
   ]
  },
  {
   "cell_type": "markdown",
   "metadata": {
    "hidden": true
   },
   "source": [
    "### Exploratory Visualization"
   ]
  },
  {
   "cell_type": "markdown",
   "metadata": {
    "hidden": true
   },
   "source": [
    "In this section, you will need to provide some form of visualization that summarizes or extracts a relevant characteristic or feature about the data. The visualization should adequately support the data being used. Discuss why this visualization was chosen and how it is relevant. Questions to ask yourself when writing this section:\n",
    "- _Have you visualized a relevant characteristic or feature about the dataset or input data?_\n",
    "- _Is the visualization thoroughly analyzed and discussed?_\n",
    "- _If a plot is provided, are the axes, title, and datum clearly defined?_"
   ]
  },
  {
   "cell_type": "code",
   "execution_count": 160,
   "metadata": {
    "collapsed": false,
    "hidden": true,
    "scrolled": false
   },
   "outputs": [
    {
     "name": "stdout",
     "output_type": "stream",
     "text": [
      "CPU times: user 15.6 s, sys: 123 ms, total: 15.7 s\n",
      "Wall time: 16.1 s\n"
     ]
    },
    {
     "data": {
      "text/html": [
       "\n",
       "<link rel=\"stylesheet\" type=\"text/css\" href=\"https://cdn.rawgit.com/bmabey/pyLDAvis/files/ldavis.v1.0.0.css\">\n",
       "\n",
       "\n",
       "<div id=\"ldavis_el597249647978009710544757\"></div>\n",
       "<script type=\"text/javascript\">\n",
       "\n",
       "var ldavis_el597249647978009710544757_data = {\"mdsDat\": {\"Freq\": [39.76075612861349, 33.36518186589485, 26.874062005491666], \"cluster\": [1, 1, 1], \"topics\": [1, 2, 3], \"x\": [-0.04714965282552199, 0.00016066850203869167, 0.04698898432348334], \"y\": [0.017549884014024263, -0.035280409603088564, 0.017730525589064287]}, \"tinfo\": {\"Category\": [\"Default\", \"Default\", \"Default\", \"Default\", \"Default\", \"Default\", \"Default\", \"Default\", \"Default\", \"Default\", \"Default\", \"Default\", \"Default\", \"Default\", \"Default\", \"Default\", \"Default\", \"Default\", \"Default\", \"Default\", \"Default\", \"Default\", \"Default\", \"Default\", \"Default\", \"Default\", \"Default\", \"Default\", \"Default\", \"Default\", \"Topic1\", \"Topic1\", \"Topic1\", \"Topic1\", \"Topic1\", \"Topic1\", \"Topic1\", \"Topic1\", \"Topic1\", \"Topic1\", \"Topic1\", \"Topic1\", \"Topic1\", \"Topic1\", \"Topic1\", \"Topic1\", \"Topic1\", \"Topic1\", \"Topic1\", \"Topic1\", \"Topic1\", \"Topic1\", \"Topic1\", \"Topic1\", \"Topic1\", \"Topic1\", \"Topic1\", \"Topic1\", \"Topic1\", \"Topic1\", \"Topic1\", \"Topic1\", \"Topic1\", \"Topic1\", \"Topic1\", \"Topic1\", \"Topic1\", \"Topic1\", \"Topic1\", \"Topic1\", \"Topic1\", \"Topic1\", \"Topic1\", \"Topic1\", \"Topic1\", \"Topic1\", \"Topic1\", \"Topic1\", \"Topic1\", \"Topic1\", \"Topic1\", \"Topic1\", \"Topic1\", \"Topic1\", \"Topic1\", \"Topic1\", \"Topic1\", \"Topic1\", \"Topic1\", \"Topic1\", \"Topic1\", \"Topic1\", \"Topic1\", \"Topic1\", \"Topic1\", \"Topic1\", \"Topic1\", \"Topic1\", \"Topic1\", \"Topic1\", \"Topic1\", \"Topic1\", \"Topic1\", \"Topic1\", \"Topic1\", \"Topic1\", \"Topic1\", \"Topic1\", \"Topic1\", \"Topic1\", \"Topic1\", \"Topic1\", \"Topic1\", \"Topic1\", \"Topic1\", \"Topic1\", \"Topic1\", \"Topic2\", \"Topic2\", \"Topic2\", \"Topic2\", \"Topic2\", \"Topic2\", \"Topic2\", \"Topic2\", \"Topic2\", \"Topic2\", \"Topic2\", \"Topic2\", \"Topic2\", \"Topic2\", \"Topic2\", \"Topic2\", \"Topic2\", \"Topic2\", \"Topic2\", \"Topic2\", \"Topic2\", \"Topic2\", \"Topic2\", \"Topic2\", \"Topic2\", \"Topic2\", \"Topic2\", \"Topic2\", \"Topic2\", \"Topic2\", \"Topic2\", \"Topic2\", \"Topic2\", \"Topic2\", \"Topic2\", \"Topic2\", \"Topic2\", \"Topic2\", \"Topic2\", \"Topic2\", \"Topic2\", \"Topic2\", \"Topic2\", \"Topic2\", \"Topic2\", \"Topic2\", \"Topic2\", \"Topic2\", \"Topic2\", \"Topic2\", \"Topic2\", \"Topic2\", \"Topic2\", \"Topic2\", \"Topic2\", \"Topic2\", \"Topic2\", \"Topic2\", \"Topic2\", \"Topic2\", \"Topic2\", \"Topic2\", \"Topic2\", \"Topic2\", \"Topic2\", \"Topic2\", \"Topic2\", \"Topic2\", \"Topic2\", \"Topic2\", \"Topic2\", \"Topic2\", \"Topic2\", \"Topic2\", \"Topic2\", \"Topic2\", \"Topic2\", \"Topic2\", \"Topic2\", \"Topic2\", \"Topic2\", \"Topic2\", \"Topic2\", \"Topic2\", \"Topic2\", \"Topic2\", \"Topic2\", \"Topic2\", \"Topic3\", \"Topic3\", \"Topic3\", \"Topic3\", \"Topic3\", \"Topic3\", \"Topic3\", \"Topic3\", \"Topic3\", \"Topic3\", \"Topic3\", \"Topic3\", \"Topic3\", \"Topic3\", \"Topic3\", \"Topic3\", \"Topic3\", \"Topic3\", \"Topic3\", \"Topic3\", \"Topic3\", \"Topic3\", \"Topic3\", \"Topic3\", \"Topic3\", \"Topic3\", \"Topic3\", \"Topic3\", \"Topic3\", \"Topic3\", \"Topic3\", \"Topic3\", \"Topic3\", \"Topic3\", \"Topic3\", \"Topic3\", \"Topic3\", \"Topic3\", \"Topic3\", \"Topic3\", \"Topic3\", \"Topic3\", \"Topic3\", \"Topic3\", \"Topic3\", \"Topic3\", \"Topic3\", \"Topic3\", \"Topic3\", \"Topic3\", \"Topic3\", \"Topic3\", \"Topic3\", \"Topic3\", \"Topic3\", \"Topic3\", \"Topic3\", \"Topic3\", \"Topic3\", \"Topic3\", \"Topic3\", \"Topic3\", \"Topic3\", \"Topic3\", \"Topic3\", \"Topic3\", \"Topic3\", \"Topic3\", \"Topic3\", \"Topic3\", \"Topic3\", \"Topic3\", \"Topic3\", \"Topic3\", \"Topic3\", \"Topic3\", \"Topic3\", \"Topic3\", \"Topic3\", \"Topic3\", \"Topic3\", \"Topic3\", \"Topic3\", \"Topic3\", \"Topic3\", \"Topic3\", \"Topic3\", \"Topic3\", \"Topic3\", \"Topic3\", \"Topic3\"], \"Freq\": [9090.0, 8519.0, 6032.0, 3989.0, 7916.0, 10758.0, 2621.0, 907.0, 3442.0, 1163.0, 3616.0, 2646.0, 7529.0, 946.0, 1564.0, 5060.0, 635.0, 3738.0, 1718.0, 536.0, 8447.0, 566.0, 1051.0, 637.0, 2455.0, 1713.0, 774.0, 1929.0, 5465.0, 1939.0, 28.68259201687443, 18.30431484714504, 19.703853687802678, 16.306567764445003, 12.362986303917335, 23.24363042704139, 11.47119856784665, 12.118095602219048, 12.372438141296561, 15.057051620786128, 32.42906880915931, 11.356265760406048, 22.95885251641233, 13.155769922620701, 9.01480110898876, 10.812130535136895, 7.7638939488196455, 7.7638939488196455, 11.53387132272478, 17.226493379405078, 12.439314782191452, 85.99685588246498, 23.08491653492946, 9.047928939757595, 13.337917594569507, 7.473410828564712, 10.747582127936967, 14.211371222412694, 8.32027213928009, 180.15714349917656, 190.7185524105405, 634.947456765637, 631.6051513517743, 1292.7840676108046, 58.92423550663908, 420.63101028912007, 160.8340746814013, 4478.914798467781, 1494.7574246695665, 521.7625403202712, 103.34368481429482, 1469.5790426850022, 1830.9166872902715, 5526.755661023675, 1384.860203887233, 60.91894952471548, 1527.7731737382446, 467.94480678616037, 1582.4940172850029, 422.5082253693044, 121.34387811298502, 2549.3450285018816, 1572.4652643116228, 929.7184332833092, 1107.2373501743148, 658.6802586675444, 370.22661300892895, 925.0469208103526, 1937.1892772072517, 2393.0484967997268, 1849.1045407941544, 470.53963549444984, 1264.1883135420107, 2363.7008078812337, 828.3185984899299, 5267.894085476861, 2935.1205906252394, 2065.6169408648234, 2102.748787565697, 4063.539971797895, 2449.427704055184, 2044.5897120503469, 1621.9142072419218, 1426.8355519064005, 2118.5375019605012, 3046.995959120048, 1702.846086612099, 2336.1877438171528, 2493.3912332878276, 2781.6598217786996, 2250.447848522069, 1862.5307918293142, 1865.1573004248262, 2050.7221604062197, 1719.0178949057088, 1639.430410732798, 1646.881869689034, 20.61948942157697, 18.715588753887445, 21.294365674769093, 16.625937066267255, 11.436115333293655, 16.472804338413216, 13.05892732242657, 31.580601377641877, 23.889232572619488, 10.20630462271643, 13.415765072236367, 9.758713024871424, 9.070550864948476, 20.917912012208372, 16.52721437099141, 17.64920141248258, 14.404350220513125, 13.29472493752241, 13.136437284557887, 13.96098928580992, 9.30855508415451, 10.255180194530476, 7.397970411584942, 7.394508892950496, 10.09035063762167, 13.219050004638328, 15.626073117902397, 13.19369103254743, 7.72713799939939, 14.681640531928918, 104.81262356140587, 33.495552804627344, 27.99986824168459, 87.88867255802177, 599.0525830266688, 38.69265351882695, 18.433179001075786, 2687.5999542912105, 42.10146194840199, 2266.232344359233, 115.23769685906538, 158.64938039343232, 479.8906777838592, 113.74805949139291, 397.4070522506472, 289.17077712152917, 2167.581796343586, 78.97061134645429, 34.452518077110135, 1186.276525844166, 313.7076661055561, 140.2833025180091, 1464.467455841839, 1615.190825519462, 2533.694622032105, 4544.762767259783, 3747.22560229598, 453.78258935671386, 1919.1005469529975, 432.5929853858826, 511.42421045951914, 656.3666047274895, 2317.257051117823, 583.142367589462, 3350.5134074898756, 1511.1499679341157, 4131.160804711777, 1084.1675995079108, 1672.7654061714845, 1981.3629772365857, 986.4754461822898, 733.7491148878476, 640.811589976413, 2506.4012104276767, 2735.1168502138, 1956.1338654142949, 1236.7605929599029, 1427.3086225338157, 1098.6807731124175, 1867.581655315657, 1475.6078647874251, 1370.8975256723022, 1510.1400542035028, 1159.8048175624908, 1545.515263283897, 1403.3853151086205, 1257.393834354824, 1318.046214106028, 49.36019771724682, 34.176814612919756, 25.427017768783216, 31.993487549812926, 13.509266701021762, 12.03810561927709, 13.720381471685897, 15.384522020179475, 10.766136784101885, 19.50597909636262, 21.362815987942554, 15.879507945082757, 10.618419696604148, 23.205196490491513, 9.440099764351457, 7.9541940365840045, 8.537280874810904, 9.231901650192906, 15.224739749577942, 25.078077677528547, 9.721558384659676, 15.198089882905972, 13.278122354218246, 16.214665032534956, 10.582731992546446, 12.23292624818013, 8.606478267321739, 13.40703597646122, 10.336359150017817, 42.51883991824651, 48.324211540020954, 35.02698864845163, 469.5605907654252, 163.71737076244915, 284.7792563466041, 479.44562285061363, 523.8125061965616, 68.32118475416483, 734.7748019016514, 358.9251537473514, 495.2323270716682, 143.98230419574335, 708.5337694830575, 196.58691111252028, 228.10402205111902, 52.36039596382086, 816.4242046274962, 151.66788334855983, 86.10037319838474, 208.79987274634135, 138.03950893186325, 99.0944692666504, 227.95647710646864, 209.72103014438096, 209.2203261744988, 670.8086378185739, 220.4274324662174, 1463.8024143737728, 4166.625269249337, 3733.8513357173388, 1368.7489840457447, 889.6666199853345, 683.0166004437477, 1546.3309972517716, 871.7179856035491, 488.5986131010381, 2772.2408372334144, 3431.9812845296346, 719.016734453599, 1806.8150446341215, 2603.216429878469, 1170.5577602062476, 807.3802976441094, 955.3006836243646, 1790.365760493517, 1870.5579098038377, 861.6471122603576, 2003.121045216568, 1454.2211890019764, 1278.836973404364, 1110.58388818601, 1251.6340705138518, 1657.2192138300477, 1135.8433429632332, 1017.9394830389427, 1182.9240851629877, 851.3717855716412, 999.0111208755152, 1071.5492773539017, 841.1497891937433, 830.7001433279967], \"Term\": [\"apartment\", \"bed\", \"station\", \"house\", \"walk\", \"room\", \"shower\", \"oven\", \"1\", \"check\", \"garden\", \"sofa\", \"double\", \"microwave\", \"line\", \"large\", \"freezer\", \"space\", \"table\", \"hob\", \"kitchen\", \"toaster\", \"linen\", \"kettle\", \"10\", \"machine\", \"angel\", \"min\", \"living\", \"minute\", \"10minutes\", \"millennium\", \"sights!\", \"vibrancy\", \"unable\", \"curry\", \"decorate\", \"branch\", \"warf\", \"interchange\", \"piazza\", \"388\", \"solution\", \"empire\", \"254\", \"odeon\", \"keystone\", \"poter\", \"10mn\", \"ferry\", \"portrait\", \"financial\", \"10th\", \"brawn\", \"25min\", \"1400\", \"lift!\", \"entirety\", \"watering\", \"jubilee\", \"arsenal\", \"canary\", \"wharf\", \"line\", \"cab\", \"stop\", \"o2\", \"station\", \"min\", \"tower\", \"cathedral\", \"minute\", \"10\", \"walk\", \"distance\", \"cycle\", \"bus\", \"bridge\", \"walking\", \"museum\", \"grocery\", \"tube\", \"within\", \"15\", \"st\", \"overground\", \"ride\", \"underground\", \"5\", \"away\", \"city\", \"circus\", \"market\", \"park\", \"cross\", \"flat\", \"street\", \"great\", \"close\", \"apartment\", \"central\", \"place\", \"location\", \"road\", \"one\", \"bedroom\", \"modern\", \"2\", \"kitchen\", \"room\", \"double\", \"area\", \"bathroom\", \"bed\", \"access\", \"two\", \"floor\", \"row\", \"composed\", \"field\", \"rocking\", \"grown\", \"warmer\", \"safely\", \"salt\", \"20th\", \"trouble\", \"pitch\", \"absorbed\", \"pineapple\", \"adorable\", \"pepper\", \"21st\", \"reflection\", \"toasty\", \"spoiled\", \"exit\", \"process\", \"pine\", \"emotion\", \"cultivate\", \"mangal\", \"fountain\", \"crazy\", \"tasty\", \"spanking\", \"circular\", \"cat\", \"aim\", \"heat\", \"manor\", \"angel\", \"barking\", \"housemate\", \"house\", \"toddler\", \"garden\", \"basement\", \"tree\", \"back\", \"century\", \"desk\", \"original\", \"space\", \"secluded\", \"cold\", \"use\", \"onto\", \"lined\", \"comfortable\", \"home\", \"living\", \"room\", \"bedroom\", \"work\", \"access\", \"super\", \"comfy\", \"plenty\", \"area\", \"make\", \"kitchen\", \"quiet\", \"flat\", \"light\", \"place\", \"large\", \"dining\", \"small\", \"welcome\", \"double\", \"bed\", \"bathroom\", \"private\", \"also\", \"lovely\", \"2\", \"floor\", \"close\", \"one\", \"stay\", \"street\", \"central\", \"two\", \"walk\", \"triple\", \"confirmed\", \"enclosure\", \"plate\", \"shiny\", \"frosted\", \"ball\", \"dis\", \"therapist\", \"vacuum\", \"assistant\", \"185\", \"miniature\", \"con\", \"00am\", \"06\", \"farrow\", \"nw1\", \"accurate\", \"calendar\", \"4ft6\", \"incur\", \"launch\", \"sheet\", \"00pm\", \"missing\", \"ambulant\", \"end!\", \"dairy\", \"glassware\", \"washbasin\", \"7pm\", \"hob\", \"crockery\", \"cutlery\", \"toaster\", \"freezer\", \"plasma\", \"oven\", \"iron\", \"kettle\", \"fee\", \"microwave\", \"mirror\", \"x\", \"rack\", \"check\", \"kitchenette\", \"lamp\", \"electric\", \"towel\", \"00\", \"hair\", \"board\", \"cooker\", \"linen\", \"per\", \"shower\", \"apartment\", \"bed\", \"sofa\", \"machine\", \"provided\", \"1\", \"table\", \"dishwasher\", \"double\", \"room\", \"washing\", \"large\", \"kitchen\", \"fully\", \"free\", \"new\", \"bathroom\", \"2\", \"people\", \"bedroom\", \"living\", \"floor\", \"two\", \"area\", \"flat\", \"one\", \"modern\", \"street\", \"high\", \"central\", \"walk\", \"spacious\", \"also\"], \"Total\": [9090.0, 8519.0, 6032.0, 3989.0, 7916.0, 10758.0, 2621.0, 907.0, 3442.0, 1163.0, 3616.0, 2646.0, 7529.0, 946.0, 1564.0, 5060.0, 635.0, 3738.0, 1718.0, 536.0, 8447.0, 566.0, 1051.0, 637.0, 2455.0, 1713.0, 774.0, 1929.0, 5465.0, 1939.0, 30.09674745263237, 19.24914503407634, 20.891525689391134, 17.396965763281415, 13.231253410160985, 24.921629815138694, 12.325321706445406, 13.036543668161416, 13.355778095935952, 16.25948600227568, 35.101760276537775, 12.295866341954198, 24.892621977202285, 14.298828230095914, 9.806829048927986, 11.805642344010613, 8.483542625608381, 8.483542625608381, 12.625739299924632, 18.894497496240046, 13.650050763007874, 94.56977780148897, 25.391608101767766, 9.97515345073025, 14.70938099511357, 8.24285841809173, 11.899685487998736, 15.761649245852801, 9.23313487543579, 199.99110480459137, 213.93001092191219, 735.0470921288887, 736.3928589966938, 1564.4257871945188, 67.13746399196863, 510.8604597945478, 191.77195453041801, 6032.732333969486, 1929.381371402292, 646.0144306819316, 121.97898209546642, 1939.7401788002087, 2455.6020370773363, 7916.351152483605, 1872.498123905867, 70.74353155168916, 2107.8500270056006, 607.5631454766983, 2192.66963360115, 553.90401734793, 147.05795381119768, 3773.2805390221765, 2270.8060069600433, 1292.0454480836495, 1569.7112337839985, 899.0793758194372, 490.2916955452072, 1330.4807250172887, 3022.425538476651, 3827.5783585527493, 2901.5821975646413, 646.2295006878167, 1942.4746455301615, 4063.7615784545087, 1245.1504685571674, 11056.274104018685, 5663.559939072124, 3844.719246073254, 3965.7793634887266, 9090.542541306071, 4851.82414003932, 4016.7308997366786, 3002.0352842402945, 2561.33027713817, 4764.5208991272375, 8797.342606632597, 3609.485920427779, 6074.327308936648, 8447.121070656172, 10758.403873568117, 7529.089896183159, 5431.421913460988, 5611.656926332638, 8519.690346337358, 4215.237880201166, 4007.4081332736323, 4401.326707880823, 21.541681549740662, 19.659308077767413, 22.578428228669928, 17.705460760282897, 12.226176379954925, 17.63621925325191, 14.019517298685603, 33.97103374999399, 25.720013989116072, 10.988956393322503, 14.452771425474744, 10.51885398557776, 9.790476808005838, 22.592883057193617, 17.899917380230054, 19.11849609452067, 15.670867455972518, 14.472159154688539, 14.400410021525405, 15.320955849596155, 10.22227024328435, 11.298270830333088, 8.158953106624681, 8.159217812049137, 11.145388199582912, 14.60832922640838, 17.34409132041483, 14.653593305393734, 8.590096201136424, 16.383805627444943, 120.23275520551938, 38.11643171385823, 31.82204725751643, 104.65744162991919, 774.2927476754952, 45.02114586146397, 20.80854131095063, 3989.9544525334722, 50.02505388458983, 3616.1006088996937, 148.3303570633566, 209.82861725608012, 701.7567290755769, 147.51108096511769, 580.2449242668116, 410.7363026496763, 3738.2779258538912, 100.69745666948181, 40.76862491204948, 1992.4718885586517, 468.66226272316044, 192.1672500823664, 2805.002845828233, 3245.512991660161, 5465.293234276238, 10758.403873568117, 8797.342606632597, 783.1532670358757, 4215.237880201166, 747.1828948809755, 912.2980778397225, 1226.331574999178, 5431.421913460988, 1074.4574600541628, 8447.121070656172, 3320.158218244901, 11056.274104018685, 2292.640894287789, 4016.7308997366786, 5060.505242811195, 2117.738045345257, 1474.4640611505417, 1241.1291092880645, 7529.089896183159, 8519.690346337358, 5611.656926332638, 3106.9701963725997, 3799.620933600516, 2700.0256580880855, 6074.327308936648, 4401.326707880823, 3965.7793634887266, 4764.5208991272375, 3160.538977740912, 5663.559939072124, 4851.82414003932, 4007.4081332736323, 7916.351152483605, 50.602581247696094, 35.39373241344188, 26.64388311188251, 33.53719875859305, 14.277160661567553, 12.754384835956062, 14.570130306474764, 16.404409348741286, 11.548544685329185, 20.932790931372885, 23.04527949886609, 17.143953605935266, 11.527337666136525, 25.2202444301519, 10.266795145451942, 8.657782323198257, 9.292569306183175, 10.056374692366717, 16.713148079629697, 27.59398049254554, 10.704292292195323, 16.736973875537043, 14.627861233456684, 17.863375576097333, 11.678247639435252, 13.508012418997238, 9.509713414745978, 14.8334192276285, 11.437605837448691, 47.05419136203938, 53.670564119139826, 38.92672777224268, 536.5646077555107, 185.47431844723587, 328.4420225724059, 566.130895097167, 635.1353158498003, 78.00576171660639, 907.7014307680665, 449.702710406053, 637.5464738046817, 175.21376654964052, 946.3434473769037, 247.37804563317056, 291.9049317041726, 61.81831098075002, 1163.69063036524, 192.35309600207978, 105.24168620884245, 274.46040945771745, 175.65638079182395, 124.00120552121162, 310.03667423542595, 283.53936991551666, 285.5864486934282, 1051.2517775791096, 307.4185435441017, 2621.435595572182, 9090.542541306071, 8519.690346337358, 2646.537090549592, 1713.3875315802475, 1269.529895218608, 3442.5263920141456, 1718.0185990582436, 851.3644628983398, 7529.089896183159, 10758.403873568117, 1442.1176901335093, 5060.505242811195, 8447.121070656172, 2939.4717171503326, 1808.383395718487, 2316.057733035401, 5611.656926332638, 6074.327308936648, 2011.1534980212173, 8797.342606632597, 5465.293234276238, 4401.326707880823, 4007.4081332736323, 5431.421913460988, 11056.274104018685, 4764.5208991272375, 3609.485920427779, 5663.559939072124, 2556.2649532297733, 4851.82414003932, 7916.351152483605, 3511.3389292016673, 3799.620933600516], \"loglift\": [30.0, 29.0, 28.0, 27.0, 26.0, 25.0, 24.0, 23.0, 22.0, 21.0, 20.0, 19.0, 18.0, 17.0, 16.0, 15.0, 14.0, 13.0, 12.0, 11.0, 10.0, 9.0, 8.0, 7.0, 6.0, 5.0, 4.0, 3.0, 2.0, 1.0, 0.8742, 0.872, 0.8638, 0.8576, 0.8544, 0.8526, 0.8505, 0.8492, 0.8458, 0.8455, 0.8431, 0.8428, 0.8414, 0.839, 0.8381, 0.8344, 0.8336, 0.8336, 0.8318, 0.8299, 0.8294, 0.8273, 0.8271, 0.8247, 0.8244, 0.8243, 0.8205, 0.8188, 0.8182, 0.8178, 0.8074, 0.7759, 0.7688, 0.7316, 0.7918, 0.7279, 0.7464, 0.6245, 0.6671, 0.7087, 0.7565, 0.6447, 0.6287, 0.563, 0.6206, 0.7728, 0.6004, 0.6612, 0.5962, 0.6515, 0.7301, 0.5302, 0.5548, 0.5932, 0.5733, 0.6112, 0.6414, 0.5588, 0.4775, 0.4526, 0.4717, 0.605, 0.4928, 0.3804, 0.5147, 0.1809, 0.265, 0.301, 0.2878, 0.1171, 0.2388, 0.247, 0.3066, 0.3372, 0.1118, -0.138, 0.171, -0.0333, -0.2979, -0.4303, -0.2854, -0.148, -0.1792, -0.5019, 0.0253, 0.0285, -0.0607, 1.0539, 1.0485, 1.0391, 1.0347, 1.0309, 1.0294, 1.0267, 1.0247, 1.0238, 1.0238, 1.0232, 1.0226, 1.0213, 1.0206, 1.0179, 1.0177, 1.0134, 1.0128, 1.0058, 1.0047, 1.004, 1.0008, 0.9997, 0.9992, 0.9982, 0.9977, 0.9933, 0.9927, 0.9918, 0.988, 0.9604, 0.9684, 0.9697, 0.923, 0.8411, 0.9462, 0.9764, 0.7025, 0.9252, 0.6304, 0.8452, 0.8181, 0.7176, 0.8377, 0.7192, 0.7467, 0.5526, 0.8546, 0.9293, 0.5791, 0.6962, 0.783, 0.4477, 0.3998, 0.3289, 0.2359, 0.2442, 0.5519, 0.3108, 0.5511, 0.5189, 0.4726, 0.2458, 0.4865, 0.1729, 0.3105, 0.1132, 0.3488, 0.2217, 0.16, 0.3337, 0.3998, 0.4366, -0.0023, -0.0385, 0.0438, 0.1765, 0.1185, 0.1985, -0.0818, 0.0048, 0.0354, -0.0513, 0.0952, -0.201, -0.1428, -0.0614, -0.6951, 1.2892, 1.279, 1.2673, 1.2669, 1.2587, 1.2562, 1.2539, 1.2498, 1.2439, 1.2434, 1.2382, 1.2374, 1.2319, 1.2307, 1.2301, 1.2292, 1.2292, 1.2285, 1.2207, 1.2184, 1.2177, 1.2176, 1.2172, 1.2172, 1.2155, 1.2149, 1.2142, 1.2129, 1.2128, 1.2127, 1.2091, 1.2084, 1.1806, 1.1892, 1.1714, 1.1478, 1.1213, 1.1814, 1.1027, 1.0885, 1.0614, 1.1177, 1.0246, 1.0842, 1.0674, 1.148, 0.9596, 1.0764, 1.1133, 1.0406, 1.073, 1.0898, 1.0065, 1.0124, 1.0029, 0.8648, 0.9814, 0.7313, 0.5339, 0.4891, 0.6547, 0.6586, 0.6941, 0.5137, 0.6355, 0.7587, 0.3149, 0.1715, 0.618, 0.2841, 0.1369, 0.3933, 0.5076, 0.4284, 0.1716, 0.1362, 0.4664, -0.1657, -0.0099, 0.0781, 0.0307, -0.1537, -0.5838, -0.1198, 0.0482, -0.2521, 0.2146, -0.2663, -0.6858, -0.115, -0.2064], \"logprob\": [30.0, 29.0, 28.0, 27.0, 26.0, 25.0, 24.0, 23.0, 22.0, 21.0, 20.0, 19.0, 18.0, 17.0, 16.0, 15.0, 14.0, 13.0, 12.0, 11.0, 10.0, 9.0, 8.0, 7.0, 6.0, 5.0, 4.0, 3.0, 2.0, 1.0, -9.1732, -9.6223, -9.5486, -9.7379, -10.0147, -9.3834, -10.0896, -10.0347, -10.014, -9.8176, -9.0504, -10.0997, -9.3957, -9.9526, -10.3306, -10.1488, -10.48, -10.48, -10.0842, -9.683, -10.0086, -8.0751, -9.3903, -10.3269, -9.9388, -10.5181, -10.1548, -9.8754, -10.4107, -7.3356, -7.2786, -6.0759, -6.0812, -5.3649, -8.4532, -6.4877, -7.4491, -4.1223, -5.2197, -6.2722, -7.8914, -5.2367, -5.0169, -3.9121, -5.2961, -8.4199, -5.1979, -6.3811, -5.1627, -6.4832, -7.7308, -4.6859, -5.169, -5.6946, -5.5198, -6.0392, -6.6153, -5.6996, -4.9604, -4.7491, -5.007, -6.3756, -5.3873, -4.7615, -5.81, -3.9601, -4.5449, -4.8963, -4.8784, -4.2196, -4.7258, -4.9065, -5.1381, -5.2662, -4.871, -4.5075, -5.0894, -4.7732, -4.708, -4.5986, -4.8106, -4.9998, -4.9983, -4.9035, -5.0799, -5.1273, -5.1228, -9.3278, -9.4247, -9.2956, -9.5431, -9.9173, -9.5524, -9.7846, -8.9015, -9.1806, -10.0311, -9.7576, -10.0759, -10.149, -9.3135, -9.5491, -9.4834, -9.6865, -9.7667, -9.7787, -9.7178, -10.1231, -10.0263, -10.3529, -10.3533, -10.0425, -9.7724, -9.6051, -9.7743, -10.3093, -9.6675, -7.7019, -8.8427, -9.0219, -7.878, -5.9587, -8.6984, -9.4399, -4.4577, -8.614, -4.6282, -7.6071, -7.2874, -6.1805, -7.6201, -6.3691, -6.6871, -4.6727, -7.985, -8.8145, -5.2755, -6.6056, -7.4104, -5.0648, -4.9669, -4.5166, -3.9323, -4.1253, -6.2365, -4.7945, -6.2843, -6.1169, -5.8674, -4.6059, -5.9856, -4.2372, -5.0334, -4.0278, -5.3655, -4.9318, -4.7625, -5.4599, -5.7559, -5.8913, -4.5275, -4.4401, -4.7753, -5.2338, -5.0905, -5.3522, -4.8217, -5.0572, -5.1309, -5.0341, -5.2981, -5.011, -5.1074, -5.2173, -5.1702, -8.2386, -8.6062, -8.9019, -8.6722, -9.5343, -9.6496, -9.5188, -9.4044, -9.7613, -9.167, -9.0761, -9.3727, -9.7751, -8.9933, -9.8928, -10.064, -9.9933, -9.9151, -9.4148, -8.9157, -9.8634, -9.4166, -9.5516, -9.3518, -9.7785, -9.6336, -9.9852, -9.5419, -9.8021, -8.3878, -8.2598, -8.5816, -5.9859, -7.0396, -6.486, -5.9651, -5.8766, -7.9135, -5.5382, -6.2546, -5.9327, -7.168, -5.5745, -6.8566, -6.7079, -8.1796, -5.4328, -7.116, -7.6822, -6.7963, -7.2102, -7.5416, -6.7086, -6.7919, -6.7943, -5.6292, -6.7422, -4.8489, -3.8029, -3.9125, -4.9161, -5.3469, -5.6112, -4.7941, -5.3673, -5.9462, -4.2103, -3.9968, -5.5598, -4.6384, -4.2732, -5.0725, -5.4439, -5.2757, -4.6475, -4.6037, -5.3789, -4.5353, -4.8555, -4.984, -5.1251, -5.0055, -4.7248, -5.1026, -5.2122, -5.062, -5.3909, -5.231, -5.1609, -5.403, -5.4155]}, \"token.table\": {\"Topic\": [1, 2, 3, 3, 2, 3, 3, 1, 2, 3, 1, 2, 3, 1, 3, 1, 2, 3, 1, 2, 3, 1, 1, 2, 3, 1, 3, 1, 2, 3, 1, 2, 3, 1, 2, 3, 1, 1, 2, 3, 1, 2, 2, 3, 1, 2, 3, 1, 2, 3, 2, 1, 2, 3, 1, 2, 3, 1, 2, 3, 1, 2, 3, 1, 2, 3, 1, 3, 1, 2, 3, 1, 2, 3, 1, 2, 3, 1, 2, 3, 1, 2, 3, 1, 2, 3, 1, 2, 3, 3, 1, 2, 3, 1, 2, 3, 1, 2, 3, 1, 2, 3, 1, 2, 3, 1, 2, 3, 1, 1, 3, 1, 2, 3, 1, 2, 3, 1, 2, 3, 2, 3, 1, 2, 3, 1, 2, 3, 1, 2, 3, 1, 2, 3, 1, 2, 3, 1, 2, 3, 1, 2, 3, 1, 2, 3, 1, 2, 3, 1, 2, 3, 1, 2, 3, 1, 2, 3, 1, 2, 3, 2, 3, 2, 3, 2, 3, 1, 2, 3, 1, 2, 3, 1, 2, 3, 1, 2, 3, 2, 1, 2, 3, 1, 2, 3, 1, 2, 3, 1, 2, 3, 1, 1, 2, 3, 1, 2, 3, 2, 3, 1, 2, 3, 1, 2, 3, 1, 2, 3, 1, 2, 3, 2, 1, 2, 1, 2, 3, 1, 2, 3, 1, 3, 1, 2, 3, 3, 1, 2, 3, 1, 2, 1, 2, 1, 2, 3, 1, 2, 3, 1, 2, 3, 1, 2, 1, 2, 3, 1, 2, 3, 3, 1, 2, 3, 1, 2, 3, 1, 2, 3, 1, 2, 3, 1, 2, 3, 2, 1, 2, 3, 1, 2, 3, 1, 2, 3, 1, 2, 3, 1, 2, 3, 1, 2, 3, 1, 2, 1, 3, 1, 2, 3, 1, 2, 3, 1, 2, 3, 1, 2, 3, 1, 1, 2, 3, 1, 2, 3, 1, 2, 3, 1, 2, 3, 2, 3, 1, 2, 1, 2, 3, 1, 2, 3, 1, 2, 3, 1, 2, 3, 1, 2, 3, 1, 2, 3, 1, 2, 3, 1, 2, 3, 1, 2, 3, 1, 2, 1, 2, 3, 1, 2, 3, 1, 2, 3, 1, 3, 1, 2, 3, 2, 3, 1, 2, 3, 1, 2, 3, 1, 2, 3, 1, 2, 3, 1, 2, 3, 1, 2, 3, 3, 1, 2, 3, 1, 3, 1, 2, 3, 1, 2, 3, 1, 2, 3, 1, 2, 3, 1, 2, 3, 1, 2, 3, 1, 2, 3, 1, 2, 1, 2, 3, 1, 2, 1, 2, 3, 2, 1, 2, 3, 1, 2, 3, 1, 2, 3, 1, 2, 3, 1, 2, 3, 1, 3, 1, 1, 2, 3, 2, 1, 2, 3, 1, 2, 3, 1, 2, 3, 2, 3, 1, 2, 3, 1, 2, 3, 2, 3, 1, 2, 3, 2, 3, 1, 2, 1, 2, 3, 1, 2, 3, 1, 2, 3, 3, 1, 2, 3, 1, 2, 3, 1, 2, 3, 1, 2, 3, 1, 2, 3, 1, 2, 3, 1, 2, 3, 2, 1, 2, 3, 1, 2, 3, 1, 2, 3, 1, 2, 3, 1, 2, 3, 1, 2, 3, 1, 2, 3, 1, 2, 3, 1, 2, 3, 3, 1, 2, 3, 2, 3, 1, 2, 3, 1, 2, 3, 1, 2, 3, 1, 2, 3, 1, 2, 3, 2, 1, 2, 3, 1, 2, 3, 1, 1, 2, 3, 1, 2, 3, 1, 2, 3, 1, 3, 1, 2, 3, 1, 2, 3, 1, 3, 1, 2, 3, 1, 2, 3, 1, 2, 3, 1, 2, 1, 2, 3, 1, 2, 3, 1, 2, 3, 1, 2, 3, 1, 2, 3], \"Freq\": [0.1774176299942236, 0.02419331318103049, 0.7983793349740063, 0.8766124065489788, 0.08562928539237236, 0.9419221393160959, 0.9240241555351016, 0.42497858648050374, 0.12607020268799632, 0.449088786533738, 0.7456419942456396, 0.13031427534604295, 0.1242057936891972, 0.9635592698394243, 0.03322618171860084, 0.9504393932854002, 0.07920328277378334, 0.07920328277378334, 0.905811081669882, 0.03938309050738618, 0.03938309050738618, 0.8492199726051514, 0.7197889218056284, 0.15401934993475272, 0.12615655296163164, 0.05832960255175902, 0.9332736408281443, 0.3845693327330649, 0.3075237643601734, 0.30801764620871763, 0.0388802276866245, 0.9331254644789878, 0.0388802276866245, 0.05230536936880712, 0.9414966486385282, 0.05230536936880712, 0.917727835888382, 0.883789739644284, 0.06798382612648338, 0.06798382612648338, 0.8946095943209281, 0.08132814493826619, 0.09342046841612468, 0.9342046841612468, 0.6408760035081882, 0.21406648129571387, 0.14491672149539828, 0.02568929003873441, 0.05137858007746882, 0.8991251513557044, 0.9506739055139322, 0.40780616630773947, 0.4552530733825201, 0.1368843269107421, 0.05983313228815456, 0.05983313228815456, 0.8974969843223184, 0.044261726025337796, 0.9294962465320936, 0.044261726025337796, 0.05247080878436077, 0.8657683449419527, 0.07870621317654115, 0.4058299569738402, 0.37556377989732165, 0.21870602739640807, 0.10515563996380556, 0.9464007596742501, 0.22342970474586443, 0.7736092089177619, 0.002583002367004213, 0.4470580255835985, 0.09460381446897015, 0.4583884824327891, 0.3430041027346496, 0.4265917906796474, 0.23051054032409088, 0.8928153613272988, 0.10283737146178311, 0.004674425975535595, 0.04339283453035159, 0.04339283453035159, 0.9112495251373833, 0.6251994801498513, 0.250550063294487, 0.1240993535608773, 0.19807433864311424, 0.6839977161776607, 0.11827460508905382, 0.9608699239826698, 0.06663535417848754, 0.866259604320338, 0.08884713890465004, 0.10786733286946713, 0.775296454999295, 0.11460904117380882, 0.3323439092023798, 0.3485601535656058, 0.31897887263928143, 0.2407364489346413, 0.3210210569655017, 0.4382788397474162, 0.34635459095372384, 0.4259240736145728, 0.22768239109954344, 0.08464433001720727, 0.17634235420251512, 0.7406378876505635, 0.9204893801189865, 0.9022417594328975, 0.10024908438143305, 0.7702903039531865, 0.09381740881481117, 0.13496539513709677, 0.7249092584497902, 0.19403657506934827, 0.08112531622703803, 0.8787939920855206, 0.05957925370071326, 0.05957925370071326, 0.07247957577342987, 0.9059946971678733, 0.8638902279864462, 0.0870692513246182, 0.04897645387009774, 0.06653760854373862, 0.8733061121365694, 0.05822040747577129, 0.8444077678840394, 0.09837760402532497, 0.057386935681439565, 0.5047586081675567, 0.2891695905508706, 0.20590193938725568, 0.12202473117430754, 0.7728232974372811, 0.1084664277104956, 0.2474884582593978, 0.05070076054619608, 0.701217298401627, 0.06103588035278408, 0.9155382052917612, 0.06103588035278408, 0.7288432352572723, 0.0943937098740841, 0.17795535468065035, 0.6372385388743784, 0.2415923286916924, 0.12096848412380033, 0.5302866869905679, 0.34570758338757424, 0.12406136471676624, 0.07358599919599758, 0.8339746575546392, 0.07358599919599758, 0.2099819616496988, 0.5219246041683515, 0.2680924196274592, 0.27841777393794326, 0.5601239467806653, 0.161131546334164, 0.9664633121796885, 0.05086649011472045, 0.07930137257547405, 0.9119657846179515, 0.028253589881925497, 0.9606220559854669, 0.05602506727192684, 0.21009400226972566, 0.7318274412395444, 0.05765652299252783, 0.9225043678804453, 0.05765652299252783, 0.07009056622412266, 0.04313265613792163, 0.8842194508273935, 0.6649798726409786, 0.1517888839723973, 0.18311039971273324, 0.857925374864088, 0.9228930920893706, 0.040125786612581336, 0.040125786612581336, 0.06698290257651195, 0.06698290257651195, 0.8677330561048138, 0.8622696473023828, 0.05654227195425461, 0.08481340793138191, 0.08743088494323067, 0.08743088494323067, 0.8743088494323067, 0.8924716337625215, 0.17061760622050223, 0.6841938350458524, 0.1430430435990069, 0.18699196572985008, 0.46559110658998026, 0.3475406231746709, 0.060959220093878615, 0.9143883014081792, 0.17266400749164587, 0.2537103783550715, 0.5743721065538424, 0.739653611567317, 0.13938598745059186, 0.1206943799380604, 0.29884089989955204, 0.3328423533992344, 0.3681719886762481, 0.05465269118280921, 0.1821756372760307, 0.7614941638138083, 0.8579532090111333, 0.9091654078785166, 0.06993580060603974, 0.03753206677122919, 0.03753206677122919, 0.9383016692807297, 0.0674153399600151, 0.0674153399600151, 0.8763994194801964, 0.8882319217758049, 0.06344513726970034, 0.06527007908754981, 0.9137811072256974, 0.06527007908754981, 0.9685157789473249, 0.13697553835303497, 0.03995119868630186, 0.8218532301182098, 0.8997328456807573, 0.05292546151063278, 0.044290062615173854, 0.9300913149186509, 0.9093814324119726, 0.04229681080985919, 0.04229681080985919, 0.47647154461241253, 0.37363400736406155, 0.14986965630652382, 0.3742053497303333, 0.33535342817363206, 0.29059419690655514, 0.06845409796708567, 0.8899032735721136, 0.2300397144681366, 0.32349334847081707, 0.4462549268648707, 0.061404237847833505, 0.1133616698729234, 0.8250210418529426, 0.9408529030871513, 0.24085960612214014, 0.36094921199942187, 0.3983709022161385, 0.23284750372479365, 0.6266418568175562, 0.14048281697410353, 0.021252091918994118, 0.08500836767597647, 0.9138399525167471, 0.5373604333034403, 0.2889677838335538, 0.17400490313649639, 0.8228048661369753, 0.061200361944072544, 0.11560068367213702, 0.8997089243726872, 0.14836954406584157, 0.11611529535587602, 0.7353968705872148, 0.031424753784934374, 0.8798931059781625, 0.06284950756986875, 0.29339681673153434, 0.37359194663815376, 0.332907588051381, 0.03354675231990296, 0.09132171464862472, 0.8759429772419106, 0.2822358136768521, 0.49761008634073817, 0.22030415587221533, 0.20150605967180651, 0.6736919009923084, 0.12481345487134285, 0.09611437775061565, 0.8650293997555409, 0.059747957273304446, 0.8962193590995667, 0.9225383876157339, 0.06150255917438226, 0.06150255917438226, 0.06448704739585591, 0.1378688599497609, 0.7983051729349059, 0.9000400301597193, 0.060002668677314616, 0.035001556728433525, 0.07999416841826079, 0.1443032057741175, 0.7764139875890018, 0.9430022754705373, 0.29513013713752106, 0.3967032047925524, 0.3081523252984225, 0.12996931434745243, 0.08318036118236954, 0.7902134312325108, 0.04750969107505518, 0.1330271350101545, 0.817166686490949, 0.25135830099315987, 0.3914628885750391, 0.3570789700429559, 0.06836269390584666, 0.8887150207760067, 0.9243941792490145, 0.08403583447718313, 0.3166653800029737, 0.47281717895760805, 0.2102378969165748, 0.8265013339614747, 0.13167770672549406, 0.042188003125643726, 0.19254061232671604, 0.7285320466416283, 0.07805700499731731, 0.194054368659223, 0.1683707022190317, 0.6382866733840128, 0.2702508240064446, 0.46365307246603293, 0.2660424496312596, 0.5403001118990741, 0.2415028243691916, 0.2181853102921662, 0.40851463640573143, 0.40703316900262815, 0.18444269168635927, 0.19727002430574742, 0.2836486148301575, 0.5194388213967905, 0.24291329317667276, 0.5425994249885066, 0.214992224995446, 0.08972320946500746, 0.8972320946500746, 0.13376975188735854, 0.8408384404348251, 0.028664946833005404, 0.6507163441791104, 0.22805960480327997, 0.12097970006494536, 0.09193279695775206, 0.15956152115655817, 0.7491994602648989, 0.9351064667098199, 0.051950359261656656, 0.7748597670523897, 0.1275020084915638, 0.0979588601825429, 0.08675029993592247, 0.9542532992951471, 0.757833454225422, 0.15465988861743307, 0.08764060354987874, 0.03638156319395387, 0.16978062823845141, 0.7963519943565459, 0.07403013626147041, 0.07403013626147041, 0.8883616351376449, 0.4718123404670792, 0.2462954613477589, 0.2820346227806733, 0.763670214968483, 0.10832201630758623, 0.12818105263064372, 0.3518910553805019, 0.23574541869663074, 0.41233859863604827, 0.8949547202961166, 0.8395388178330471, 0.08864695592025963, 0.07300337546374322, 0.9317578560713097, 0.08470525964284634, 0.4447456617071734, 0.3169258844633468, 0.2384290097684516, 0.1642974186839618, 0.6699920709969351, 0.16643115139414313, 0.1266019089730952, 0.703614455638933, 0.17042564669455124, 0.06720271438636363, 0.12338859034873323, 0.8097376241635619, 0.7329719908204717, 0.2102150322686937, 0.057836940095090335, 0.5817270414026243, 0.2633028486890051, 0.1550287800692273, 0.2809333054666916, 0.29087784725312316, 0.4286097509952003, 0.05586617964530224, 0.9497250539701381, 0.21794391199562854, 0.06505788417779956, 0.7156367259557952, 0.9116351928763239, 0.05697719955477024, 0.08850911922869162, 0.8850911922869162, 0.08850911922869162, 0.9192606424071755, 0.06919088184272949, 0.8994814639554833, 0.06919088184272949, 0.5091204890360125, 0.41650786217958374, 0.07443864362922627, 0.10255652690199815, 0.025639131725499538, 0.8717304786669843, 0.029817636445971074, 0.029817636445971074, 0.9541643662710744, 0.27480332959723874, 0.5349287365453668, 0.18999755429126594, 0.8791176097689269, 0.07325980081407725, 0.9430022754705373, 0.3450306672563401, 0.3981370666008327, 0.25684185864790987, 0.8804306465985541, 0.21031407059069188, 0.2512741143012386, 0.5379944202750657, 0.36082617792632954, 0.45509879369506173, 0.18402737455174237, 0.06470574715710987, 0.08088218394638735, 0.8411747130424284, 0.8933774750716998, 0.0638126767908357, 0.7546527982460683, 0.16928697906600992, 0.07546527982460684, 0.557132367011418, 0.2904740582035704, 0.15265504940537103, 0.9601557525198443, 0.056479750148226135, 0.25858854461069103, 0.422460436828034, 0.3190064288655254, 0.9748542587778073, 0.04642163137037177, 0.07132913200183824, 0.9272787160238971, 0.02943684338131679, 0.9419789882021373, 0.05887368676263358, 0.11916884891529557, 0.7845282553590291, 0.09930737409607965, 0.05598046101309555, 0.05598046101309555, 0.8956873762095288, 0.9805871301628175, 0.17814666161884768, 0.26359602393709586, 0.5584726180085504, 0.9573259654346903, 0.04786629827173451, 0.04786629827173451, 0.20075090861762185, 0.4978079963693731, 0.30180457545554634, 0.22822276028429686, 0.2542945656810129, 0.5172797331609311, 0.923968556669698, 0.040172545942160784, 0.040172545942160784, 0.265362827396898, 0.5799461792303174, 0.15488415026492333, 0.43345288811127086, 0.3269408117948351, 0.23950977588802813, 0.9313050532474413, 0.06944246715928386, 0.90275207307069, 0.06944246715928386, 0.7052252517371802, 0.16754674002428038, 0.12741196960021323, 0.742449648359064, 0.13791429056368412, 0.11968043003242781, 0.39676776930507385, 0.36702600669368873, 0.2363520922415392, 0.8240997946275057, 0.10766149335988792, 0.06851185941083777, 0.5182252914376058, 0.2729731858816145, 0.2088792230905239, 0.21413766441412932, 0.5795100543207375, 0.20610750199859948, 0.1332930854913501, 0.35913464518848476, 0.507561443443045, 0.06824264732609422, 0.887154415239225, 0.06824264732609422, 0.9525009687128774, 0.06358953434933311, 0.09008517366155523, 0.84609408203696, 0.8982764673223205, 0.06909818979402466, 0.03997996693045239, 0.8395793055395001, 0.11993990079135715, 0.1081657262568646, 0.1081657262568646, 0.7856247486024903, 0.8080314853787056, 0.06965788667057807, 0.12383624296991656, 0.17156858997962462, 0.7577612724100088, 0.07625270665761094, 0.019761837743119664, 0.019761837743119664, 0.9683300494128635, 0.9100045210914253, 0.6755394870959047, 0.18127462109595874, 0.14311154297049375, 0.4089925322033793, 0.313669074423214, 0.2772365486747739, 0.906943554628359, 0.6952374300559523, 0.1473151743686126, 0.15708607879102057, 0.27403146972124903, 0.595240518478757, 0.13049117605773763, 0.04777193845189828, 0.04777193845189828, 0.9554387690379657, 0.9197006085837167, 0.057481288036482295, 0.6981751937906404, 0.1664908459229354, 0.1354159232392919, 0.7214949191419177, 0.12541789049559252, 0.15278179387644905, 0.8984875245607366, 0.07487396038006137, 0.05670149512433692, 0.9072239219893907, 0.05670149512433692, 0.0372643744820779, 0.055896561723116855, 0.8943449875698697, 0.2101076785015713, 0.29193179092132515, 0.4985723460152798, 0.8664446158242016, 0.1083055769780252, 0.3013385128115588, 0.5164652051128589, 0.18289797435353972, 0.858237545732145, 0.07604636481170905, 0.06518259841003633, 0.6922652111989329, 0.17702965324552866, 0.13035019243949375, 0.28602319549506355, 0.5797077265837449, 0.13407337288831103, 0.12332782385630862, 0.09592164077712893, 0.7810762177566213], \"Term\": [\"00\", \"00\", \"00\", \"00am\", \"00pm\", \"00pm\", \"06\", \"1\", \"1\", \"1\", \"10\", \"10\", \"10\", \"10minutes\", \"10minutes\", \"10mn\", \"10mn\", \"10mn\", \"10th\", \"10th\", \"10th\", \"1400\", \"15\", \"15\", \"15\", \"185\", \"185\", \"2\", \"2\", \"2\", \"20th\", \"20th\", \"20th\", \"21st\", \"21st\", \"21st\", \"254\", \"25min\", \"25min\", \"25min\", \"388\", \"388\", \"4ft6\", \"4ft6\", \"5\", \"5\", \"5\", \"7pm\", \"7pm\", \"7pm\", \"absorbed\", \"access\", \"access\", \"access\", \"accurate\", \"accurate\", \"accurate\", \"adorable\", \"adorable\", \"adorable\", \"aim\", \"aim\", \"aim\", \"also\", \"also\", \"also\", \"ambulant\", \"ambulant\", \"angel\", \"angel\", \"angel\", \"apartment\", \"apartment\", \"apartment\", \"area\", \"area\", \"area\", \"arsenal\", \"arsenal\", \"arsenal\", \"assistant\", \"assistant\", \"assistant\", \"away\", \"away\", \"away\", \"back\", \"back\", \"back\", \"ball\", \"barking\", \"barking\", \"barking\", \"basement\", \"basement\", \"basement\", \"bathroom\", \"bathroom\", \"bathroom\", \"bed\", \"bed\", \"bed\", \"bedroom\", \"bedroom\", \"bedroom\", \"board\", \"board\", \"board\", \"branch\", \"brawn\", \"brawn\", \"bridge\", \"bridge\", \"bridge\", \"bus\", \"bus\", \"bus\", \"cab\", \"cab\", \"cab\", \"calendar\", \"calendar\", \"canary\", \"canary\", \"canary\", \"cat\", \"cat\", \"cat\", \"cathedral\", \"cathedral\", \"cathedral\", \"central\", \"central\", \"central\", \"century\", \"century\", \"century\", \"check\", \"check\", \"check\", \"circular\", \"circular\", \"circular\", \"circus\", \"circus\", \"circus\", \"city\", \"city\", \"city\", \"close\", \"close\", \"close\", \"cold\", \"cold\", \"cold\", \"comfortable\", \"comfortable\", \"comfortable\", \"comfy\", \"comfy\", \"comfy\", \"composed\", \"composed\", \"con\", \"con\", \"confirmed\", \"confirmed\", \"cooker\", \"cooker\", \"cooker\", \"crazy\", \"crazy\", \"crazy\", \"crockery\", \"crockery\", \"crockery\", \"cross\", \"cross\", \"cross\", \"cultivate\", \"curry\", \"curry\", \"curry\", \"cutlery\", \"cutlery\", \"cutlery\", \"cycle\", \"cycle\", \"cycle\", \"dairy\", \"dairy\", \"dairy\", \"decorate\", \"desk\", \"desk\", \"desk\", \"dining\", \"dining\", \"dining\", \"dis\", \"dis\", \"dishwasher\", \"dishwasher\", \"dishwasher\", \"distance\", \"distance\", \"distance\", \"double\", \"double\", \"double\", \"electric\", \"electric\", \"electric\", \"emotion\", \"empire\", \"empire\", \"enclosure\", \"enclosure\", \"enclosure\", \"end!\", \"end!\", \"end!\", \"entirety\", \"entirety\", \"exit\", \"exit\", \"exit\", \"farrow\", \"fee\", \"fee\", \"fee\", \"ferry\", \"ferry\", \"field\", \"field\", \"financial\", \"financial\", \"financial\", \"flat\", \"flat\", \"flat\", \"floor\", \"floor\", \"floor\", \"fountain\", \"fountain\", \"free\", \"free\", \"free\", \"freezer\", \"freezer\", \"freezer\", \"frosted\", \"fully\", \"fully\", \"fully\", \"garden\", \"garden\", \"garden\", \"glassware\", \"glassware\", \"glassware\", \"great\", \"great\", \"great\", \"grocery\", \"grocery\", \"grocery\", \"grown\", \"hair\", \"hair\", \"hair\", \"heat\", \"heat\", \"heat\", \"high\", \"high\", \"high\", \"hob\", \"hob\", \"hob\", \"home\", \"home\", \"home\", \"house\", \"house\", \"house\", \"housemate\", \"housemate\", \"incur\", \"incur\", \"interchange\", \"interchange\", \"interchange\", \"iron\", \"iron\", \"iron\", \"jubilee\", \"jubilee\", \"jubilee\", \"kettle\", \"kettle\", \"kettle\", \"keystone\", \"kitchen\", \"kitchen\", \"kitchen\", \"kitchenette\", \"kitchenette\", \"kitchenette\", \"lamp\", \"lamp\", \"lamp\", \"large\", \"large\", \"large\", \"launch\", \"launch\", \"lift!\", \"lift!\", \"light\", \"light\", \"light\", \"line\", \"line\", \"line\", \"lined\", \"lined\", \"lined\", \"linen\", \"linen\", \"linen\", \"living\", \"living\", \"living\", \"location\", \"location\", \"location\", \"lovely\", \"lovely\", \"lovely\", \"machine\", \"machine\", \"machine\", \"make\", \"make\", \"make\", \"mangal\", \"mangal\", \"manor\", \"manor\", \"manor\", \"market\", \"market\", \"market\", \"microwave\", \"microwave\", \"microwave\", \"millennium\", \"millennium\", \"min\", \"min\", \"min\", \"miniature\", \"miniature\", \"minute\", \"minute\", \"minute\", \"mirror\", \"mirror\", \"mirror\", \"missing\", \"missing\", \"missing\", \"modern\", \"modern\", \"modern\", \"museum\", \"museum\", \"museum\", \"new\", \"new\", \"new\", \"nw1\", \"o2\", \"o2\", \"o2\", \"odeon\", \"odeon\", \"one\", \"one\", \"one\", \"onto\", \"onto\", \"onto\", \"original\", \"original\", \"original\", \"oven\", \"oven\", \"oven\", \"overground\", \"overground\", \"overground\", \"park\", \"park\", \"park\", \"people\", \"people\", \"people\", \"pepper\", \"pepper\", \"per\", \"per\", \"per\", \"piazza\", \"piazza\", \"pine\", \"pine\", \"pine\", \"pineapple\", \"pitch\", \"pitch\", \"pitch\", \"place\", \"place\", \"place\", \"plasma\", \"plasma\", \"plasma\", \"plate\", \"plate\", \"plate\", \"plenty\", \"plenty\", \"plenty\", \"portrait\", \"portrait\", \"poter\", \"private\", \"private\", \"private\", \"process\", \"provided\", \"provided\", \"provided\", \"quiet\", \"quiet\", \"quiet\", \"rack\", \"rack\", \"rack\", \"reflection\", \"reflection\", \"ride\", \"ride\", \"ride\", \"road\", \"road\", \"road\", \"rocking\", \"rocking\", \"room\", \"room\", \"room\", \"row\", \"row\", \"safely\", \"safely\", \"salt\", \"salt\", \"salt\", \"secluded\", \"secluded\", \"secluded\", \"sheet\", \"sheet\", \"sheet\", \"shiny\", \"shower\", \"shower\", \"shower\", \"sights!\", \"sights!\", \"sights!\", \"small\", \"small\", \"small\", \"sofa\", \"sofa\", \"sofa\", \"solution\", \"solution\", \"solution\", \"space\", \"space\", \"space\", \"spacious\", \"spacious\", \"spacious\", \"spanking\", \"spoiled\", \"spoiled\", \"spoiled\", \"st\", \"st\", \"st\", \"station\", \"station\", \"station\", \"stay\", \"stay\", \"stay\", \"stop\", \"stop\", \"stop\", \"street\", \"street\", \"street\", \"super\", \"super\", \"super\", \"table\", \"table\", \"table\", \"tasty\", \"tasty\", \"tasty\", \"therapist\", \"toaster\", \"toaster\", \"toaster\", \"toasty\", \"toasty\", \"toddler\", \"toddler\", \"toddler\", \"towel\", \"towel\", \"towel\", \"tower\", \"tower\", \"tower\", \"tree\", \"tree\", \"tree\", \"triple\", \"triple\", \"triple\", \"trouble\", \"tube\", \"tube\", \"tube\", \"two\", \"two\", \"two\", \"unable\", \"underground\", \"underground\", \"underground\", \"use\", \"use\", \"use\", \"vacuum\", \"vacuum\", \"vacuum\", \"vibrancy\", \"vibrancy\", \"walk\", \"walk\", \"walk\", \"walking\", \"walking\", \"walking\", \"warf\", \"warf\", \"warmer\", \"warmer\", \"warmer\", \"washbasin\", \"washbasin\", \"washbasin\", \"washing\", \"washing\", \"washing\", \"watering\", \"watering\", \"welcome\", \"welcome\", \"welcome\", \"wharf\", \"wharf\", \"wharf\", \"within\", \"within\", \"within\", \"work\", \"work\", \"work\", \"x\", \"x\", \"x\"]}, \"R\": 30, \"lambda.step\": 0.01, \"plot.opts\": {\"xlab\": \"PC1\", \"ylab\": \"PC2\"}, \"topic.order\": [3, 2, 1]};\n",
       "\n",
       "function LDAvis_load_lib(url, callback){\n",
       "  var s = document.createElement('script');\n",
       "  s.src = url;\n",
       "  s.async = true;\n",
       "  s.onreadystatechange = s.onload = callback;\n",
       "  s.onerror = function(){console.warn(\"failed to load library \" + url);};\n",
       "  document.getElementsByTagName(\"head\")[0].appendChild(s);\n",
       "}\n",
       "\n",
       "if(typeof(LDAvis) !== \"undefined\"){\n",
       "   // already loaded: just create the visualization\n",
       "   !function(LDAvis){\n",
       "       new LDAvis(\"#\" + \"ldavis_el597249647978009710544757\", ldavis_el597249647978009710544757_data);\n",
       "   }(LDAvis);\n",
       "}else if(typeof define === \"function\" && define.amd){\n",
       "   // require.js is available: use it to load d3/LDAvis\n",
       "   require.config({paths: {d3: \"https://cdnjs.cloudflare.com/ajax/libs/d3/3.5.5/d3.min\"}});\n",
       "   require([\"d3\"], function(d3){\n",
       "      window.d3 = d3;\n",
       "      LDAvis_load_lib(\"https://cdn.rawgit.com/bmabey/pyLDAvis/files/ldavis.v1.0.0.js\", function(){\n",
       "        new LDAvis(\"#\" + \"ldavis_el597249647978009710544757\", ldavis_el597249647978009710544757_data);\n",
       "      });\n",
       "    });\n",
       "}else{\n",
       "    // require.js not available: dynamically load d3 & LDAvis\n",
       "    LDAvis_load_lib(\"https://cdnjs.cloudflare.com/ajax/libs/d3/3.5.5/d3.min.js\", function(){\n",
       "         LDAvis_load_lib(\"https://cdn.rawgit.com/bmabey/pyLDAvis/files/ldavis.v1.0.0.js\", function(){\n",
       "                 new LDAvis(\"#\" + \"ldavis_el597249647978009710544757\", ldavis_el597249647978009710544757_data);\n",
       "            })\n",
       "         });\n",
       "}\n",
       "</script>"
      ],
      "text/plain": [
       "PreparedData(topic_coordinates=            Freq  cluster  topics         x         y\n",
       "topic                                                \n",
       "2      39.760756        1       1 -0.047150  0.017550\n",
       "1      33.365182        1       2  0.000161 -0.035280\n",
       "0      26.874062        1       3  0.046989  0.017731, topic_info=     Category          Freq        Term         Total  loglift  logprob\n",
       "term                                                                   \n",
       "6     Default   9090.000000   apartment   9090.000000  30.0000  30.0000\n",
       "81    Default   8519.000000         bed   8519.000000  29.0000  29.0000\n",
       "71    Default   6032.000000     station   6032.000000  28.0000  28.0000\n",
       "98    Default   3989.000000       house   3989.000000  27.0000  27.0000\n",
       "14    Default   7916.000000        walk   7916.000000  26.0000  26.0000\n",
       "3     Default  10758.000000        room  10758.000000  25.0000  25.0000\n",
       "101   Default   2621.000000      shower   2621.000000  24.0000  24.0000\n",
       "542   Default    907.000000        oven    907.000000  23.0000  23.0000\n",
       "260   Default   3442.000000           1   3442.000000  22.0000  22.0000\n",
       "503   Default   1163.000000       check   1163.000000  21.0000  21.0000\n",
       "4     Default   3616.000000      garden   3616.000000  20.0000  20.0000\n",
       "135   Default   2646.000000        sofa   2646.000000  19.0000  19.0000\n",
       "105   Default   7529.000000      double   7529.000000  18.0000  18.0000\n",
       "185   Default    946.000000   microwave    946.000000  17.0000  17.0000\n",
       "277   Default   1564.000000        line   1564.000000  16.0000  16.0000\n",
       "100   Default   5060.000000       large   5060.000000  15.0000  15.0000\n",
       "1178  Default    635.000000     freezer    635.000000  14.0000  14.0000\n",
       "134   Default   3738.000000       space   3738.000000  13.0000  13.0000\n",
       "199   Default   1718.000000       table   1718.000000  12.0000  12.0000\n",
       "184   Default    536.000000         hob    536.000000  11.0000  11.0000\n",
       "28    Default   8447.000000     kitchen   8447.000000  10.0000  10.0000\n",
       "190   Default    566.000000     toaster    566.000000   9.0000   9.0000\n",
       "150   Default   1051.000000       linen   1051.000000   8.0000   8.0000\n",
       "189   Default    637.000000      kettle    637.000000   7.0000   7.0000\n",
       "61    Default   2455.000000          10   2455.000000   6.0000   6.0000\n",
       "187   Default   1713.000000     machine   1713.000000   5.0000   5.0000\n",
       "3544  Default    774.000000       angel    774.000000   4.0000   4.0000\n",
       "351   Default   1929.000000         min   1929.000000   3.0000   3.0000\n",
       "211   Default   5465.000000      living   5465.000000   2.0000   2.0000\n",
       "131   Default   1939.000000      minute   1939.000000   1.0000   1.0000\n",
       "...       ...           ...         ...           ...      ...      ...\n",
       "187    Topic3    889.666620     machine   1713.387532   0.6586  -5.3469\n",
       "24     Topic3    683.016600    provided   1269.529895   0.6941  -5.6112\n",
       "260    Topic3   1546.330997           1   3442.526392   0.5137  -4.7941\n",
       "199    Topic3    871.717986       table   1718.018599   0.6355  -5.3673\n",
       "356    Topic3    488.598613  dishwasher    851.364463   0.7587  -5.9462\n",
       "105    Topic3   2772.240837      double   7529.089896   0.3149  -4.2103\n",
       "3      Topic3   3431.981285        room  10758.403874   0.1715  -3.9968\n",
       "186    Topic3    719.016734     washing   1442.117690   0.6180  -5.5598\n",
       "100    Topic3   1806.815045       large   5060.505243   0.2841  -4.6384\n",
       "28     Topic3   2603.216430     kitchen   8447.121071   0.1369  -4.2732\n",
       "209    Topic3   1170.557760       fully   2939.471717   0.3933  -5.0725\n",
       "331    Topic3    807.380298        free   1808.383396   0.5076  -5.4439\n",
       "295    Topic3    955.300684         new   2316.057733   0.4284  -5.2757\n",
       "29     Topic3   1790.365760    bathroom   5611.656926   0.1716  -4.6475\n",
       "142    Topic3   1870.557910           2   6074.327309   0.1362  -4.6037\n",
       "78     Topic3    861.647112      people   2011.153498   0.4664  -5.3789\n",
       "172    Topic3   2003.121045     bedroom   8797.342607  -0.1657  -4.5353\n",
       "211    Topic3   1454.221189      living   5465.293234  -0.0099  -4.8555\n",
       "230    Topic3   1278.836973       floor   4401.326708   0.0781  -4.9840\n",
       "262    Topic3   1110.583888         two   4007.408133   0.0307  -5.1251\n",
       "106    Topic3   1251.634071        area   5431.421913  -0.1537  -5.0055\n",
       "132    Topic3   1657.219214        flat  11056.274104  -0.5838  -4.7248\n",
       "7      Topic3   1135.843343         one   4764.520899  -0.1198  -5.1026\n",
       "408    Topic3   1017.939483      modern   3609.485920   0.0482  -5.2122\n",
       "141    Topic3   1182.924085      street   5663.559939  -0.2521  -5.0620\n",
       "143    Topic3    851.371786        high   2556.264953   0.2146  -5.3909\n",
       "127    Topic3    999.011121     central   4851.824140  -0.2663  -5.2310\n",
       "14     Topic3   1071.549277        walk   7916.351152  -0.6858  -5.1609\n",
       "282    Topic3    841.149789    spacious   3511.338929  -0.1150  -5.4030\n",
       "31     Topic3    830.700143        also   3799.620934  -0.2064  -5.4155\n",
       "\n",
       "[296 rows x 6 columns], token_table=      Topic      Freq       Term\n",
       "term                            \n",
       "1234      1  0.177418         00\n",
       "1234      2  0.024193         00\n",
       "1234      3  0.798379         00\n",
       "5513      3  0.876612       00am\n",
       "5495      2  0.085629       00pm\n",
       "5495      3  0.941922       00pm\n",
       "8046      3  0.924024         06\n",
       "260       1  0.424979          1\n",
       "260       2  0.126070          1\n",
       "260       3  0.449089          1\n",
       "61        1  0.745642         10\n",
       "61        2  0.130314         10\n",
       "61        3  0.124206         10\n",
       "4313      1  0.963559  10minutes\n",
       "4313      3  0.033226  10minutes\n",
       "1876      1  0.950439       10mn\n",
       "1876      2  0.079203       10mn\n",
       "1876      3  0.079203       10mn\n",
       "3479      1  0.905811       10th\n",
       "3479      2  0.039383       10th\n",
       "3479      3  0.039383       10th\n",
       "7831      1  0.849220       1400\n",
       "247       1  0.719789         15\n",
       "247       2  0.154019         15\n",
       "247       3  0.126157         15\n",
       "4697      1  0.058330        185\n",
       "4697      3  0.933274        185\n",
       "142       1  0.384569          2\n",
       "142       2  0.307524          2\n",
       "142       3  0.308018          2\n",
       "...     ...       ...        ...\n",
       "63        2  0.125418    walking\n",
       "63        3  0.152782    walking\n",
       "5074      1  0.898488       warf\n",
       "5074      3  0.074874       warf\n",
       "2538      1  0.056701     warmer\n",
       "2538      2  0.907224     warmer\n",
       "2538      3  0.056701     warmer\n",
       "2631      1  0.037264  washbasin\n",
       "2631      2  0.055897  washbasin\n",
       "2631      3  0.894345  washbasin\n",
       "186       1  0.210108    washing\n",
       "186       2  0.291932    washing\n",
       "186       3  0.498572    washing\n",
       "5573      1  0.866445   watering\n",
       "5573      2  0.108306   watering\n",
       "26        1  0.301339    welcome\n",
       "26        2  0.516465    welcome\n",
       "26        3  0.182898    welcome\n",
       "941       1  0.858238      wharf\n",
       "941       2  0.076046      wharf\n",
       "941       3  0.065183      wharf\n",
       "162       1  0.692265     within\n",
       "162       2  0.177030     within\n",
       "162       3  0.130350     within\n",
       "485       1  0.286023       work\n",
       "485       2  0.579708       work\n",
       "485       3  0.134073       work\n",
       "413       1  0.123328          x\n",
       "413       2  0.095922          x\n",
       "413       3  0.781076          x\n",
       "\n",
       "[602 rows x 3 columns], R=30, lambda_step=0.01, plot_opts={'xlab': 'PC1', 'ylab': 'PC2'}, topic_order=[3, 2, 1])"
      ]
     },
     "execution_count": 160,
     "metadata": {},
     "output_type": "execute_result"
    }
   ],
   "source": [
    "%%time\n",
    "pyLDAvis.gensim.prepare(ldamodel_description, doc_term_matrix_description, dictionary_description)"
   ]
  },
  {
   "cell_type": "markdown",
   "metadata": {
    "hidden": true
   },
   "source": [
    "I chose to cluster the document terms into 3 topics as it was the largest number of topics that had no overlaps with very distinct topics. The separate topics also makes sense within the context of AirBnb listings.\n",
    "\n",
    "Based on the top terms in each topic, the topics for listings could be described as:<br>\n",
    "\n",
    "- Topic 1 - Apartments: This seems to focus on modern apartments, with words such as 'kitchen', 'bed', 'modern\n",
    " and 'space' standing out. This might appeal to younger travellers who want an apartment with modern facilities and furnishings. \n",
    "- Topic 2 - Location: This focuses on location with words such as 'location', 'business', 'station' and 'central'. This is likely to appeal to business travellers who value convenience and proximity to transport links.\n",
    "- Topic 3 - Houses: This focuses on words associated with more traditional housing such as 'house', 'quiet', 'welcome' and 'clean'. This might appeal to families who want a larger space and prefer the safety of a residential neighbourhood."
   ]
  },
  {
   "cell_type": "markdown",
   "metadata": {
    "hidden": true
   },
   "source": [
    "### Algorithms and Techniques"
   ]
  },
  {
   "cell_type": "markdown",
   "metadata": {
    "hidden": true
   },
   "source": [
    "In this section, you will need to discuss the algorithms and techniques you intend to use for solving the problem. You should justify the use of each one based on the characteristics of the problem and the problem domain. Questions to ask yourself when writing this section:\n",
    "- _Are the algorithms you will use, including any default variables/parameters in the project clearly defined?_\n",
    "- _Are the techniques to be used thoroughly discussed and justified?_\n",
    "- _Is it made clear how the input data or datasets will be handled by the algorithms and techniques chosen?_"
   ]
  },
  {
   "cell_type": "markdown",
   "metadata": {
    "hidden": true
   },
   "source": [
    "I intend to use 3 regression algorithms:\n",
    "\n",
    "**1. Linear Regression**\n",
    "\n",
    "To establish a baseline model\n",
    "\n",
    "**2.\tDecision Tree**\n",
    "\n",
    "This is a more complex model that can capture nonlinear relationships in the dataset whilst still retaining interpretability. This is also robust to missing values, and has the added advantage of being able to help with feature selection based on feature importance. \n",
    "\n",
    "**3.\tRandom Forest**\n",
    "\n",
    "This is the most complex ensemble model built from decision trees, and should be able to provide additional accuracy. While it sacrifices interpretability, sense checking can be made with the earlier decision tree model whilst added an interpretation layer using Tree Interpreter allows model users to break down individual predictions.\n"
   ]
  },
  {
   "cell_type": "markdown",
   "metadata": {
    "hidden": true
   },
   "source": [
    "### Benchmark"
   ]
  },
  {
   "cell_type": "markdown",
   "metadata": {
    "hidden": true
   },
   "source": [
    "In this section, you will need to provide a clearly defined benchmark result or threshold for comparing across performances obtained by your solution. The reasoning behind the benchmark (in the case where it is not an established result) should be discussed. Questions to ask yourself when writing this section:\n",
    "- _Has some result or value been provided that acts as a benchmark for measuring performance?_\n",
    "- _Is it clear how this result or value was obtained (whether by data or by hypothesis)?_"
   ]
  },
  {
   "cell_type": "markdown",
   "metadata": {
    "hidden": true
   },
   "source": [
    "To my knowledge, there are no existing Airbnb pricing models released to the public. However, I will use a hold-out set to test my model, and the mean squared error will be used to measure the accuracy of the model. \n",
    "\n",
    "I will also build challenger models, and in particular start with a linear regression model to act as the baseline benchmark. A linear regression model is chosen as it is simple and interpretable, and the results can be easily interrogated. The methodology for building this model can be found below in the methodology section.\n",
    "\n",
    "After building the model, an MSE of 254474109 with variance of 0.18 is established."
   ]
  },
  {
   "cell_type": "markdown",
   "metadata": {
    "heading_collapsed": true
   },
   "source": [
    "## III. Methodology\n",
    "_(approx. 3-5 pages)_"
   ]
  },
  {
   "cell_type": "markdown",
   "metadata": {
    "hidden": true
   },
   "source": [
    "### Data Preprocessing\n",
    "In this section, all of your preprocessing steps will need to be clearly documented, if any were necessary. From the previous section, any of the abnormalities or characteristics that you identified about the dataset will be addressed and corrected here. Questions to ask yourself when writing this section:\n",
    "- _If the algorithms chosen require preprocessing steps like feature selection or feature transformations, have they been properly documented?_\n",
    "- _Based on the **Data Exploration** section, if there were abnormalities or characteristics that needed to be addressed, have they been properly corrected?_\n",
    "- _If no preprocessing is needed, has it been made clear why?_"
   ]
  },
  {
   "cell_type": "markdown",
   "metadata": {
    "hidden": true
   },
   "source": [
    "Before performing any machine learning, the dataset needs to be pre-processed. The following steps were taken for this project and discussed in the 'Data Exploration' section of the report:\n",
    "\n",
    "1. Converting data types (e.g. string into integers)\n",
    "2. Removing part-time listings\n",
    "3. Removing large houses\n",
    "4. Removing high-priced rentals\n",
    "5. Changing minor category times into ‘Other’\n",
    "6. Calculation of yield\n",
    "7. Topic modelling\n",
    "\n",
    "In addition to those steps already taken, missing values need to be imputed, features have to be selected and categorical features have to be encoded."
   ]
  },
  {
   "cell_type": "code",
   "execution_count": 161,
   "metadata": {
    "collapsed": false,
    "hidden": true
   },
   "outputs": [
    {
     "data": {
      "text/html": [
       "<div>\n",
       "<style>\n",
       "    .dataframe thead tr:only-child th {\n",
       "        text-align: right;\n",
       "    }\n",
       "\n",
       "    .dataframe thead th {\n",
       "        text-align: left;\n",
       "    }\n",
       "\n",
       "    .dataframe tbody tr th {\n",
       "        vertical-align: top;\n",
       "    }\n",
       "</style>\n",
       "<table border=\"1\" class=\"dataframe\">\n",
       "  <thead>\n",
       "    <tr style=\"text-align: right;\">\n",
       "      <th></th>\n",
       "      <th>accommodates</th>\n",
       "      <th>bathrooms</th>\n",
       "      <th>bedrooms</th>\n",
       "      <th>beds</th>\n",
       "      <th>price</th>\n",
       "      <th>guests_included</th>\n",
       "      <th>extra_people</th>\n",
       "      <th>minimum_nights</th>\n",
       "      <th>reviews_per_month</th>\n",
       "      <th>latitude</th>\n",
       "      <th>longitude</th>\n",
       "      <th>yield</th>\n",
       "    </tr>\n",
       "  </thead>\n",
       "  <tbody>\n",
       "    <tr>\n",
       "      <th>count</th>\n",
       "      <td>9722.000000</td>\n",
       "      <td>9722.000000</td>\n",
       "      <td>9722.000000</td>\n",
       "      <td>9722.000000</td>\n",
       "      <td>9722.000000</td>\n",
       "      <td>9722.000000</td>\n",
       "      <td>9722.000000</td>\n",
       "      <td>9722.000000</td>\n",
       "      <td>9722.000000</td>\n",
       "      <td>9722.000000</td>\n",
       "      <td>9722.000000</td>\n",
       "      <td>9722.000000</td>\n",
       "    </tr>\n",
       "    <tr>\n",
       "      <th>mean</th>\n",
       "      <td>3.470582</td>\n",
       "      <td>1.267846</td>\n",
       "      <td>1.431393</td>\n",
       "      <td>1.894260</td>\n",
       "      <td>141.301893</td>\n",
       "      <td>1.681033</td>\n",
       "      <td>9.123637</td>\n",
       "      <td>3.473668</td>\n",
       "      <td>1.631914</td>\n",
       "      <td>51.509931</td>\n",
       "      <td>-0.130956</td>\n",
       "      <td>15739.358560</td>\n",
       "    </tr>\n",
       "    <tr>\n",
       "      <th>std</th>\n",
       "      <td>1.867488</td>\n",
       "      <td>0.517121</td>\n",
       "      <td>0.846198</td>\n",
       "      <td>1.212666</td>\n",
       "      <td>95.602315</td>\n",
       "      <td>1.235965</td>\n",
       "      <td>14.000453</td>\n",
       "      <td>10.015233</td>\n",
       "      <td>1.521587</td>\n",
       "      <td>0.039996</td>\n",
       "      <td>0.076983</td>\n",
       "      <td>17900.206348</td>\n",
       "    </tr>\n",
       "    <tr>\n",
       "      <th>min</th>\n",
       "      <td>1.000000</td>\n",
       "      <td>0.000000</td>\n",
       "      <td>0.000000</td>\n",
       "      <td>1.000000</td>\n",
       "      <td>17.000000</td>\n",
       "      <td>1.000000</td>\n",
       "      <td>0.000000</td>\n",
       "      <td>1.000000</td>\n",
       "      <td>0.020000</td>\n",
       "      <td>51.319567</td>\n",
       "      <td>-0.484704</td>\n",
       "      <td>82.080000</td>\n",
       "    </tr>\n",
       "    <tr>\n",
       "      <th>25%</th>\n",
       "      <td>2.000000</td>\n",
       "      <td>1.000000</td>\n",
       "      <td>1.000000</td>\n",
       "      <td>1.000000</td>\n",
       "      <td>70.000000</td>\n",
       "      <td>1.000000</td>\n",
       "      <td>0.000000</td>\n",
       "      <td>1.000000</td>\n",
       "      <td>0.490000</td>\n",
       "      <td>51.489270</td>\n",
       "      <td>-0.185451</td>\n",
       "      <td>3830.400000</td>\n",
       "    </tr>\n",
       "    <tr>\n",
       "      <th>50%</th>\n",
       "      <td>3.000000</td>\n",
       "      <td>1.000000</td>\n",
       "      <td>1.000000</td>\n",
       "      <td>2.000000</td>\n",
       "      <td>121.000000</td>\n",
       "      <td>1.000000</td>\n",
       "      <td>5.000000</td>\n",
       "      <td>2.000000</td>\n",
       "      <td>1.080000</td>\n",
       "      <td>51.513787</td>\n",
       "      <td>-0.130192</td>\n",
       "      <td>9288.000000</td>\n",
       "    </tr>\n",
       "    <tr>\n",
       "      <th>75%</th>\n",
       "      <td>4.000000</td>\n",
       "      <td>1.500000</td>\n",
       "      <td>2.000000</td>\n",
       "      <td>2.000000</td>\n",
       "      <td>180.000000</td>\n",
       "      <td>2.000000</td>\n",
       "      <td>15.000000</td>\n",
       "      <td>3.000000</td>\n",
       "      <td>2.300000</td>\n",
       "      <td>51.533126</td>\n",
       "      <td>-0.078512</td>\n",
       "      <td>21480.660000</td>\n",
       "    </tr>\n",
       "    <tr>\n",
       "      <th>max</th>\n",
       "      <td>10.000000</td>\n",
       "      <td>8.000000</td>\n",
       "      <td>7.000000</td>\n",
       "      <td>10.000000</td>\n",
       "      <td>1286.000000</td>\n",
       "      <td>10.000000</td>\n",
       "      <td>230.000000</td>\n",
       "      <td>300.000000</td>\n",
       "      <td>10.530000</td>\n",
       "      <td>51.663640</td>\n",
       "      <td>0.222488</td>\n",
       "      <td>250560.000000</td>\n",
       "    </tr>\n",
       "  </tbody>\n",
       "</table>\n",
       "</div>"
      ],
      "text/plain": [
       "       accommodates    bathrooms     bedrooms         beds        price  \\\n",
       "count   9722.000000  9722.000000  9722.000000  9722.000000  9722.000000   \n",
       "mean       3.470582     1.267846     1.431393     1.894260   141.301893   \n",
       "std        1.867488     0.517121     0.846198     1.212666    95.602315   \n",
       "min        1.000000     0.000000     0.000000     1.000000    17.000000   \n",
       "25%        2.000000     1.000000     1.000000     1.000000    70.000000   \n",
       "50%        3.000000     1.000000     1.000000     2.000000   121.000000   \n",
       "75%        4.000000     1.500000     2.000000     2.000000   180.000000   \n",
       "max       10.000000     8.000000     7.000000    10.000000  1286.000000   \n",
       "\n",
       "       guests_included  extra_people  minimum_nights  reviews_per_month  \\\n",
       "count      9722.000000   9722.000000     9722.000000        9722.000000   \n",
       "mean          1.681033      9.123637        3.473668           1.631914   \n",
       "std           1.235965     14.000453       10.015233           1.521587   \n",
       "min           1.000000      0.000000        1.000000           0.020000   \n",
       "25%           1.000000      0.000000        1.000000           0.490000   \n",
       "50%           1.000000      5.000000        2.000000           1.080000   \n",
       "75%           2.000000     15.000000        3.000000           2.300000   \n",
       "max          10.000000    230.000000      300.000000          10.530000   \n",
       "\n",
       "          latitude    longitude          yield  \n",
       "count  9722.000000  9722.000000    9722.000000  \n",
       "mean     51.509931    -0.130956   15739.358560  \n",
       "std       0.039996     0.076983   17900.206348  \n",
       "min      51.319567    -0.484704      82.080000  \n",
       "25%      51.489270    -0.185451    3830.400000  \n",
       "50%      51.513787    -0.130192    9288.000000  \n",
       "75%      51.533126    -0.078512   21480.660000  \n",
       "max      51.663640     0.222488  250560.000000  "
      ]
     },
     "execution_count": 161,
     "metadata": {},
     "output_type": "execute_result"
    }
   ],
   "source": [
    "df.describe()"
   ]
  },
  {
   "cell_type": "markdown",
   "metadata": {
    "hidden": true
   },
   "source": [
    "#### Feature selection"
   ]
  },
  {
   "cell_type": "markdown",
   "metadata": {
    "hidden": true
   },
   "source": [
    "I also remove features that are not necessary for the machine learning phase.\n",
    "\n",
    "'Price' and 'reviews_per_month' are removed as they are used to calculate 'yield' and would have a strong correlation with 'yield'."
   ]
  },
  {
   "cell_type": "code",
   "execution_count": 162,
   "metadata": {
    "ExecuteTime": {
     "end_time": "2017-09-12T19:02:02.184018Z",
     "start_time": "2017-09-12T19:02:02.009131Z"
    },
    "collapsed": false,
    "hidden": true,
    "scrolled": true
   },
   "outputs": [
    {
     "name": "stdout",
     "output_type": "stream",
     "text": [
      "Dataset has 9722 rows, 13 columns.\n"
     ]
    }
   ],
   "source": [
    "cols_to_drop = ['price', 'reviews_per_month']\n",
    "df_final_viz = df[cols_to_drop]\n",
    "df = df.drop(cols_to_drop, axis = 1)\n",
    "print(\"Dataset has {} rows, {} columns.\".format(*df.shape))"
   ]
  },
  {
   "cell_type": "markdown",
   "metadata": {
    "hidden": true
   },
   "source": [
    "#### Dummy encoding"
   ]
  },
  {
   "cell_type": "markdown",
   "metadata": {
    "hidden": true
   },
   "source": [
    "Finally, categorical features need to be encoded to be treated properly by the machine learning algorithms. As the algorithms require numerical features only, the different categories have to be given a number. However, the categorical features present do not have any order inherent in them (eg. apartment vs. house) and thus needs to be encoded where 1 is given if the category is true and 0 is not."
   ]
  },
  {
   "cell_type": "code",
   "execution_count": 166,
   "metadata": {
    "ExecuteTime": {
     "end_time": "2017-09-12T19:02:02.245011Z",
     "start_time": "2017-09-12T19:02:02.229259Z"
    },
    "collapsed": false,
    "hidden": true,
    "scrolled": true
   },
   "outputs": [
    {
     "name": "stdout",
     "output_type": "stream",
     "text": [
      "Dataset has 9722 rows, 19 columns.\n"
     ]
    }
   ],
   "source": [
    "# Dummy encoding\n",
    "categorical_feats = ['property_type', 'room_type', 'bed_type']\n",
    "df = pd.get_dummies(df, columns=categorical_feats, drop_first=False)\n",
    "print(\"Dataset has {} rows, {} columns.\".format(*df.shape))"
   ]
  },
  {
   "cell_type": "markdown",
   "metadata": {
    "hidden": true
   },
   "source": [
    "### Implementation\n",
    "In this section, the process for which metrics, algorithms, and techniques that you implemented for the given data will need to be clearly documented. It should be abundantly clear how the implementation was carried out, and discussion should be made regarding any complications that occurred during this process. Questions to ask yourself when writing this section:\n",
    "- _Is it made clear how the algorithms and techniques were implemented with the given datasets or input data?_\n",
    "- _Were there any complications with the original metrics or techniques that required changing prior to acquiring a solution?_\n",
    "- _Was there any part of the coding process (e.g., writing complicated functions) that should be documented?_"
   ]
  },
  {
   "cell_type": "markdown",
   "metadata": {
    "hidden": true
   },
   "source": [
    "Once the dataset has been processed it is now ready to for the models to be built.\n",
    "\n",
    "1. As a first step, the target variable 'yield' has to be seperated from the response variables to from the X and y data sets.\n",
    "2. Both X and y data sets and respectively split into a training set and a testing set. I chose to use 30% of the data set for the testing set. As part of the splitting process, the data set is also shuffled to ensure there is no inherent or hidden order to the data set and that both the testing and training sets are a fair representative of the complete data set.\n",
    "3. In the training phase, the training set is fitted to the 3 algorithms set out in the 'Algorithms and Techniques' section. During this process, the models are tuned using scikit-learn's GridSearchCV function. This allows us to set out a grid of parameters to iteratively train and set the models on and ultimately choose the best parameters. As tree-based algorithms are being applied, the parameters being tuned are the max no. of features used, the max depth of trees, the minimum sample split and the no. of trees grown (for random forest).\n",
    "4. Once the 3 models have been fit, they are scored on the testing set. To do this, we predict the 'yield' variable using the trained models on the response data set. The predicted 'yield' values are scored against the actual 'yield' values in the test set using the mean squared error (MSE) as set out in the 'Metrics' section. Variance is also measured alongside MSE to have a better view of consistency of our models.\n",
    "5. After each model is trained and tested, the results are compared to check that more complicated models do indeed produce a better accuracy."
   ]
  },
  {
   "cell_type": "code",
   "execution_count": 34,
   "metadata": {
    "ExecuteTime": {
     "end_time": "2017-09-12T19:02:02.296553Z",
     "start_time": "2017-09-12T19:02:02.247464Z"
    },
    "collapsed": false,
    "hidden": true,
    "scrolled": false
   },
   "outputs": [
    {
     "data": {
      "text/html": [
       "<div>\n",
       "<style>\n",
       "    .dataframe thead tr:only-child th {\n",
       "        text-align: right;\n",
       "    }\n",
       "\n",
       "    .dataframe thead th {\n",
       "        text-align: left;\n",
       "    }\n",
       "\n",
       "    .dataframe tbody tr th {\n",
       "        vertical-align: top;\n",
       "    }\n",
       "</style>\n",
       "<table border=\"1\" class=\"dataframe\">\n",
       "  <thead>\n",
       "    <tr style=\"text-align: right;\">\n",
       "      <th></th>\n",
       "      <th>accommodates</th>\n",
       "      <th>bathrooms</th>\n",
       "      <th>bedrooms</th>\n",
       "      <th>beds</th>\n",
       "      <th>guests_included</th>\n",
       "      <th>extra_people</th>\n",
       "      <th>minimum_nights</th>\n",
       "      <th>latitude</th>\n",
       "      <th>longitude</th>\n",
       "      <th>yield</th>\n",
       "      <th>property_type_Apartment</th>\n",
       "      <th>property_type_Bed &amp; Breakfast</th>\n",
       "      <th>property_type_House</th>\n",
       "      <th>property_type_Other</th>\n",
       "      <th>room_type_Entire home/apt</th>\n",
       "      <th>room_type_Private room</th>\n",
       "      <th>room_type_Shared room</th>\n",
       "      <th>bed_type_Non-Real Bed</th>\n",
       "      <th>bed_type_Real Bed</th>\n",
       "    </tr>\n",
       "    <tr>\n",
       "      <th>id</th>\n",
       "      <th></th>\n",
       "      <th></th>\n",
       "      <th></th>\n",
       "      <th></th>\n",
       "      <th></th>\n",
       "      <th></th>\n",
       "      <th></th>\n",
       "      <th></th>\n",
       "      <th></th>\n",
       "      <th></th>\n",
       "      <th></th>\n",
       "      <th></th>\n",
       "      <th></th>\n",
       "      <th></th>\n",
       "      <th></th>\n",
       "      <th></th>\n",
       "      <th></th>\n",
       "      <th></th>\n",
       "      <th></th>\n",
       "    </tr>\n",
       "  </thead>\n",
       "  <tbody>\n",
       "    <tr>\n",
       "      <th>14912894</th>\n",
       "      <td>2.0</td>\n",
       "      <td>1.0</td>\n",
       "      <td>1.0</td>\n",
       "      <td>1.0</td>\n",
       "      <td>1.0</td>\n",
       "      <td>9.0</td>\n",
       "      <td>2.0</td>\n",
       "      <td>51.431117</td>\n",
       "      <td>-0.309713</td>\n",
       "      <td>2595.60</td>\n",
       "      <td>1</td>\n",
       "      <td>0</td>\n",
       "      <td>0</td>\n",
       "      <td>0</td>\n",
       "      <td>0</td>\n",
       "      <td>1</td>\n",
       "      <td>0</td>\n",
       "      <td>0</td>\n",
       "      <td>1</td>\n",
       "    </tr>\n",
       "    <tr>\n",
       "      <th>14296637</th>\n",
       "      <td>1.0</td>\n",
       "      <td>1.0</td>\n",
       "      <td>1.0</td>\n",
       "      <td>1.0</td>\n",
       "      <td>1.0</td>\n",
       "      <td>10.0</td>\n",
       "      <td>1.0</td>\n",
       "      <td>51.421323</td>\n",
       "      <td>-0.278367</td>\n",
       "      <td>807.84</td>\n",
       "      <td>1</td>\n",
       "      <td>0</td>\n",
       "      <td>0</td>\n",
       "      <td>0</td>\n",
       "      <td>0</td>\n",
       "      <td>1</td>\n",
       "      <td>0</td>\n",
       "      <td>0</td>\n",
       "      <td>1</td>\n",
       "    </tr>\n",
       "    <tr>\n",
       "      <th>6222799</th>\n",
       "      <td>3.0</td>\n",
       "      <td>1.0</td>\n",
       "      <td>1.0</td>\n",
       "      <td>1.0</td>\n",
       "      <td>1.0</td>\n",
       "      <td>10.0</td>\n",
       "      <td>1.0</td>\n",
       "      <td>51.419415</td>\n",
       "      <td>-0.288245</td>\n",
       "      <td>5113.44</td>\n",
       "      <td>0</td>\n",
       "      <td>0</td>\n",
       "      <td>1</td>\n",
       "      <td>0</td>\n",
       "      <td>0</td>\n",
       "      <td>1</td>\n",
       "      <td>0</td>\n",
       "      <td>0</td>\n",
       "      <td>1</td>\n",
       "    </tr>\n",
       "    <tr>\n",
       "      <th>7327883</th>\n",
       "      <td>2.0</td>\n",
       "      <td>1.0</td>\n",
       "      <td>1.0</td>\n",
       "      <td>1.0</td>\n",
       "      <td>1.0</td>\n",
       "      <td>10.0</td>\n",
       "      <td>1.0</td>\n",
       "      <td>51.390646</td>\n",
       "      <td>-0.310919</td>\n",
       "      <td>972.00</td>\n",
       "      <td>1</td>\n",
       "      <td>0</td>\n",
       "      <td>0</td>\n",
       "      <td>0</td>\n",
       "      <td>0</td>\n",
       "      <td>0</td>\n",
       "      <td>1</td>\n",
       "      <td>1</td>\n",
       "      <td>0</td>\n",
       "    </tr>\n",
       "    <tr>\n",
       "      <th>7515814</th>\n",
       "      <td>2.0</td>\n",
       "      <td>1.0</td>\n",
       "      <td>1.0</td>\n",
       "      <td>1.0</td>\n",
       "      <td>1.0</td>\n",
       "      <td>0.0</td>\n",
       "      <td>2.0</td>\n",
       "      <td>51.413554</td>\n",
       "      <td>-0.296376</td>\n",
       "      <td>12947.04</td>\n",
       "      <td>1</td>\n",
       "      <td>0</td>\n",
       "      <td>0</td>\n",
       "      <td>0</td>\n",
       "      <td>1</td>\n",
       "      <td>0</td>\n",
       "      <td>0</td>\n",
       "      <td>0</td>\n",
       "      <td>1</td>\n",
       "    </tr>\n",
       "  </tbody>\n",
       "</table>\n",
       "</div>"
      ],
      "text/plain": [
       "          accommodates  bathrooms  bedrooms  beds  guests_included  \\\n",
       "id                                                                   \n",
       "14912894           2.0        1.0       1.0   1.0              1.0   \n",
       "14296637           1.0        1.0       1.0   1.0              1.0   \n",
       "6222799            3.0        1.0       1.0   1.0              1.0   \n",
       "7327883            2.0        1.0       1.0   1.0              1.0   \n",
       "7515814            2.0        1.0       1.0   1.0              1.0   \n",
       "\n",
       "          extra_people  minimum_nights   latitude  longitude     yield  \\\n",
       "id                                                                       \n",
       "14912894           9.0             2.0  51.431117  -0.309713   2595.60   \n",
       "14296637          10.0             1.0  51.421323  -0.278367    807.84   \n",
       "6222799           10.0             1.0  51.419415  -0.288245   5113.44   \n",
       "7327883           10.0             1.0  51.390646  -0.310919    972.00   \n",
       "7515814            0.0             2.0  51.413554  -0.296376  12947.04   \n",
       "\n",
       "          property_type_Apartment  property_type_Bed & Breakfast  \\\n",
       "id                                                                 \n",
       "14912894                        1                              0   \n",
       "14296637                        1                              0   \n",
       "6222799                         0                              0   \n",
       "7327883                         1                              0   \n",
       "7515814                         1                              0   \n",
       "\n",
       "          property_type_House  property_type_Other  room_type_Entire home/apt  \\\n",
       "id                                                                              \n",
       "14912894                    0                    0                          0   \n",
       "14296637                    0                    0                          0   \n",
       "6222799                     1                    0                          0   \n",
       "7327883                     0                    0                          0   \n",
       "7515814                     0                    0                          1   \n",
       "\n",
       "          room_type_Private room  room_type_Shared room  \\\n",
       "id                                                        \n",
       "14912894                       1                      0   \n",
       "14296637                       1                      0   \n",
       "6222799                        1                      0   \n",
       "7327883                        0                      1   \n",
       "7515814                        0                      0   \n",
       "\n",
       "          bed_type_Non-Real Bed  bed_type_Real Bed  \n",
       "id                                                  \n",
       "14912894                      0                  1  \n",
       "14296637                      0                  1  \n",
       "6222799                       0                  1  \n",
       "7327883                       1                  0  \n",
       "7515814                       0                  1  "
      ]
     },
     "execution_count": 34,
     "metadata": {},
     "output_type": "execute_result"
    }
   ],
   "source": [
    "df.head()"
   ]
  },
  {
   "cell_type": "code",
   "execution_count": 35,
   "metadata": {
    "ExecuteTime": {
     "end_time": "2017-09-12T19:02:02.312062Z",
     "start_time": "2017-09-12T19:02:02.301378Z"
    },
    "collapsed": true,
    "hidden": true
   },
   "outputs": [],
   "source": [
    "# Create response and target variable\n",
    "target = 'yield'\n",
    "X = df.drop(target, axis=1)\n",
    "y = df[target]"
   ]
  },
  {
   "cell_type": "code",
   "execution_count": 36,
   "metadata": {
    "ExecuteTime": {
     "end_time": "2017-09-12T19:02:02.334551Z",
     "start_time": "2017-09-12T19:02:02.327646Z"
    },
    "collapsed": false,
    "hidden": true
   },
   "outputs": [],
   "source": [
    "# Train test split\n",
    "test_size = 0.3\n",
    "seed = 42\n",
    "\n",
    "X_train, X_test, y_train, y_test = train_test_split(X, y, test_size=test_size, random_state=seed)"
   ]
  },
  {
   "cell_type": "markdown",
   "metadata": {
    "hidden": true
   },
   "source": [
    "#### Linear regression model"
   ]
  },
  {
   "cell_type": "code",
   "execution_count": 37,
   "metadata": {
    "ExecuteTime": {
     "end_time": "2017-09-12T19:02:02.443653Z",
     "start_time": "2017-09-12T19:02:02.336520Z"
    },
    "collapsed": true,
    "hidden": true
   },
   "outputs": [],
   "source": [
    "from sklearn import linear_model\n",
    "from sklearn.metrics import mean_squared_error, r2_score"
   ]
  },
  {
   "cell_type": "code",
   "execution_count": 38,
   "metadata": {
    "ExecuteTime": {
     "end_time": "2017-09-12T19:02:02.478222Z",
     "start_time": "2017-09-12T19:02:02.446635Z"
    },
    "collapsed": false,
    "hidden": true
   },
   "outputs": [
    {
     "data": {
      "text/plain": [
       "LinearRegression(copy_X=True, fit_intercept=True, n_jobs=1, normalize=False)"
      ]
     },
     "execution_count": 38,
     "metadata": {},
     "output_type": "execute_result"
    }
   ],
   "source": [
    "# Create linear regression object\n",
    "regr = linear_model.LinearRegression()\n",
    "\n",
    "# Train the model using the training sets\n",
    "regr.fit(X_train, y_train)"
   ]
  },
  {
   "cell_type": "code",
   "execution_count": 39,
   "metadata": {
    "ExecuteTime": {
     "end_time": "2017-09-12T19:02:02.491044Z",
     "start_time": "2017-09-12T19:02:02.480505Z"
    },
    "collapsed": false,
    "hidden": true,
    "scrolled": true
   },
   "outputs": [
    {
     "name": "stdout",
     "output_type": "stream",
     "text": [
      "Mean squared error: 254474109.10\n",
      "Variance score: 0.18\n"
     ]
    }
   ],
   "source": [
    "# Make predictions using the testing set\n",
    "regr_y_pred = regr.predict(X_test)\n",
    "\n",
    "# The mean squared error\n",
    "print(\"Mean squared error: %.2f\" % mean_squared_error(y_test, regr_y_pred))\n",
    "# Explained variance score: 1 is perfect prediction\n",
    "print('Variance score: %.2f' % r2_score(y_test, regr_y_pred))"
   ]
  },
  {
   "cell_type": "markdown",
   "metadata": {
    "hidden": true
   },
   "source": [
    "#### Decision tree model"
   ]
  },
  {
   "cell_type": "code",
   "execution_count": 40,
   "metadata": {
    "ExecuteTime": {
     "end_time": "2017-09-12T19:02:02.497400Z",
     "start_time": "2017-09-12T19:02:02.493609Z"
    },
    "collapsed": true,
    "hidden": true
   },
   "outputs": [],
   "source": [
    "from sklearn.tree import DecisionTreeRegressor"
   ]
  },
  {
   "cell_type": "code",
   "execution_count": 41,
   "metadata": {
    "ExecuteTime": {
     "end_time": "2017-09-12T19:02:02.885204Z",
     "start_time": "2017-09-12T19:02:02.499685Z"
    },
    "collapsed": false,
    "hidden": true
   },
   "outputs": [
    {
     "data": {
      "text/plain": [
       "DecisionTreeRegressor(criterion='mse', max_depth=5, max_features=None,\n",
       "           max_leaf_nodes=None, min_impurity_decrease=0.0,\n",
       "           min_impurity_split=None, min_samples_leaf=1,\n",
       "           min_samples_split=2, min_weight_fraction_leaf=0.0,\n",
       "           presort=False, random_state=42, splitter='best')"
      ]
     },
     "execution_count": 41,
     "metadata": {},
     "output_type": "execute_result"
    }
   ],
   "source": [
    "# Fit regression model\n",
    "dt_regr = DecisionTreeRegressor(random_state=seed, max_depth=5)\n",
    "dt_regr.fit(X_train, y_train)"
   ]
  },
  {
   "cell_type": "code",
   "execution_count": 42,
   "metadata": {
    "ExecuteTime": {
     "end_time": "2017-09-12T19:02:02.905306Z",
     "start_time": "2017-09-12T19:02:02.887819Z"
    },
    "collapsed": false,
    "hidden": true
   },
   "outputs": [
    {
     "name": "stdout",
     "output_type": "stream",
     "text": [
      "Mean squared error: 253282661.10\n",
      "Variance score: 0.18\n"
     ]
    }
   ],
   "source": [
    "# Make prediction\n",
    "dt_y_pred = dt_regr.predict(X_test)\n",
    "\n",
    "# The mean squared error\n",
    "print(\"Mean squared error: %.2f\" % mean_squared_error(y_test, dt_y_pred))\n",
    "# Explained variance score: 1 is perfect prediction\n",
    "print('Variance score: %.2f' % r2_score(y_test, dt_y_pred))"
   ]
  },
  {
   "cell_type": "markdown",
   "metadata": {
    "hidden": true
   },
   "source": [
    "#### Random forest model"
   ]
  },
  {
   "cell_type": "code",
   "execution_count": 43,
   "metadata": {
    "ExecuteTime": {
     "end_time": "2017-09-12T19:02:38.571740Z",
     "start_time": "2017-09-12T19:02:02.907603Z"
    },
    "collapsed": false,
    "hidden": true
   },
   "outputs": [
    {
     "name": "stdout",
     "output_type": "stream",
     "text": [
      "CPU times: user 2.13 s, sys: 12.3 ms, total: 2.14 s\n",
      "Wall time: 2.15 s\n"
     ]
    }
   ],
   "source": [
    "%%time\n",
    "rf_regr = RandomForestRegressor(random_state=seed, bootstrap=True, criterion='mse', max_depth=10, \n",
    "                           max_features='auto', min_samples_split=4, n_estimators=150)\n",
    "\n",
    "rf_regr.fit(X_train, y_train)"
   ]
  },
  {
   "cell_type": "code",
   "execution_count": 44,
   "metadata": {
    "ExecuteTime": {
     "end_time": "2017-09-12T19:02:38.606139Z",
     "start_time": "2017-09-12T19:02:38.573574Z"
    },
    "collapsed": false,
    "hidden": true,
    "scrolled": false
   },
   "outputs": [
    {
     "name": "stdout",
     "output_type": "stream",
     "text": [
      "Mean squared error: 212548432.31\n",
      "Variance score: 0.31\n"
     ]
    }
   ],
   "source": [
    "# Make prediction\n",
    "rf_y_pred = rf_regr.predict(X_test)\n",
    "\n",
    "# The mean squared error\n",
    "print(\"Mean squared error: %.2f\" % mean_squared_error(y_test, rf_y_pred))\n",
    "# Explained variance score: 1 is perfect prediction\n",
    "print('Variance score: %.2f' % r2_score(y_test, rf_y_pred))"
   ]
  },
  {
   "cell_type": "markdown",
   "metadata": {
    "hidden": true
   },
   "source": [
    "### Refinement\n",
    "In this section, you will need to discuss the process of improvement you made upon the algorithms and techniques you used in your implementation. For example, adjusting parameters for certain models to acquire improved solutions would fall under the refinement category. Your initial and final solutions should be reported, as well as any significant intermediate results as necessary. Questions to ask yourself when writing this section:\n",
    "- _Has an initial solution been found and clearly reported?_\n",
    "- _Is the process of improvement clearly documented, such as what techniques were used?_\n",
    "- _Are intermediate and final solutions clearly reported as the process is improved?_"
   ]
  },
  {
   "cell_type": "markdown",
   "metadata": {
    "hidden": true
   },
   "source": [
    "In the 'Problem Statement' section, it was first highlighted that one of the key aspects of this project is to test the predictive value of textual information in AirBnb listings. As such, one of they key refinements made is to include the earlier topics that have been modelled using LDA (explained in the 'Data Exploration' section). Each listing is classified into one topic based on probability determined by the trained LDA model. This topic is then added in as a few feature.\n",
    "\n",
    "Before this, the tuned random forest model had the best result with the lowest MSE of 212548432 and the highest variance of 0.31. After including the description topics, MSE reduces further to 211329730 while variance increases further to 0.32. This validates the hypothesis that there is valuable information as modelling description text as topics increases the model's predictive accuracy, although it is a very small effect."
   ]
  },
  {
   "cell_type": "code",
   "execution_count": 167,
   "metadata": {
    "collapsed": false,
    "hidden": true
   },
   "outputs": [
    {
     "name": "stdout",
     "output_type": "stream",
     "text": [
      "Dataset has 9722 rows, 22 columns.\n"
     ]
    }
   ],
   "source": [
    "df = add_topics_to_df(ldamodel_description, doc_term_matrix_description, df, new_col='topics_description', num_topics=3)\n",
    "\n",
    "# Rename based on understanding of topics\n",
    "df['topics_description'].replace({0:'Luxury', 1:'Business', 2:'Budget'},inplace=True)\n",
    "df = pd.get_dummies(df, columns=['topics_description'], drop_first=False)\n",
    "\n",
    "print(\"Dataset has {} rows, {} columns.\".format(*df.shape))"
   ]
  },
  {
   "cell_type": "code",
   "execution_count": 46,
   "metadata": {
    "collapsed": true,
    "hidden": true
   },
   "outputs": [],
   "source": [
    "# Create response and target variable\n",
    "X = df.drop(target, axis=1)\n",
    "y = df[target]\n",
    "X_train, X_test, y_train, y_test = train_test_split(X, y, test_size=test_size, random_state=seed)"
   ]
  },
  {
   "cell_type": "code",
   "execution_count": 47,
   "metadata": {
    "ExecuteTime": {
     "end_time": "2017-09-12T19:02:38.571740Z",
     "start_time": "2017-09-12T19:02:02.907603Z"
    },
    "collapsed": false,
    "hidden": true
   },
   "outputs": [
    {
     "name": "stdout",
     "output_type": "stream",
     "text": [
      "CPU times: user 2.31 s, sys: 9.99 ms, total: 2.32 s\n",
      "Wall time: 2.33 s\n"
     ]
    },
    {
     "data": {
      "text/plain": [
       "RandomForestRegressor(bootstrap=True, criterion='mse', max_depth=10,\n",
       "           max_features='auto', max_leaf_nodes=None,\n",
       "           min_impurity_decrease=0.0, min_impurity_split=None,\n",
       "           min_samples_leaf=1, min_samples_split=4,\n",
       "           min_weight_fraction_leaf=0.0, n_estimators=150, n_jobs=1,\n",
       "           oob_score=False, random_state=42, verbose=0, warm_start=False)"
      ]
     },
     "execution_count": 47,
     "metadata": {},
     "output_type": "execute_result"
    }
   ],
   "source": [
    "%%time\n",
    "rf_regr.fit(X_train, y_train)"
   ]
  },
  {
   "cell_type": "code",
   "execution_count": 48,
   "metadata": {
    "ExecuteTime": {
     "end_time": "2017-09-12T19:02:38.606139Z",
     "start_time": "2017-09-12T19:02:38.573574Z"
    },
    "collapsed": false,
    "hidden": true,
    "scrolled": false
   },
   "outputs": [
    {
     "name": "stdout",
     "output_type": "stream",
     "text": [
      "Mean squared error: 211329730.05\n",
      "Variance score: 0.32\n"
     ]
    }
   ],
   "source": [
    "# Make prediction\n",
    "rf_y_pred = rf_regr.predict(X_test)\n",
    "\n",
    "# The mean squared error\n",
    "print(\"Mean squared error: %.2f\" % mean_squared_error(y_test, rf_y_pred))\n",
    "# Explained variance score: 1 is perfect prediction\n",
    "print('Variance score: %.2f' % r2_score(y_test, rf_y_pred))"
   ]
  },
  {
   "cell_type": "markdown",
   "metadata": {
    "hidden": true
   },
   "source": [
    "#### Tuning the final model"
   ]
  },
  {
   "cell_type": "markdown",
   "metadata": {
    "hidden": true
   },
   "source": [
    "After confirming that including NLP features helps to improve accuracy, it is included in the final model. The parameters for the final Random Forest model is then tuned using scikit-learn's GridSearchCV.\n",
    "\n",
    "A parameters grid of hyperparameters are created for GridSearchCV to iteratively use and test for the best cross-validated accuracy. The paramters being tuned are: Number of estimators, the maximum depth and the minimum samples split. After tuning, the best parameters are a max_depth of 15, minimum samples split of 10 and number of estimators 200.\n",
    "\n",
    "The final MSE lowers to 200185564 with a variance score of 0.33. This shows that the model is fairly complex, with a large number of trees and depth."
   ]
  },
  {
   "cell_type": "code",
   "execution_count": 56,
   "metadata": {
    "collapsed": false,
    "hidden": true
   },
   "outputs": [],
   "source": [
    "#Tuning the model\n",
    "param_grid = { \"n_estimators\"      : [175, 200, 225, 250],\n",
    "           \"criterion\"         : ['mse'],\n",
    "           \"max_features\"      : ['auto'], #auto, sqrt, log2, int/n_feature\n",
    "           \"max_depth\"         : [10, 14, 15, 16, 18],\n",
    "           \"min_samples_split\" : [6, 7, 8, 9, 10] ,\n",
    "           \"bootstrap\": [True]}"
   ]
  },
  {
   "cell_type": "code",
   "execution_count": 57,
   "metadata": {
    "ExecuteTime": {
     "end_time": "2017-09-12T19:02:38.571740Z",
     "start_time": "2017-09-12T19:02:02.907603Z"
    },
    "collapsed": false,
    "hidden": true
   },
   "outputs": [
    {
     "name": "stdout",
     "output_type": "stream",
     "text": [
      "CPU times: user 34min 33s, sys: 31.8 s, total: 35min 5s\n",
      "Wall time: 38min 26s\n"
     ]
    }
   ],
   "source": [
    "%%time\n",
    "rf = RandomForestRegressor(random_state=seed)\n",
    "\n",
    "rf_cv = GridSearchCV(rf, param_grid, cv=5)\n",
    "rf_cv.fit(X_train, y_train)"
   ]
  },
  {
   "cell_type": "code",
   "execution_count": 59,
   "metadata": {
    "ExecuteTime": {
     "end_time": "2017-09-12T19:02:38.606139Z",
     "start_time": "2017-09-12T19:02:38.573574Z"
    },
    "collapsed": false,
    "hidden": true,
    "scrolled": false
   },
   "outputs": [
    {
     "name": "stdout",
     "output_type": "stream",
     "text": [
      "Mean squared error: 200185564.28\n",
      "Variance score: 0.33\n",
      "Tuned Model Parameters: {'bootstrap': True, 'criterion': 'mse', 'max_depth': 15, 'max_features': 'auto', 'min_samples_split': 8, 'n_estimators': 250}\n"
     ]
    }
   ],
   "source": [
    "# Make prediction\n",
    "rf_y_pred = rf_cv.predict(X_test)\n",
    "\n",
    "# The mean squared error\n",
    "print(\"Mean squared error: %.2f\" % mean_squared_error(y_test, rf_y_pred))\n",
    "# Explained variance score: 1 is perfect prediction\n",
    "print('Variance score: %.2f' % r2_score(y_test, rf_y_pred))\n",
    "# Best params\n",
    "print(\"Tuned Model Parameters: {}\".format(rf_cv.best_params_))"
   ]
  },
  {
   "cell_type": "markdown",
   "metadata": {
    "heading_collapsed": true
   },
   "source": [
    "## IV. Results\n",
    "_(approx. 2-3 pages)_"
   ]
  },
  {
   "cell_type": "markdown",
   "metadata": {
    "heading_collapsed": true,
    "hidden": true
   },
   "source": [
    "### Model Evaluation and Validation\n",
    "In this section, the final model and any supporting qualities should be evaluated in detail. It should be clear how the final model was derived and why this model was chosen. In addition, some type of analysis should be used to validate the robustness of this model and its solution, such as manipulating the input data or environment to see how the model’s solution is affected (this is called sensitivity analysis). Questions to ask yourself when writing this section:\n",
    "- _Is the final model reasonable and aligning with solution expectations? Are the final parameters of the model appropriate?_\n",
    "- _Has the final model been tested with various inputs to evaluate whether the model generalizes well to unseen data?_\n",
    "- _Is the model robust enough for the problem? Do small perturbations (changes) in training data or the input space greatly affect the results?_\n",
    "- _Can results found from the model be trusted?_"
   ]
  },
  {
   "cell_type": "markdown",
   "metadata": {
    "hidden": true
   },
   "source": [
    "To test the robustness of the final model, sensitivity analysis is done by making adjustments to the inputs and evaluating the size of changes in the outputs. The adjustments tested are:\n",
    "\n",
    "1. Changing the random state: This will cause different data points to be randomly selected during the train/testing split and during the random forest training process. By choosing different random states, we can ensure that model training is not a fluke and can be replicated on different states. Changing the state from 42 to 49, the MSE remains in the same ballpark at 211329730 and variance score is the same. \n",
    "\n",
    "2. Changing the split proportions between training and test set: By changing the amount of data split between training and testing, we can ensure that the model retains its accuracy on different size of testing data. A fairly conservative split of 30% for the test set had been chosen initially. By reducing this to 10%, the MSE drops to 205098824 which is to be expected. However, the change is not radicially different and the model is fairly robust. \n",
    "\n",
    "3. Changing input data: By manually tweaking some of the input data, it is possible to see how senstive the model is. If a small change in inputs lead to an unrealistic change in outputs then the model is unlikely to be robust. As an example, I take a random data point in the test data set and change the 'accommodates' feature which is one of the most significant features. The data point originally accommodates 4 persons and the model predicts a yield of £17,400 annually. Adjusting it to accommodate for 2 reduces the predicted yield to £13,377 while increasing it to accommodate for 6 increases it to £18,106. This change is in line with expectations, as a property that can accommodate less guests should have a smaller yield and vice-versa. Importantly, increasing the number of guests leads to a smaller increase in yield than a decrease in yield for decreasing the number of guests. This makes sense as increasing the number of guests without changing any other variable indicates that each guests needs to share of the the listing facilities and hence have less yield per guest.\n"
   ]
  },
  {
   "cell_type": "code",
   "execution_count": 49,
   "metadata": {
    "collapsed": false,
    "hidden": true
   },
   "outputs": [
    {
     "name": "stdout",
     "output_type": "stream",
     "text": [
      "Mean squared error: 211329730.05\n",
      "Variance score: 0.32\n"
     ]
    }
   ],
   "source": [
    "# Change variables\n",
    "random_state = 59\n",
    "\n",
    "X = df.drop(target, axis=1)\n",
    "y = df[target]\n",
    "X_train, X_test, y_train, y_test = train_test_split(X, y, test_size=test_size, random_state=seed)\n",
    "\n",
    "# Fit and make prediction\n",
    "rf_regr.fit(X_train, y_train)\n",
    "rf_y_pred = rf_regr.predict(X_test)\n",
    "\n",
    "# The mean squared error\n",
    "print(\"Mean squared error: %.2f\" % mean_squared_error(y_test, rf_y_pred))\n",
    "# Explained variance score: 1 is perfect prediction\n",
    "print('Variance score: %.2f' % r2_score(y_test, rf_y_pred))"
   ]
  },
  {
   "cell_type": "code",
   "execution_count": 51,
   "metadata": {
    "collapsed": false,
    "hidden": true,
    "scrolled": true
   },
   "outputs": [
    {
     "name": "stdout",
     "output_type": "stream",
     "text": [
      "Mean squared error: 205098824.71\n",
      "Variance score: 0.32\n"
     ]
    }
   ],
   "source": [
    "# Change variables\n",
    "test_size = 0.2\n",
    "\n",
    "X = df.drop(target, axis=1)\n",
    "y = df[target]\n",
    "X_train, X_test, y_train, y_test = train_test_split(X, y, test_size=test_size, random_state=seed)\n",
    "\n",
    "# Fit and make prediction\n",
    "rf_regr.fit(X_train, y_train)\n",
    "rf_y_pred = rf_regr.predict(X_test)\n",
    "\n",
    "# The mean squared error\n",
    "print(\"Mean squared error: %.2f\" % mean_squared_error(y_test, rf_y_pred))\n",
    "# Explained variance score: 1 is perfect prediction\n",
    "print('Variance score: %.2f' % r2_score(y_test, rf_y_pred))"
   ]
  },
  {
   "cell_type": "code",
   "execution_count": 73,
   "metadata": {
    "collapsed": false,
    "hidden": true
   },
   "outputs": [
    {
     "data": {
      "text/plain": [
       "accommodates                      4.000000\n",
       "bathrooms                         1.000000\n",
       "bedrooms                          2.000000\n",
       "beds                              3.000000\n",
       "guests_included                   2.000000\n",
       "extra_people                      5.000000\n",
       "minimum_nights                    2.000000\n",
       "latitude                         51.467320\n",
       "longitude                        -0.167568\n",
       "property_type_Apartment           1.000000\n",
       "property_type_Bed & Breakfast     0.000000\n",
       "property_type_House               0.000000\n",
       "property_type_Other               0.000000\n",
       "room_type_Entire home/apt         1.000000\n",
       "room_type_Private room            0.000000\n",
       "room_type_Shared room             0.000000\n",
       "bed_type_Non-Real Bed             0.000000\n",
       "bed_type_Real Bed                 1.000000\n",
       "topics_description_Budget         1.000000\n",
       "topics_description_Business       0.000000\n",
       "topics_description_Luxury         0.000000\n",
       "Name: 1400514, dtype: float64"
      ]
     },
     "execution_count": 73,
     "metadata": {},
     "output_type": "execute_result"
    }
   ],
   "source": [
    "X_test.loc[1400514]"
   ]
  },
  {
   "cell_type": "code",
   "execution_count": 74,
   "metadata": {
    "collapsed": false,
    "hidden": true
   },
   "outputs": [
    {
     "name": "stderr",
     "output_type": "stream",
     "text": [
      "//anaconda/lib/python3.6/site-packages/ipykernel/__main__.py:2: FutureWarning: reshape is deprecated and will raise in a subsequent release. Please use .values.reshape(...) instead\n",
      "  from ipykernel import kernelapp as app\n"
     ]
    },
    {
     "name": "stdout",
     "output_type": "stream",
     "text": [
      "[ 17400.42410558]\n",
      "[ 13377.87392587]\n"
     ]
    },
    {
     "name": "stderr",
     "output_type": "stream",
     "text": [
      "//anaconda/lib/python3.6/site-packages/ipykernel/__main__.py:4: SettingWithCopyWarning: \n",
      "A value is trying to be set on a copy of a slice from a DataFrame\n",
      "\n",
      "See the caveats in the documentation: http://pandas.pydata.org/pandas-docs/stable/indexing.html#indexing-view-versus-copy\n",
      "//anaconda/lib/python3.6/site-packages/ipykernel/__main__.py:5: FutureWarning: reshape is deprecated and will raise in a subsequent release. Please use .values.reshape(...) instead\n"
     ]
    },
    {
     "name": "stdout",
     "output_type": "stream",
     "text": [
      "[ 18106.0007421]\n"
     ]
    },
    {
     "name": "stderr",
     "output_type": "stream",
     "text": [
      "//anaconda/lib/python3.6/site-packages/ipykernel/__main__.py:7: SettingWithCopyWarning: \n",
      "A value is trying to be set on a copy of a slice from a DataFrame\n",
      "\n",
      "See the caveats in the documentation: http://pandas.pydata.org/pandas-docs/stable/indexing.html#indexing-view-versus-copy\n",
      "//anaconda/lib/python3.6/site-packages/ipykernel/__main__.py:8: FutureWarning: reshape is deprecated and will raise in a subsequent release. Please use .values.reshape(...) instead\n"
     ]
    }
   ],
   "source": [
    "# Change inputs - accommodates\n",
    "\n",
    "test_data = X_test.loc[1400514]\n",
    "print(rf_cv.predict(test_data.reshape(1, -1)))\n",
    "\n",
    "test_data['accommodates'] = 2\n",
    "print(rf_cv.predict(test_data.reshape(1, -1)))\n",
    "\n",
    "test_data['accommodates'] = 6\n",
    "print(rf_cv.predict(test_data.reshape(1, -1)))"
   ]
  },
  {
   "cell_type": "markdown",
   "metadata": {
    "hidden": true
   },
   "source": [
    "Another method of evaluating the model is to look at what the model is saying and sense checking the results. By looking at feature importance, we are able to determine what the model determines to be important features and whether that aligns with what might be expected. Features that are surprising could be further explored to check if they are genuine anomalies or if the model is inconsistent with reality.\n",
    "\n",
    "The top features are latitude (25%), accomodates (22%) and longtitude (19%) accounting for 66% of model importance. Longitude and latitude makes intuitive sense, and proves the age-old real estate adage that it's all about 'Location, location, location!'. 'Accomodates' is the number of people a listing can accommodate which also makes sense as that is a direct influence on price. Perhaps a potential hint to future hosts that an extra sofa-bed would be well worth the investment?\n",
    "\n",
    "Interestingly, the topics modelled from the listing descriptions have a combined importance of 2.5%. While this seems like a small number, it is higher than property type (i.e. house, apartment or other) which has 1.3%. This further validates the hypothesis that there is valuable information in the descriptions and tell you more about a listing than whether it is a house or apartment.\n",
    "\n",
    "The features importances produced by the model seem to make sense, and further builds confidence in the final model built."
   ]
  },
  {
   "cell_type": "code",
   "execution_count": 144,
   "metadata": {
    "ExecuteTime": {
     "end_time": "2017-09-12T19:02:38.613454Z",
     "start_time": "2017-09-12T19:02:38.607802Z"
    },
    "collapsed": true,
    "hidden": true
   },
   "outputs": [],
   "source": [
    "#Display feature importance\n",
    "def feature_importance(model, trainData, display_n_rows):\n",
    "    \"\"\"Display feature importance & weighting for tree based model\"\"\"\n",
    "    fi = model.feature_importances_*100\n",
    "    feat_imp = pd.DataFrame(list(zip(fi,trainData.columns.values)))\n",
    "    feat_imp = feat_imp.sort_values(by=0, axis=0, ascending=False)\n",
    "    feat_imp.columns = ['importance %', 'feature']\n",
    "    print(feat_imp[:display_n_rows])"
   ]
  },
  {
   "cell_type": "code",
   "execution_count": 145,
   "metadata": {
    "ExecuteTime": {
     "end_time": "2017-09-12T19:02:38.647308Z",
     "start_time": "2017-09-12T19:02:38.615435Z"
    },
    "code_folding": [],
    "collapsed": false,
    "hidden": true,
    "scrolled": false
   },
   "outputs": [
    {
     "name": "stdout",
     "output_type": "stream",
     "text": [
      "    importance %                        feature\n",
      "7      25.097217                       latitude\n",
      "0      21.785352                   accommodates\n",
      "8      19.507045                      longitude\n",
      "6       7.704549                 minimum_nights\n",
      "5       6.343909                   extra_people\n",
      "1       4.201948                      bathrooms\n",
      "4       3.822254                guests_included\n",
      "2       2.952059                       bedrooms\n",
      "13      2.080424      room_type_Entire home/apt\n",
      "3       1.888553                           beds\n",
      "18      1.013714    topics_description_Business\n",
      "16      0.969459      topics_description_Budget\n",
      "17      0.641166      topics_description_Luxury\n",
      "12      0.472587            property_type_Other\n",
      "11      0.436129            property_type_House\n",
      "9       0.435698        property_type_Apartment\n",
      "14      0.397654         room_type_Private room\n",
      "10      0.154542  property_type_Bed & Breakfast\n",
      "15      0.095740          room_type_Shared room\n"
     ]
    }
   ],
   "source": [
    "#Display features & weighting\n",
    "rf_best = rf_cv.best_estimator_\n",
    "feature_importance(rf_best, X_train, 20)"
   ]
  },
  {
   "cell_type": "markdown",
   "metadata": {
    "hidden": true
   },
   "source": [
    "### Justification\n",
    "In this section, your model’s final solution and its results should be compared to the benchmark you established earlier in the project using some type of statistical analysis. You should also justify whether these results and the solution are significant enough to have solved the problem posed in the project. Questions to ask yourself when writing this section:\n",
    "- _Are the final results found stronger than the benchmark result reported earlier?_\n",
    "- _Have you thoroughly analyzed and discussed the final solution?_\n",
    "- _Is the final solution significant enough to have solved the problem?_"
   ]
  },
  {
   "cell_type": "markdown",
   "metadata": {
    "hidden": true
   },
   "source": [
    "The final MSE is 200185564 with a variance score of 0.33, which is a significantly better result compared to the baseline model with an MSE of 254474109 and variance of 0.18. The final model has also been rigorously tested, cross-validated and evaluated with different inputs and been proven to be a robust solution.\n",
    "\n",
    "This justifies the use of the final model, as it is robust and a more accurate predictor of AirBnb yield compared to a simple linear regression model. It has a lower error rate, and is able to more consistently predict a yield that is closer to the actual yield."
   ]
  },
  {
   "cell_type": "markdown",
   "metadata": {
    "heading_collapsed": true
   },
   "source": [
    "## V. Conclusion\n",
    "_(approx. 1-2 pages)_"
   ]
  },
  {
   "cell_type": "markdown",
   "metadata": {
    "hidden": true
   },
   "source": [
    "### Free-Form Visualization\n",
    "In this section, you will need to provide some form of visualization that emphasizes an important quality about the project. It is much more free-form, but should reasonably support a significant result or characteristic about the problem that you want to discuss. Questions to ask yourself when writing this section:\n",
    "- _Have you visualized a relevant or important quality about the problem, dataset, input data, or results?_\n",
    "- _Is the visualization thoroughly analyzed and discussed?_\n",
    "- _If a plot is provided, are the axes, title, and datum clearly defined?_"
   ]
  },
  {
   "cell_type": "code",
   "execution_count": 181,
   "metadata": {
    "collapsed": false,
    "hidden": true
   },
   "outputs": [],
   "source": [
    "df2 = df.join(df_final_viz)\n",
    "nlp_feats = ['topics_description_Budget', 'topics_description_Business', 'topics_description_Luxury']\n",
    "df2['topics_description'] = df2[nlp_feats].idxmax(axis=1)\n",
    "df2['topics_description'] = df2['topics_description'].str.replace('topics_description_', '')"
   ]
  },
  {
   "cell_type": "code",
   "execution_count": 241,
   "metadata": {
    "collapsed": false,
    "hidden": true,
    "scrolled": false
   },
   "outputs": [],
   "source": [
    "df3 = df2[['topics_description', 'price', 'reviews_per_month']].groupby(['topics_description']).mean()\n",
    "df3['count'] = df2[['yield', 'topics_description']].groupby(['topics_description']).count()['yield']\n",
    "df3['reviews_per_year'] = df3['reviews_per_month']*12\n",
    "df3['color'] = ['R', 'G', 'B']"
   ]
  },
  {
   "cell_type": "code",
   "execution_count": 242,
   "metadata": {
    "collapsed": false,
    "hidden": true
   },
   "outputs": [
    {
     "data": {
      "image/png": "[encoded data removed]",
      "text/plain": [
       "<matplotlib.figure.Figure at 0x125c08cc0>"
      ]
     },
     "metadata": {},
     "output_type": "display_data"
    }
   ],
   "source": [
    "sns.palplot(sns.color_palette(\"Set2\", 8))"
   ]
  },
  {
   "cell_type": "code",
   "execution_count": 295,
   "metadata": {
    "collapsed": false,
    "hidden": true
   },
   "outputs": [
    {
     "data": {
      "image/png": "[encoded data removed]",
      "text/plain": [
       "<matplotlib.figure.Figure at 0x126938668>"
      ]
     },
     "metadata": {},
     "output_type": "display_data"
    }
   ],
   "source": [
    "plt.figure(figsize=(9, 6))\n",
    "\n",
    "# Unique category labels:\n",
    "color_labels = df3['color'].unique()\n",
    "\n",
    "# List of RGB triplets\n",
    "rgb_values = sns.color_palette(\"Set2\", 8)\n",
    "\n",
    "# Map label to RGB\n",
    "color_map = dict(zip(color_labels, rgb_values))\n",
    "\n",
    "# Finally use the mapped values\n",
    "plt.scatter(df3['reviews_per_year'], df3['price'], c=df3['color'].map(color_map), s=df3['count']*1.5)\n",
    "\n",
    "plt.ylim([120,180])\n",
    "plt.xlim([16,24])\n",
    "\n",
    "plt.xlabel('Avg. no. of reviews / year')\n",
    "plt.ylabel('Avg. price / night (£)')\n",
    "plt.title('Average price and frequency of reviews by description topic', weight='bold', fontsize=14)\n",
    "\n",
    "for i, txt in enumerate(df3.index):\n",
    "    plt.annotate(txt, (df3['reviews_per_year'].iat[i]-0.3,df3['price'].iat[i]), fontsize=11, weight='bold')"
   ]
  },
  {
   "cell_type": "markdown",
   "metadata": {
    "hidden": true
   },
   "source": [
    "NLP is an important feature of this project, and there are valuable insights produced from topic modelling in addition to improving predictive strength. By plotting a bubble chart of the 3 topics described in the earlier section of this report (Business, Budget and Luxury), it is possible to segment London's Airbnb market into the different topics, each of which demonstrating a different average price and frequency which are the component factors of yield.\n",
    "\n",
    "In the below chart, each bubble is plotted at the average of that segment while the size represents the number of listings in that segment. Some of the characteristics of this chart make intuitive sense, while others are slightly more surprising. \n",
    "\n",
    "In terms of size, the 'Budget' segment has the most number of listings, followed by 'Business' while 'Luxury' has the least number of listings. This makes sense and one would expect there to naturally be more 'Budget' type listings available. \n",
    "\n",
    "Looking at the average price, 'Luxury' is the clear leader followed by 'Business' and 'Budget' at just £5-10 lower. While the order makes sense, what is surprising is the huge gap between the average price of 'Luxury' listings compared to the other 2 segments. This suggests that perhaps AirBnb listings cater to those looking for boutique stays and people in the 'Luxury' segment are more willing to pay for such an experience. On the other hand, business travellers on Airbnb would typically choose Airbnb for its lower price compared to hotels while traditional business travellers with a bigger budget might stick to hotels.\n",
    "\n",
    "This trend is also supported by the number of reviews, which is a proxy for the frequency of bookings. There are comparatively very few 'Business' listings, further suggesting that most business travellers still shy away from AirBnb. On the other hand, 'Luxury' listings again stand out and prove that the appeal of AirBnb is in the unique experience of staying in a home that is popular among travellers looking for a higher quality and luxurious accommodation."
   ]
  },
  {
   "cell_type": "markdown",
   "metadata": {
    "hidden": true
   },
   "source": [
    "### Reflection\n",
    "In this section, you will summarize the entire end-to-end problem solution and discuss one or two particular aspects of the project you found interesting or difficult. You are expected to reflect on the project as a whole to show that you have a firm understanding of the entire process employed in your work. Questions to ask yourself when writing this section:\n",
    "- _Have you thoroughly summarized the entire process you used for this project?_\n",
    "- _Were there any interesting aspects of the project?_\n",
    "- _Were there any difficult aspects of the project?_\n",
    "- _Does the final model and solution fit your expectations for the problem, and should it be used in a general setting to solve these types of problems?_"
   ]
  },
  {
   "cell_type": "markdown",
   "metadata": {
    "hidden": true
   },
   "source": [
    "This project has been extremely rewarding to complete, giving me a challenging and interesting problem to explore and design my own solution for. Each stage of the project presented its own unique learning points a different part of the analytical toolkit to practice.\n",
    "\n",
    "In the design phase, the focus was on researching and understanding the problem of predicting yield in AirBnb. What data is publicly available? What research has already been done? What are the implicit assumptions in the problem statement?\n",
    "\n",
    "This led naturally onto the exploratory data analysis phase once I had gotten my hands on the right data set. To design the right solution, I had to thoroughly understand the data and quirks in it. This included understanding what the data points meant, how it was collected, and whether there might have been any unintended biases in the data. This also laid the foundation of understanding potential insights and hypotheses to test and what pre-processing might be necessary.\n",
    "\n",
    "Iteratively, this also led to the data cleaning and manipulation stage. After understanding the data, I was able to perform the manipulations necessary such as imputing or removing missing values, feature selection, and calculating yield values.\n",
    "\n",
    "Once the data has been cleaned and processed, I was able to fit them on the selected machine learning algorithms. The course syllabus was most useful here, and I began to appreciate the complexity of the different algorithms and how to interpret the results of each algorithm. By comparing the results I was able to choose a final cross-validated model and fine-tune it according to best practices.\n",
    "\n",
    "After building the final model, it had to be thoroughly tested and evaluated. This included doing sensitivity analysis the test the robustness of the final solution, and sense checking the predictions and insights produced by the model.\n",
    "\n",
    "One interesting aspect, and also the most challenging for me, was undertaking natural language processing for the feature engineering stage. I tested various techniques such as bag-of-words, term-frequency-inverse-document-frequency, latent Dirichlet allocation and also various regexes in the preprocessing stage. Ultimately, LDA proved to be the most powerful method of reducing the no. of dimensions and was able to give more interpretable topics compared to other topic modelling methods. \n",
    "\n",
    "The unique challenges in topic modelling stemmed from the more qualitive nature of text mining as opposed to working with numerical data. It is a lot more free-form and there is seldom a \"right answer\" to fall back to. For example, choosing the number of topics to model greatly affected the results. After testing several topic numbers, I decided to choose a relatively small number of 3. This kept the data manageable, the topics interpretable and also distinct enough to form insightful segments. Labelling the topics was another free-form challenge, though it was thankfully made easier by the ability to see word distributions in LDA. Though there is certainly no correct topic label, the word distributions and earlier EDA phase helped to suggest potential topic labels. I tried a few of these labels and tested them against the data set to see if they would make sense (e.g. the 'Budget' label should have a proportionaly lower price!). In the end, I was comfortable with the labels I settled on and there was a plausible story behind each topic label."
   ]
  },
  {
   "cell_type": "markdown",
   "metadata": {
    "hidden": true
   },
   "source": [
    "### Improvement\n",
    "In this section, you will need to provide discussion as to how one aspect of the implementation you designed could be improved. As an example, consider ways your implementation can be made more general, and what would need to be modified. You do not need to make this improvement, but the potential solutions resulting from these changes are considered and compared/contrasted to your current solution. Questions to ask yourself when writing this section:\n",
    "- _Are there further improvements that could be made on the algorithms or techniques you used in this project?_\n",
    "- _Were there algorithms or techniques you researched that you did not know how to implement, but would consider using if you knew how?_\n",
    "- _If you used your final solution as the new benchmark, do you think an even better solution exists?_"
   ]
  },
  {
   "cell_type": "markdown",
   "metadata": {
    "hidden": true
   },
   "source": [
    "Looking back on the project, there have been numerous learnings and further improvements that could have been made.\n",
    "\n",
    "As topic modelling was a big part of the project, a potential improvement would be to try and implement other topic modelling algorithms. While I focussed on LDA due to its interpretability, there were other algorithms such as Non-Negative Matrix Factorization that might have also led to good results. I could also have taken a more scientific approach to choosing the number of topics, and perhaps build a pipeline to iterate through a range of numbers to choose to optimal number with the highest predictive power.\n",
    "\n",
    "Ultimately, I am happy with the end results and am convinced that the final solution is better than the benchmark initially established. Nevertheless, there will always be further improvements that can be made. \n",
    "\n",
    "What made this project unique was the attempt to use alternative data sources (in this case, text data) to improve predictive models of AirBnb yield. In a similar vein, AirBnb listings images could also be used as potential features. Attempting this would be quite complicated, requring an understanding of image recognition techniques but also the use of big data processing due to the amount of images one would need to analyse. Nevertheless, that would undoubtedly be an interesting next step to pursue.\n"
   ]
  },
  {
   "cell_type": "markdown",
   "metadata": {
    "hidden": true
   },
   "source": [
    "-----------\n",
    "\n",
    "**Before submitting, ask yourself. . .**\n",
    "\n",
    "- Does the project report you’ve written follow a well-organized structure similar to that of the project template?\n",
    "- Is each section (particularly **Analysis** and **Methodology**) written in a clear, concise and specific fashion? Are there any ambiguous terms or phrases that need clarification?\n",
    "- Would the intended audience of your project be able to understand your analysis, methods, and results?\n",
    "- Have you properly proof-read your project report to assure there are minimal grammatical and spelling mistakes?\n",
    "- Are all the resources used for this project correctly cited and referenced?\n",
    "- Is the code that implements your solution easily readable and properly commented?\n",
    "- Does the code execute without error and produce results similar to those reported?"
   ]
  },
  {
   "cell_type": "markdown",
   "metadata": {
    "heading_collapsed": true
   },
   "source": [
    "## Credits/citations\n",
    "- Inside Airbnb (http://insideairbnb.com/about.html)"
   ]
  },
  {
   "cell_type": "markdown",
   "metadata": {
    "hidden": true
   },
   "source": [
    "Inside Airbnb's \"San Francisco Model\" uses a modified methodology as follows:\n",
    "\n",
    "A Review Rate of 50% is used to convert reviews to estimated bookings.\n",
    "Alex Marqusee uses a review rate of 72%, however this is attributed to an unreliable source: Airbnb's CEO and co-founder Brian Chesky.\n",
    "The Budget and Legislative Analyst's Office (page 49) also use a value 72% for their review rate, and in addition, introduce a higher impact model using a review rate of 30.5% - based on comparing public data of reviews to the The New York Attorney General’s report on Airbnb released in October 2014.\n",
    "Inside Airbnb analysis found that using a review rate 30.5% is more fact based, however probably not conservative enough, given that the Budget and Legislative Analyst's Office did not take into account missing reviews because of deleted listings. A review rate of 72% is unverifiable - therefore 50% was chosen as it sits almost exactly between 72% and 30.5%.\n",
    "An average length of stay is configured for each city, and this, multiplied by the estimated bookings for each listing over a period gives the occupancy rate\n",
    "Where statements have been made about the average length of stay of Airbnb guests for a city, this was used.\n",
    "For example, Airbnb reported 5.5 nights as the average length of stay for guests using Airbnb in San Francisco.\n",
    "Where no public statements were made about average stays, a value of 3 nights per booking was used.\n",
    "If a listing has a higher minimum nights value than the average length of stay, the minimum nights value was used instead.\n",
    "The occupancy rate was capped at 70% - a relatively high, but reasonable number for a highly occupied \"hotel\".\n",
    "This controls for situations where an Airbnb host might change their minimum nights during the high season, without the review data having a chance to catch up; or for a listing with a very high review rate.\n",
    "It also ensures that the occupancy model remains conservative.\n",
    "Number of nights booked or available per year for the high availability and frequently rented metrics and filters were generally aligned with a city's short term rental laws designed to protect residential housing.\n"
   ]
  },
  {
   "cell_type": "markdown",
   "metadata": {
    "hidden": true
   },
   "source": [
    "Airbnb guests may leave a review after their stay, and these can be used as an indicator of airbnb activity (although not all guests leave a review, so the actual booking activity would be much higher).\n",
    "\n",
    "The minimum stay, price and number of reviews have been used to estimate a minimum income per month for each listing.\n",
    "\n",
    "How does the income from running a defacto hotel (an Airbnb room or apartment) compare to a long-term lease for an average New Yorker?\n",
    "\n",
    "And more importantly, what is renting to a tourist rather than a resident doing to our neighborhoods?"
   ]
  },
  {
   "cell_type": "markdown",
   "metadata": {
    "hidden": true
   },
   "source": [
    "An Airbnb host can setup a calendar for their listing so that it is only available for a few days or weeks a year.\n",
    "\n",
    "Other listings are available all year round (except for when it is already booked).\n",
    "\n",
    "Entire homes or apartments highly available and rented frequently year-round to tourists, probably don't have the owner present, are illegal, and more importantly, are displacing New Yorkers.\n",
    "\n",
    "Even private rooms or sublets have also traditionally been homes for many New Yorkers, so renting them to tourists instead also reduces housing supply."
   ]
  },
  {
   "cell_type": "markdown",
   "metadata": {},
   "source": [
    "# Unused stuff"
   ]
  },
  {
   "cell_type": "code",
   "execution_count": 66,
   "metadata": {
    "collapsed": false,
    "scrolled": false
   },
   "outputs": [
    {
     "name": "stdout",
     "output_type": "stream",
     "text": [
      "Mean squared error: 491940.09\n",
      "Variance score: 0.33\n",
      "Tuned Model Parameters: {'bootstrap': True, 'criterion': 'mse', 'max_depth': 15, 'max_features': 'auto', 'min_samples_split': 8, 'n_estimators': 250}\n"
     ]
    }
   ],
   "source": [
    "# Make prediction\n",
    "rf_y_pred = rf_cv.predict(X_test)\n",
    "\n",
    "# The mean squared error\n",
    "print(\"Mean squared error: %.2f\" % mean_squared_error(y_test, rf_y_pred))\n",
    "# Explained variance score: 1 is perfect prediction\n",
    "print('Variance score: %.2f' % r2_score(y_test, rf_y_pred))\n",
    "# Best params\n",
    "print(\"Tuned Model Parameters: {}\".format(rf_cv.best_params_))"
   ]
  },
  {
   "cell_type": "code",
   "execution_count": 67,
   "metadata": {
    "ExecuteTime": {
     "end_time": "2017-09-12T19:02:38.647308Z",
     "start_time": "2017-09-12T19:02:38.615435Z"
    },
    "code_folding": [],
    "collapsed": false,
    "scrolled": true
   },
   "outputs": [
    {
     "name": "stdout",
     "output_type": "stream",
     "text": [
      "    importance %                    feature\n",
      "8      24.327269                   latitude\n",
      "0      21.011047               accommodates\n",
      "9      18.954397                  longitude\n",
      "7       7.540728             minimum_nights\n",
      "6       6.052651               extra_people\n",
      "1       4.094727                  bathrooms\n",
      "5       3.666858            guests_included\n",
      "2       2.912341                   bedrooms\n",
      "14      1.915664  room_type_Entire home/apt\n",
      "3       1.876500                       beds\n",
      "19      1.049127            topics_header_0\n",
      "22      0.906825       topics_description_0\n",
      "23      0.841941       topics_description_1\n",
      "20      0.735235            topics_header_1\n",
      "21      0.715265            topics_header_2\n",
      "24      0.636182       topics_description_2\n",
      "4       0.601324                square_feet\n",
      "10      0.480292    property_type_Apartment\n",
      "13      0.460673        property_type_Other\n",
      "12      0.413831        property_type_House\n"
     ]
    }
   ],
   "source": [
    "#Display features & weighting\n",
    "rf_best = rf_cv.best_estimator_\n",
    "feature_importance(rf_best, X_train, 20)"
   ]
  },
  {
   "cell_type": "markdown",
   "metadata": {
    "heading_collapsed": true
   },
   "source": [
    "## Bag of words to see most popular terms"
   ]
  },
  {
   "cell_type": "code",
   "execution_count": 253,
   "metadata": {
    "collapsed": false,
    "hidden": true
   },
   "outputs": [
    {
     "data": {
      "text/plain": [
       "[('flat', 2402),\n",
       " ('room', 1977),\n",
       " ('london', 1809),\n",
       " ('apartment', 1412),\n",
       " ('bed', 1372),\n",
       " ('2', 1329),\n",
       " ('double', 1309),\n",
       " ('bedroom', 1302),\n",
       " ('central', 1044),\n",
       " ('1', 866),\n",
       " ('garden', 704),\n",
       " ('spacious', 651),\n",
       " ('modern', 643),\n",
       " ('house', 609),\n",
       " ('studio', 609),\n",
       " ('lovely', 551),\n",
       " ('near', 529),\n",
       " ('cosy', 520),\n",
       " ('bright', 512),\n",
       " ('beautiful', 512)]"
      ]
     },
     "execution_count": 253,
     "metadata": {},
     "output_type": "execute_result"
    }
   ],
   "source": [
    "# BOW across all listings\n",
    "bow = Counter(itertools.chain(*processed_corpus))\n",
    "bow.most_common(20)"
   ]
  },
  {
   "cell_type": "code",
   "execution_count": 254,
   "metadata": {
    "collapsed": false,
    "hidden": true
   },
   "outputs": [
    {
     "name": "stdout",
     "output_type": "stream",
     "text": [
      "room 1\n",
      "victorian 1\n",
      "private 1\n",
      "mansion 1\n",
      "block 1\n"
     ]
    }
   ],
   "source": [
    "# Top 5 BOW per listing\n",
    "doc = doc_term_matrix[1234]\n",
    "bow_doc = sorted(doc, key=lambda w: w[1], reverse=True)\n",
    "for word_id, word_count in bow_doc[:5]:\n",
    "    print(dictionary.get(word_id), word_count)"
   ]
  },
  {
   "cell_type": "markdown",
   "metadata": {},
   "source": [
    "## TF-IDF"
   ]
  },
  {
   "cell_type": "code",
   "execution_count": 255,
   "metadata": {
    "collapsed": false
   },
   "outputs": [],
   "source": [
    "# Total frequency across all listings\n",
    "totalfreq = defaultdict(int)\n",
    "for word_id, freq in itertools.chain.from_iterable(doc_term_matrix):\n",
    "    totalfreq[word_id] += freq"
   ]
  },
  {
   "cell_type": "code",
   "execution_count": 256,
   "metadata": {
    "collapsed": false,
    "scrolled": true
   },
   "outputs": [
    {
     "name": "stdout",
     "output_type": "stream",
     "text": [
      "[(845, 0.6592272463709518), (596, 0.5988866834688727), (9, 0.3389740215983003), (106, 0.26886997737533025), (3, 0.13985609015517164)]\n",
      "quiet\n"
     ]
    }
   ],
   "source": [
    "# TF-IDF model fitted on corpus, showing per doc\n",
    "tfidf = TfidfModel(doc_term_matrix)\n",
    "tfidf_weights = tfidf[doc]\n",
    "sorted_tfidf_weights = sorted(tfidf_weights, key=lambda w: w[1], reverse=True)\n",
    "print(sorted_tfidf_weights[:5])\n",
    "print(dictionary.get(174))"
   ]
  },
  {
   "cell_type": "markdown",
   "metadata": {},
   "source": [
    "## Notes:\n",
    "- Change graph title to strap lines\n",
    "- Including longtitude and latitude increase mse from 0.24 to 0.31, yet it has really high importance??"
   ]
  },
  {
   "cell_type": "markdown",
   "metadata": {},
   "source": [
    "https://www.analyticsvidhya.com/blog/2016/08/beginners-guide-to-topic-modeling-in-python/\n",
    "\n",
    "Tips to improve topic modelling:\n",
    "    - Frequency Filter\n",
    "    - POS filter"
   ]
  },
  {
   "cell_type": "markdown",
   "metadata": {},
   "source": [
    "TODOs:\n",
    "- Set up pipeline to iterate number of topics against error"
   ]
  },
  {
   "cell_type": "code",
   "execution_count": 55,
   "metadata": {
    "ExecuteTime": {
     "end_time": "2017-09-12T19:02:01.997073Z",
     "start_time": "2017-09-12T19:01:55.488380Z"
    },
    "collapsed": false,
    "scrolled": true
   },
   "outputs": [
    {
     "data": {
      "text/plain": [
       "<matplotlib.axes._subplots.AxesSubplot at 0x119ab9860>"
      ]
     },
     "execution_count": 55,
     "metadata": {},
     "output_type": "execute_result"
    },
    {
     "data": {
      "image/png": "[encoded data removed]",
      "text/plain": [
       "<matplotlib.figure.Figure at 0x126e5bc88>"
      ]
     },
     "metadata": {},
     "output_type": "display_data"
    }
   ],
   "source": [
    "%matplotlib inline\n",
    "fig = plt.subplots(figsize=(16,16))\n",
    "ax1 = plt.subplot2grid((4, 4), (0, 0))\n",
    "ax2 = plt.subplot2grid((4, 4), (0, 1))\n",
    "ax3 = plt.subplot2grid((4, 4), (0, 2))\n",
    "\n",
    "ax4 = plt.subplot2grid((4, 4), (1, 0))\n",
    "ax5 = plt.subplot2grid((4, 4), (1, 1))\n",
    "ax6 = plt.subplot2grid((4, 4), (1, 2))\n",
    "\n",
    "ax7 = plt.subplot2grid((4, 4), (2, 0))\n",
    "ax8 = plt.subplot2grid((4, 4), (2, 1))\n",
    "ax9 = plt.subplot2grid((4, 4), (2, 2))\n",
    "\n",
    "#fig.suptitle('Scatterplot of numerical variables against Yield')\n",
    "\n",
    "sns.regplot(x='accommodates', y='yield', data=df, ax=ax1, scatter_kws={'alpha':0.25})\n",
    "sns.regplot(x='guests_included', y='yield', data=df, ax=ax2)\n",
    "sns.regplot(x='extra_people', y='yield', data=df, ax=ax3)\n",
    "\n",
    "sns.regplot(x='beds', y='yield', data=df, ax=ax4)\n",
    "sns.regplot(x='bedrooms', y='yield', data=df, ax=ax5)\n",
    "sns.regplot(x='bathrooms', y='yield', data=df, ax=ax6)\n",
    "\n",
    "sns.regplot(x='minimum_nights', y='yield', data=df, ax=ax7)\n",
    "\n",
    "sns.stripplot(x='property_type', y='yield', data=df, jitter=1.0, alpha=0.25, ax=ax8)\n",
    "sns.stripplot(x='room_type', y='yield', data=df, jitter=1.0, alpha=0.25, ax=ax9)"
   ]
  },
  {
   "cell_type": "markdown",
   "metadata": {},
   "source": [
    "-----------\n",
    "\n",
    "**Before submitting, ask yourself. . .**\n",
    "\n",
    "- Does the project report you’ve written follow a well-organized structure similar to that of the project template?\n",
    "- Is each section (particularly **Analysis** and **Methodology**) written in a clear, concise and specific fashion? Are there any ambiguous terms or phrases that need clarification?\n",
    "- Would the intended audience of your project be able to understand your analysis, methods, and results?\n",
    "- Have you properly proof-read your project report to assure there are minimal grammatical and spelling mistakes?\n",
    "- Are all the resources used for this project correctly cited and referenced?\n",
    "- Is the code that implements your solution easily readable and properly commented?\n",
    "- Does the code execute without error and produce results similar to those reported?"
   ]
  },
  {
   "cell_type": "code",
   "execution_count": null,
   "metadata": {
    "collapsed": true
   },
   "outputs": [],
   "source": []
  }
 ],
 "metadata": {
  "kernelspec": {
   "display_name": "Python 3",
   "language": "python",
   "name": "python3"
  },
  "language_info": {
   "codemirror_mode": {
    "name": "ipython",
    "version": 3
   },
   "file_extension": ".py",
   "mimetype": "text/x-python",
   "name": "python",
   "nbconvert_exporter": "python",
   "pygments_lexer": "ipython3",
   "version": "3.6.0"
  }
 },
 "nbformat": 4,
 "nbformat_minor": 2
}
