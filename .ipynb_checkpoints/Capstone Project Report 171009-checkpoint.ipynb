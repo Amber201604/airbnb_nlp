{
 "cells": [
  {
   "cell_type": "markdown",
   "metadata": {
    "hide_input": true
   },
   "source": [
    "# Machine Learning Engineer Nanodegree\n",
    "## Capstone Project\n",
    "Joaee Chew <br>\n",
    "September 14, 2017"
   ]
  },
  {
   "cell_type": "markdown",
   "metadata": {},
   "source": [
    "## I. Definition\n",
    "_(approx. 1-2 pages)_"
   ]
  },
  {
   "cell_type": "markdown",
   "metadata": {},
   "source": [
    "### Project Overview\n",
    "\n",
    "AirBnb is a popular home-sharing platform, enabling people all over the world to lease or rent short-term lodgings. For potential hosts, this is a potentially lucrative option for their under-utilised vacation homes, spare rooms or even beds. However, it is difficult for new hosts to ascertain how much their property could earn them and whether it will be a worthy investment. Furthermore, how can they know the true value of their beloved penthouse adorned with designer furniture, compared to your run-of-the-mill IKEA filled apartment?\n",
    "\n",
    "This project seeks to solve the problem by building a predictive model for the potential earnings of Airbnb listings, taking into account text descriptions to capture a rich and qualitative model of individual listings. While there are available commercial tools such as [AirSorted](http://www.airsorted.uk/) that predict Airbnb value, these models are generic with minimal features used and no indication of model accuracy. \n",
    "\n",
    "To build this model, I use the dataset provided by [Inside Airbnb](http://insideairbnb.com/get-the-data.html), where publicly available information about a city’s Airbnb’s listings have been scraped and released for independent, non-commercial use. This includes details about the listing such as no. of rooms, guests available, description, location as well as information about the yield such as price and no. of reviews.\n",
    "\n",
    "Specifically, I will use the detailed listings information for London listings active from 3rd October 2016 – 4th March 2017. An active listing is defined as a property that has been reviewed at least once during this time period. After data cleaning, the dataset has 9722 rows and 16 columns. Importantly, the dataset contains the listings description as well as headers in text format that I will mine for qualitative predictors."
   ]
  },
  {
   "cell_type": "markdown",
   "metadata": {},
   "source": [
    "### Problem Statement\n",
    "\n",
    "To build this model, the concept of yield is used as a proxy for potential future earnings. Yield is defined as the amount of revenue that a property will earn over a year. The calculation of yield uses Inside Airbnb’s ‘San Francisco Model’ based on price, average length of stay and review rate. A review rate of [50%](http://insideairbnb.com/about.html \"Why 50% review rate is used\") to convert reviews to estimated bookings. \n",
    "\n",
    ">**This project will predict the yield on prospective AirBnb listings in London and test whether text mining can lead to an increase in predictive accuracy.**\n",
    "\n",
    "The intended workflow for this project is as follows:\n",
    "1.\tRead, clean and preprocess the data: <br>\n",
    "    a.\tRemove unnecessary features. This includes data that does not help with predicting yield, such as listing URL or scrape ID. <br>\n",
    "    b.\tRemove ‘leaking’ features. This includes data that should not be used to predict yield, such as ratings (which are not present at the point of listing), or the no. of other properties listed by the host (model should be built on the property only and not the host). <br>\n",
    "    c.\tRemoving incomplete listings (e.g. listings with no price, or with availability less than 50% which indicates part-time listings that are not comparable). <br>\n",
    "    d.\tImpute missing values (e.g. using the most frequent or median where appropriate). <br>\n",
    "2.\tBuild the model. I will use three models of increasing complexity, both to test for increase in predictive power but also to act as challenger models to the final model. <br>\n",
    "    a.\tI will begin with a simple linear regression to establish a benchmark accuracy. <br>\n",
    "    b.\tI propose the use of a decision tree as a next step. <br>\n",
    "    c.\tFinally, I will use a random forest ensemble model as the final model. <br>\n",
    "4.\tFeature engineering. This will be done iteratively with step 3, with new features tested for improvement in model accuracy. Potential ideas include: <br>\n",
    "    a.\tUsing natural language techniques to extract features from the description. This involves the following NLP pipeline: <br>\n",
    "        i.\tText data preparation (creating corpus, word stemming, creating document term matrix, removing sparse terms etc.) <br>\n",
    "        ii.\tSelection of features using bag-of-words and/or TF-IDF <br>\n",
    "        iii.Use topic modelling to discover any natural topics in the listing descriptions <br>\n",
    "    b.\tBucketing categorical features to reduce dimensionality (eg. Whole apartment vs. non-whole apartment instead of entire class size).\n",
    "5.\tTest the model. Here I will print final accuracy measures and produce insights such as feature importance.<br>"
   ]
  },
  {
   "cell_type": "markdown",
   "metadata": {},
   "source": [
    "### Metrics\n",
    "\n",
    "Mean squared error is used as the measure for model accuracy.  This measures the average of the square of the errors between the actual yield and predicted yield. The formula for this is as follows:\n",
    "\n",
    "<img src=\"mse.svg\">\n",
    "\n",
    "MSE is a commonly used error score for regression models, and allows for an intuitive measure of error i.e. an MSE of 10000 indicates the yield model is off by £100 (square root of 10000). It is always non-negative, and values closer to zero are better. "
   ]
  },
  {
   "cell_type": "markdown",
   "metadata": {},
   "source": [
    "## II. Analysis\n",
    "_(approx. 2-4 pages)_"
   ]
  },
  {
   "cell_type": "code",
   "execution_count": 49,
   "metadata": {
    "ExecuteTime": {
     "end_time": "2017-09-12T19:01:48.734137Z",
     "start_time": "2017-09-12T19:01:46.727182Z"
    },
    "collapsed": false,
    "hide_input": true
   },
   "outputs": [],
   "source": [
    "import pandas as pd\n",
    "import os\n",
    "import re\n",
    "import numpy as np\n",
    "import seaborn as sns\n",
    "import matplotlib as mpl\n",
    "import matplotlib.pyplot as plt\n",
    "\n",
    "from sklearn.preprocessing import Imputer\n",
    "from sklearn.preprocessing import StandardScaler\n",
    "from sklearn.ensemble import RandomForestRegressor\n",
    "from sklearn.tree import DecisionTreeClassifier\n",
    "from sklearn.model_selection import GridSearchCV\n",
    "from sklearn.model_selection import cross_val_score\n",
    "from sklearn.model_selection import train_test_split\n",
    "from sklearn.metrics import classification_report\n",
    "from sklearn.metrics import confusion_matrix\n",
    "from sklearn.model_selection import train_test_split"
   ]
  },
  {
   "cell_type": "code",
   "execution_count": 50,
   "metadata": {
    "ExecuteTime": {
     "end_time": "2017-09-12T19:01:48.741282Z",
     "start_time": "2017-09-12T19:01:48.736472Z"
    },
    "collapsed": false,
    "hide_input": true
   },
   "outputs": [],
   "source": [
    "sns.set(style=\"ticks\")\n",
    "seed=42\n",
    "np.random.seed(seed)\n",
    "#np.random.seed(sum(map(ord, \"axis_grids\")))\n",
    "pd.options.display.max_columns = 20"
   ]
  },
  {
   "cell_type": "code",
   "execution_count": 51,
   "metadata": {
    "ExecuteTime": {
     "end_time": "2017-09-12T19:01:48.748940Z",
     "start_time": "2017-09-12T19:01:48.744191Z"
    },
    "collapsed": false
   },
   "outputs": [],
   "source": [
    "dir_path = os.path.realpath('')"
   ]
  },
  {
   "cell_type": "code",
   "execution_count": 52,
   "metadata": {
    "ExecuteTime": {
     "end_time": "2017-09-12T19:01:52.216713Z",
     "start_time": "2017-09-12T19:01:48.752247Z"
    },
    "collapsed": false,
    "hide_input": true,
    "scrolled": false
   },
   "outputs": [
    {
     "name": "stdout",
     "output_type": "stream",
     "text": [
      "Dataset has 53904 rows, 94 columns.\n"
     ]
    },
    {
     "name": "stderr",
     "output_type": "stream",
     "text": [
      "//anaconda/lib/python3.6/site-packages/IPython/core/interactiveshell.py:2717: DtypeWarning: Columns (88) have mixed types. Specify dtype option on import or set low_memory=False.\n",
      "  interactivity=interactivity, compiler=compiler, result=result)\n"
     ]
    }
   ],
   "source": [
    "path = os.path.join(dir_path, 'data/listings_detailed.csv')\n",
    "df = pd.read_csv(path, header=0, index_col=0)\n",
    "print(\"Dataset has {} rows, {} columns.\".format(*df.shape))"
   ]
  },
  {
   "cell_type": "markdown",
   "metadata": {},
   "source": [
    "### Data Exploration"
   ]
  },
  {
   "cell_type": "markdown",
   "metadata": {},
   "source": [
    "The data set as scraped by Inside AirBnb is extremely comprehensive, containing 53904 rows and 94 columns. However, many of the data collected are unnecessary metadata (e.g. urls, id, pictures, host data), review data that causes leaking (e.g. review_scores), or has low relevance to the yield model (e.g. security_deposit, is_location_exact, notes). \n",
    "\n",
    "To keep the model manageable and effective, I will focus on the following features:\n",
    "    1. 'name': Listing header text for text mining.\n",
    "    2. 'description': Listing description text for text mining.\n",
    "    3. 'property_type': Type of property e.g. apartment, house etc.\n",
    "    4. 'room_type': Type of room e.g. private, shared etc.\n",
    "    5. 'accommodates': No. of people the listing can accommodate.\n",
    "    6. 'bathrooms': No. of bathrooms.\n",
    "    7. 'bedrooms': No. of bedrooms.\n",
    "    8. 'beds': No. of beds.\n",
    "    9. 'square_feet': Size of listing.\n",
    "    10. 'price': Price of listing.\n",
    "    11. 'cleaning_fee': Cleaning fee.\n",
    "    12. 'guests_included': No. of guests included in the base price.\n",
    "    13. 'extra_people': Price for extra guests not included in the base price.\n",
    "    14. 'minimum_nights': Minimum no. of nights required for booking.\n",
    "    15. 'availability_365': No. of nights the listing is available for booking. (Note: This is a 'leaking' feature as listings may be unavailable as it is already booked and leaks the popularity. However, this needs to be used for filtering part-time listings and will be removed at a later stage.)\n",
    "    16. 'reviews_per_month': Average no. of reviews listing receives per month. Used to calculate yield.\n",
    "    17. 'latitude': Latitude of listing.\n",
    "    18. 'longitude': Longitude of listing.\n",
    "    \n",
    "A sample of the reduced dataset along with summary statistics is shown below."
   ]
  },
  {
   "cell_type": "code",
   "execution_count": 53,
   "metadata": {
    "ExecuteTime": {
     "end_time": "2017-09-12T19:01:52.234600Z",
     "start_time": "2017-09-12T19:01:52.218768Z"
    },
    "collapsed": false
   },
   "outputs": [
    {
     "name": "stdout",
     "output_type": "stream",
     "text": [
      "Dataset has 53904 rows, 18 columns.\n"
     ]
    },
    {
     "data": {
      "text/html": [
       "<div>\n",
       "<style>\n",
       "    .dataframe thead tr:only-child th {\n",
       "        text-align: right;\n",
       "    }\n",
       "\n",
       "    .dataframe thead th {\n",
       "        text-align: left;\n",
       "    }\n",
       "\n",
       "    .dataframe tbody tr th {\n",
       "        vertical-align: top;\n",
       "    }\n",
       "</style>\n",
       "<table border=\"1\" class=\"dataframe\">\n",
       "  <thead>\n",
       "    <tr style=\"text-align: right;\">\n",
       "      <th></th>\n",
       "      <th>description</th>\n",
       "      <th>property_type</th>\n",
       "      <th>room_type</th>\n",
       "      <th>accommodates</th>\n",
       "      <th>bathrooms</th>\n",
       "      <th>bedrooms</th>\n",
       "      <th>beds</th>\n",
       "      <th>square_feet</th>\n",
       "      <th>price</th>\n",
       "      <th>cleaning_fee</th>\n",
       "      <th>guests_included</th>\n",
       "      <th>extra_people</th>\n",
       "      <th>minimum_nights</th>\n",
       "      <th>availability_365</th>\n",
       "      <th>reviews_per_month</th>\n",
       "      <th>latitude</th>\n",
       "      <th>longitude</th>\n",
       "      <th>bed_type</th>\n",
       "    </tr>\n",
       "    <tr>\n",
       "      <th>id</th>\n",
       "      <th></th>\n",
       "      <th></th>\n",
       "      <th></th>\n",
       "      <th></th>\n",
       "      <th></th>\n",
       "      <th></th>\n",
       "      <th></th>\n",
       "      <th></th>\n",
       "      <th></th>\n",
       "      <th></th>\n",
       "      <th></th>\n",
       "      <th></th>\n",
       "      <th></th>\n",
       "      <th></th>\n",
       "      <th></th>\n",
       "      <th></th>\n",
       "      <th></th>\n",
       "      <th></th>\n",
       "    </tr>\n",
       "  </thead>\n",
       "  <tbody>\n",
       "    <tr>\n",
       "      <th>15896822</th>\n",
       "      <td>My place is close to TK Max, John Lewis, Marks...</td>\n",
       "      <td>Apartment</td>\n",
       "      <td>Private room</td>\n",
       "      <td>1</td>\n",
       "      <td>1.0</td>\n",
       "      <td>1.0</td>\n",
       "      <td>1.0</td>\n",
       "      <td>NaN</td>\n",
       "      <td>$23.00</td>\n",
       "      <td>NaN</td>\n",
       "      <td>1</td>\n",
       "      <td>$8.00</td>\n",
       "      <td>7</td>\n",
       "      <td>61</td>\n",
       "      <td>0.32</td>\n",
       "      <td>51.410036</td>\n",
       "      <td>-0.306323</td>\n",
       "      <td>Real Bed</td>\n",
       "    </tr>\n",
       "    <tr>\n",
       "      <th>4836957</th>\n",
       "      <td>This lovely spacious double bedroom is set in ...</td>\n",
       "      <td>Apartment</td>\n",
       "      <td>Private room</td>\n",
       "      <td>2</td>\n",
       "      <td>1.0</td>\n",
       "      <td>1.0</td>\n",
       "      <td>1.0</td>\n",
       "      <td>NaN</td>\n",
       "      <td>$50.00</td>\n",
       "      <td>NaN</td>\n",
       "      <td>1</td>\n",
       "      <td>$0.00</td>\n",
       "      <td>1</td>\n",
       "      <td>364</td>\n",
       "      <td>0.67</td>\n",
       "      <td>51.411482</td>\n",
       "      <td>-0.290704</td>\n",
       "      <td>Pull-out Sofa</td>\n",
       "    </tr>\n",
       "    <tr>\n",
       "      <th>13355982</th>\n",
       "      <td>Spacious double bedroom, because of the light,...</td>\n",
       "      <td>Apartment</td>\n",
       "      <td>Private room</td>\n",
       "      <td>2</td>\n",
       "      <td>1.0</td>\n",
       "      <td>1.0</td>\n",
       "      <td>1.0</td>\n",
       "      <td>NaN</td>\n",
       "      <td>$24.00</td>\n",
       "      <td>NaN</td>\n",
       "      <td>1</td>\n",
       "      <td>$0.00</td>\n",
       "      <td>1</td>\n",
       "      <td>0</td>\n",
       "      <td>0.25</td>\n",
       "      <td>51.415851</td>\n",
       "      <td>-0.286496</td>\n",
       "      <td>Real Bed</td>\n",
       "    </tr>\n",
       "    <tr>\n",
       "      <th>13472704</th>\n",
       "      <td>My place is good for couples, solo adventurers...</td>\n",
       "      <td>House</td>\n",
       "      <td>Private room</td>\n",
       "      <td>2</td>\n",
       "      <td>1.5</td>\n",
       "      <td>1.0</td>\n",
       "      <td>1.0</td>\n",
       "      <td>NaN</td>\n",
       "      <td>$50.00</td>\n",
       "      <td>NaN</td>\n",
       "      <td>1</td>\n",
       "      <td>$0.00</td>\n",
       "      <td>2</td>\n",
       "      <td>0</td>\n",
       "      <td>NaN</td>\n",
       "      <td>51.415723</td>\n",
       "      <td>-0.292246</td>\n",
       "      <td>Real Bed</td>\n",
       "    </tr>\n",
       "    <tr>\n",
       "      <th>17430865</th>\n",
       "      <td>very new decorated beautiful room and very com...</td>\n",
       "      <td>House</td>\n",
       "      <td>Private room</td>\n",
       "      <td>1</td>\n",
       "      <td>1.0</td>\n",
       "      <td>1.0</td>\n",
       "      <td>1.0</td>\n",
       "      <td>NaN</td>\n",
       "      <td>$25.00</td>\n",
       "      <td>NaN</td>\n",
       "      <td>1</td>\n",
       "      <td>$0.00</td>\n",
       "      <td>1</td>\n",
       "      <td>179</td>\n",
       "      <td>NaN</td>\n",
       "      <td>51.404285</td>\n",
       "      <td>-0.275426</td>\n",
       "      <td>Real Bed</td>\n",
       "    </tr>\n",
       "  </tbody>\n",
       "</table>\n",
       "</div>"
      ],
      "text/plain": [
       "                                                description property_type  \\\n",
       "id                                                                          \n",
       "15896822  My place is close to TK Max, John Lewis, Marks...     Apartment   \n",
       "4836957   This lovely spacious double bedroom is set in ...     Apartment   \n",
       "13355982  Spacious double bedroom, because of the light,...     Apartment   \n",
       "13472704  My place is good for couples, solo adventurers...         House   \n",
       "17430865  very new decorated beautiful room and very com...         House   \n",
       "\n",
       "             room_type  accommodates  bathrooms  bedrooms  beds  square_feet  \\\n",
       "id                                                                             \n",
       "15896822  Private room             1        1.0       1.0   1.0          NaN   \n",
       "4836957   Private room             2        1.0       1.0   1.0          NaN   \n",
       "13355982  Private room             2        1.0       1.0   1.0          NaN   \n",
       "13472704  Private room             2        1.5       1.0   1.0          NaN   \n",
       "17430865  Private room             1        1.0       1.0   1.0          NaN   \n",
       "\n",
       "           price cleaning_fee  guests_included extra_people  minimum_nights  \\\n",
       "id                                                                            \n",
       "15896822  $23.00          NaN                1        $8.00               7   \n",
       "4836957   $50.00          NaN                1        $0.00               1   \n",
       "13355982  $24.00          NaN                1        $0.00               1   \n",
       "13472704  $50.00          NaN                1        $0.00               2   \n",
       "17430865  $25.00          NaN                1        $0.00               1   \n",
       "\n",
       "          availability_365  reviews_per_month   latitude  longitude  \\\n",
       "id                                                                    \n",
       "15896822                61               0.32  51.410036  -0.306323   \n",
       "4836957                364               0.67  51.411482  -0.290704   \n",
       "13355982                 0               0.25  51.415851  -0.286496   \n",
       "13472704                 0                NaN  51.415723  -0.292246   \n",
       "17430865               179                NaN  51.404285  -0.275426   \n",
       "\n",
       "               bed_type  \n",
       "id                       \n",
       "15896822       Real Bed  \n",
       "4836957   Pull-out Sofa  \n",
       "13355982       Real Bed  \n",
       "13472704       Real Bed  \n",
       "17430865       Real Bed  "
      ]
     },
     "execution_count": 53,
     "metadata": {},
     "output_type": "execute_result"
    }
   ],
   "source": [
    "#Keep selected features\n",
    "\n",
    "cols_to_keep = [\n",
    "    'description', \n",
    "    'property_type', 'room_type', 'accommodates',\n",
    "    'bathrooms', 'bedrooms', 'beds', 'square_feet',\n",
    "    'price', 'cleaning_fee', 'guests_included', 'extra_people', 'minimum_nights',\n",
    "    'availability_365', 'reviews_per_month', 'latitude', 'longitude', 'bed_type'\n",
    "]\n",
    "df = df[cols_to_keep]\n",
    "print(\"Dataset has {} rows, {} columns.\".format(*df.shape))\n",
    "df.head()"
   ]
  },
  {
   "cell_type": "code",
   "execution_count": 54,
   "metadata": {
    "ExecuteTime": {
     "end_time": "2017-09-12T19:01:52.635234Z",
     "start_time": "2017-09-12T19:01:52.236503Z"
    },
    "collapsed": false
   },
   "outputs": [
    {
     "name": "stdout",
     "output_type": "stream",
     "text": [
      "Dataset has 53904 rows, 18 columns.\n"
     ]
    }
   ],
   "source": [
    "# Clean numeric fields\n",
    "num_feats = ['cleaning_fee', 'extra_people', 'price']\n",
    "df[num_feats] = df[num_feats].replace('[\\$,]', '', regex=True)\n",
    "df[num_feats] = df[num_feats].apply(pd.to_numeric, errors='coerce')\n",
    "print(\"Dataset has {} rows, {} columns.\".format(*df.shape))"
   ]
  },
  {
   "cell_type": "code",
   "execution_count": 55,
   "metadata": {
    "collapsed": false
   },
   "outputs": [
    {
     "data": {
      "text/html": [
       "<div>\n",
       "<style>\n",
       "    .dataframe thead tr:only-child th {\n",
       "        text-align: right;\n",
       "    }\n",
       "\n",
       "    .dataframe thead th {\n",
       "        text-align: left;\n",
       "    }\n",
       "\n",
       "    .dataframe tbody tr th {\n",
       "        vertical-align: top;\n",
       "    }\n",
       "</style>\n",
       "<table border=\"1\" class=\"dataframe\">\n",
       "  <thead>\n",
       "    <tr style=\"text-align: right;\">\n",
       "      <th></th>\n",
       "      <th>accommodates</th>\n",
       "      <th>bathrooms</th>\n",
       "      <th>bedrooms</th>\n",
       "      <th>beds</th>\n",
       "      <th>square_feet</th>\n",
       "      <th>price</th>\n",
       "      <th>cleaning_fee</th>\n",
       "      <th>guests_included</th>\n",
       "      <th>extra_people</th>\n",
       "      <th>minimum_nights</th>\n",
       "      <th>availability_365</th>\n",
       "      <th>reviews_per_month</th>\n",
       "      <th>latitude</th>\n",
       "      <th>longitude</th>\n",
       "    </tr>\n",
       "  </thead>\n",
       "  <tbody>\n",
       "    <tr>\n",
       "      <th>count</th>\n",
       "      <td>53904.000000</td>\n",
       "      <td>53644.000000</td>\n",
       "      <td>53811.000000</td>\n",
       "      <td>53731.000000</td>\n",
       "      <td>582.000000</td>\n",
       "      <td>53904.000000</td>\n",
       "      <td>32483.000000</td>\n",
       "      <td>53904.000000</td>\n",
       "      <td>53904.000000</td>\n",
       "      <td>53904.000000</td>\n",
       "      <td>53904.000000</td>\n",
       "      <td>37438.000000</td>\n",
       "      <td>53904.000000</td>\n",
       "      <td>53904.000000</td>\n",
       "    </tr>\n",
       "    <tr>\n",
       "      <th>mean</th>\n",
       "      <td>3.036676</td>\n",
       "      <td>1.262751</td>\n",
       "      <td>1.353980</td>\n",
       "      <td>1.708027</td>\n",
       "      <td>577.508591</td>\n",
       "      <td>96.099622</td>\n",
       "      <td>37.115907</td>\n",
       "      <td>1.407428</td>\n",
       "      <td>6.686238</td>\n",
       "      <td>3.285229</td>\n",
       "      <td>155.849789</td>\n",
       "      <td>1.304307</td>\n",
       "      <td>51.510425</td>\n",
       "      <td>-0.127105</td>\n",
       "    </tr>\n",
       "    <tr>\n",
       "      <th>std</th>\n",
       "      <td>1.907429</td>\n",
       "      <td>0.547699</td>\n",
       "      <td>0.841912</td>\n",
       "      <td>1.201165</td>\n",
       "      <td>726.154243</td>\n",
       "      <td>117.641082</td>\n",
       "      <td>33.961914</td>\n",
       "      <td>1.040308</td>\n",
       "      <td>12.705758</td>\n",
       "      <td>28.536837</td>\n",
       "      <td>144.032928</td>\n",
       "      <td>1.459755</td>\n",
       "      <td>0.045454</td>\n",
       "      <td>0.088346</td>\n",
       "    </tr>\n",
       "    <tr>\n",
       "      <th>min</th>\n",
       "      <td>1.000000</td>\n",
       "      <td>0.000000</td>\n",
       "      <td>0.000000</td>\n",
       "      <td>0.000000</td>\n",
       "      <td>0.000000</td>\n",
       "      <td>8.000000</td>\n",
       "      <td>3.000000</td>\n",
       "      <td>1.000000</td>\n",
       "      <td>0.000000</td>\n",
       "      <td>1.000000</td>\n",
       "      <td>0.000000</td>\n",
       "      <td>0.010000</td>\n",
       "      <td>51.292892</td>\n",
       "      <td>-0.501305</td>\n",
       "    </tr>\n",
       "    <tr>\n",
       "      <th>25%</th>\n",
       "      <td>2.000000</td>\n",
       "      <td>1.000000</td>\n",
       "      <td>1.000000</td>\n",
       "      <td>1.000000</td>\n",
       "      <td>108.000000</td>\n",
       "      <td>42.000000</td>\n",
       "      <td>15.000000</td>\n",
       "      <td>1.000000</td>\n",
       "      <td>0.000000</td>\n",
       "      <td>1.000000</td>\n",
       "      <td>9.000000</td>\n",
       "      <td>0.300000</td>\n",
       "      <td>51.485099</td>\n",
       "      <td>-0.187191</td>\n",
       "    </tr>\n",
       "    <tr>\n",
       "      <th>50%</th>\n",
       "      <td>2.000000</td>\n",
       "      <td>1.000000</td>\n",
       "      <td>1.000000</td>\n",
       "      <td>1.000000</td>\n",
       "      <td>484.000000</td>\n",
       "      <td>70.000000</td>\n",
       "      <td>30.000000</td>\n",
       "      <td>1.000000</td>\n",
       "      <td>0.000000</td>\n",
       "      <td>2.000000</td>\n",
       "      <td>92.000000</td>\n",
       "      <td>0.770000</td>\n",
       "      <td>51.514730</td>\n",
       "      <td>-0.122403</td>\n",
       "    </tr>\n",
       "    <tr>\n",
       "      <th>75%</th>\n",
       "      <td>4.000000</td>\n",
       "      <td>1.500000</td>\n",
       "      <td>2.000000</td>\n",
       "      <td>2.000000</td>\n",
       "      <td>819.500000</td>\n",
       "      <td>119.000000</td>\n",
       "      <td>50.000000</td>\n",
       "      <td>1.000000</td>\n",
       "      <td>10.000000</td>\n",
       "      <td>3.000000</td>\n",
       "      <td>321.000000</td>\n",
       "      <td>1.800000</td>\n",
       "      <td>51.538943</td>\n",
       "      <td>-0.069183</td>\n",
       "    </tr>\n",
       "    <tr>\n",
       "      <th>max</th>\n",
       "      <td>16.000000</td>\n",
       "      <td>8.000000</td>\n",
       "      <td>10.000000</td>\n",
       "      <td>16.000000</td>\n",
       "      <td>10710.000000</td>\n",
       "      <td>7000.000000</td>\n",
       "      <td>517.000000</td>\n",
       "      <td>16.000000</td>\n",
       "      <td>240.000000</td>\n",
       "      <td>5000.000000</td>\n",
       "      <td>365.000000</td>\n",
       "      <td>16.870000</td>\n",
       "      <td>51.683101</td>\n",
       "      <td>0.317523</td>\n",
       "    </tr>\n",
       "  </tbody>\n",
       "</table>\n",
       "</div>"
      ],
      "text/plain": [
       "       accommodates     bathrooms      bedrooms          beds   square_feet  \\\n",
       "count  53904.000000  53644.000000  53811.000000  53731.000000    582.000000   \n",
       "mean       3.036676      1.262751      1.353980      1.708027    577.508591   \n",
       "std        1.907429      0.547699      0.841912      1.201165    726.154243   \n",
       "min        1.000000      0.000000      0.000000      0.000000      0.000000   \n",
       "25%        2.000000      1.000000      1.000000      1.000000    108.000000   \n",
       "50%        2.000000      1.000000      1.000000      1.000000    484.000000   \n",
       "75%        4.000000      1.500000      2.000000      2.000000    819.500000   \n",
       "max       16.000000      8.000000     10.000000     16.000000  10710.000000   \n",
       "\n",
       "              price  cleaning_fee  guests_included  extra_people  \\\n",
       "count  53904.000000  32483.000000     53904.000000  53904.000000   \n",
       "mean      96.099622     37.115907         1.407428      6.686238   \n",
       "std      117.641082     33.961914         1.040308     12.705758   \n",
       "min        8.000000      3.000000         1.000000      0.000000   \n",
       "25%       42.000000     15.000000         1.000000      0.000000   \n",
       "50%       70.000000     30.000000         1.000000      0.000000   \n",
       "75%      119.000000     50.000000         1.000000     10.000000   \n",
       "max     7000.000000    517.000000        16.000000    240.000000   \n",
       "\n",
       "       minimum_nights  availability_365  reviews_per_month      latitude  \\\n",
       "count    53904.000000      53904.000000       37438.000000  53904.000000   \n",
       "mean         3.285229        155.849789           1.304307     51.510425   \n",
       "std         28.536837        144.032928           1.459755      0.045454   \n",
       "min          1.000000          0.000000           0.010000     51.292892   \n",
       "25%          1.000000          9.000000           0.300000     51.485099   \n",
       "50%          2.000000         92.000000           0.770000     51.514730   \n",
       "75%          3.000000        321.000000           1.800000     51.538943   \n",
       "max       5000.000000        365.000000          16.870000     51.683101   \n",
       "\n",
       "          longitude  \n",
       "count  53904.000000  \n",
       "mean      -0.127105  \n",
       "std        0.088346  \n",
       "min       -0.501305  \n",
       "25%       -0.187191  \n",
       "50%       -0.122403  \n",
       "75%       -0.069183  \n",
       "max        0.317523  "
      ]
     },
     "execution_count": 55,
     "metadata": {},
     "output_type": "execute_result"
    }
   ],
   "source": [
    "df.describe()"
   ]
  },
  {
   "cell_type": "markdown",
   "metadata": {},
   "source": [
    "The summary statistics reveal certain interesting insights about the dataset, and these are explored individually below."
   ]
  },
  {
   "cell_type": "markdown",
   "metadata": {},
   "source": [
    "#### Removing part-time listings"
   ]
  },
  {
   "cell_type": "markdown",
   "metadata": {},
   "source": [
    "An Airbnb host can setup a calendar for their listing so that it is only available for a few days or weeks a year. Other listings are available all year round (except for when it is already booked). For consistency, I will use Inside AirBnb's definition of highly available being >60 days a year.\n",
    "\n",
    "I will remove part-time listings by removing availability <60 days a year, and also newly-listed listings with availability >300 days (using the other tail end as approximation).\n",
    "\n",
    "The below distribution curve shows a bi-modal distribution for availability, demonstrating two concentrations of listing types. The lower availability peaks below 50 days indicating a part-time or non-committed listing, while the higher availability peaks at almost at the maximum 365 indicating a dedicated rental property.\n",
    "\n",
    "Once used to clean the data, I will remove availability as it is a leaking feature. It reveals how many bookings there will be in the coming year."
   ]
  },
  {
   "cell_type": "code",
   "execution_count": 56,
   "metadata": {
    "ExecuteTime": {
     "end_time": "2017-09-12T19:01:53.236711Z",
     "start_time": "2017-09-12T19:01:52.637643Z"
    },
    "collapsed": false
   },
   "outputs": [
    {
     "name": "stdout",
     "output_type": "stream",
     "text": [
      "Dataset has 18502 rows, 18 columns.\n",
      "Dataset has 18502 rows, 17 columns.\n"
     ]
    },
    {
     "data": {
      "image/png": "[encoded data removed]",
      "text/plain": [
       "<matplotlib.figure.Figure at 0x12dbb8438>"
      ]
     },
     "metadata": {},
     "output_type": "display_data"
    }
   ],
   "source": [
    "#Distribution of availability_365\n",
    "%matplotlib inline\n",
    "\n",
    "fig, axs = plt.subplots(ncols=2, figsize=(16, 4))\n",
    "fig.suptitle('Distribution of availability (before and after removing part-time listings)')\n",
    "\n",
    "# Before cleaning\n",
    "x_axis=df['availability_365'].dropna()\n",
    "sns.distplot(pd.Series(x_axis, name='Availability (before cleaning)'), ax=axs[0])\n",
    "\n",
    "# Remove where availability less than 60 days or greater than 300 days\n",
    "df = df.query('60 <= availability_365 <= 300')\n",
    "print(\"Dataset has {} rows, {} columns.\".format(*df.shape))\n",
    "\n",
    "#After cleaning\n",
    "x_axis=df['availability_365'].dropna()\n",
    "sns.distplot(pd.Series(x_axis, name='Availability (after cleaning)'), ax=axs[1])\n",
    "df = df.drop('availability_365', axis = 1)\n",
    "print(\"Dataset has {} rows, {} columns.\".format(*df.shape))"
   ]
  },
  {
   "cell_type": "markdown",
   "metadata": {},
   "source": [
    "#### Removing large houses\n",
    "For this model, I will remove extremely large rentals accommodating more than 10. The no. of persons a listing can accommodate will directly impact the calculation of yield, and whilst it is possible for a host to influence this number, this is less within their control and more an indicator of size. It is also unlikely that we have enough data to make tailored predictions for such listings."
   ]
  },
  {
   "cell_type": "code",
   "execution_count": 57,
   "metadata": {
    "ExecuteTime": {
     "end_time": "2017-09-12T19:01:53.801820Z",
     "start_time": "2017-09-12T19:01:53.238787Z"
    },
    "collapsed": false
   },
   "outputs": [
    {
     "name": "stdout",
     "output_type": "stream",
     "text": [
      "You dropped 116 rows.\n",
      "Dataset has 18386 rows, 17 columns.\n"
     ]
    },
    {
     "data": {
      "text/plain": [
       "<matplotlib.axes._subplots.AxesSubplot at 0x1281297b8>"
      ]
     },
     "execution_count": 57,
     "metadata": {},
     "output_type": "execute_result"
    },
    {
     "data": {
      "image/png": "[encoded data removed]",
      "text/plain": [
       "<matplotlib.figure.Figure at 0x12dbb80b8>"
      ]
     },
     "metadata": {},
     "output_type": "display_data"
    }
   ],
   "source": [
    "#Distribution of price\n",
    "%matplotlib inline\n",
    "\n",
    "fig, axs = plt.subplots(ncols=2, figsize=(16, 4))\n",
    "fig.suptitle('Distribution of max guests (before and after removing large listings > 10)', weight='bold', fontsize=12)\n",
    "\n",
    "# Before cleaning\n",
    "x_axis=df['accommodates'].dropna()\n",
    "sns.distplot(pd.Series(x_axis, name='Max guests (before cleaning)'), ax=axs[0])\n",
    "\n",
    "# Remove where price > 1000\n",
    "condition = df[df['accommodates'] > 10]\n",
    "rows_to_drop = condition.index\n",
    "print(\"You dropped {} rows.\".format(condition.shape[0]))\n",
    "df = df.drop(rows_to_drop, axis=0)\n",
    "print(\"Dataset has {} rows, {} columns.\".format(*df.shape))\n",
    "\n",
    "#After cleaning\n",
    "x_axis=df['accommodates'].dropna()\n",
    "sns.distplot(pd.Series(x_axis, name='Max guests (after cleaning)'), ax=axs[1])"
   ]
  },
  {
   "cell_type": "markdown",
   "metadata": {},
   "source": [
    "#### Removing high-priced rentals\n",
    "The below distribution curve for price is right-skewed with a long tail of low frequency high-priced rentals. For this model, I will remove extremely high priced rentals above £1000/night to maintain comparability. It is also unlikely that we have enough data to make tailored predictions for such bespoke listings"
   ]
  },
  {
   "cell_type": "code",
   "execution_count": 58,
   "metadata": {
    "ExecuteTime": {
     "end_time": "2017-09-12T19:01:54.406887Z",
     "start_time": "2017-09-12T19:01:53.804490Z"
    },
    "collapsed": false
   },
   "outputs": [
    {
     "name": "stdout",
     "output_type": "stream",
     "text": [
      "You dropped 8 rows.\n",
      "Dataset has 18378 rows, 17 columns.\n"
     ]
    },
    {
     "data": {
      "text/plain": [
       "<matplotlib.axes._subplots.AxesSubplot at 0x12ca897f0>"
      ]
     },
     "execution_count": 58,
     "metadata": {},
     "output_type": "execute_result"
    },
    {
     "data": {
      "image/png": "[encoded data removed]",
      "text/plain": [
       "<matplotlib.figure.Figure at 0x122b2bc88>"
      ]
     },
     "metadata": {},
     "output_type": "display_data"
    }
   ],
   "source": [
    "#Distribution of price\n",
    "%matplotlib inline\n",
    "\n",
    "fig, axs = plt.subplots(ncols=2, figsize=(16, 4))\n",
    "fig.suptitle('Distribution of price (before and after removing high-priced outliers)')\n",
    "\n",
    "# Before cleaning\n",
    "x_axis=df['price'].dropna()\n",
    "sns.distplot(pd.Series(x_axis, name='Price (before cleaning)'), ax=axs[0])\n",
    "\n",
    "# Remove where price > 1000\n",
    "condition = df[df['price'] > 1000]\n",
    "rows_to_drop = condition.index\n",
    "print(\"You dropped {} rows.\".format(condition.shape[0]))\n",
    "df = df.drop(rows_to_drop, axis=0)\n",
    "print(\"Dataset has {} rows, {} columns.\".format(*df.shape))\n",
    "\n",
    "#After cleaning\n",
    "x_axis=df['price'].dropna()\n",
    "sns.distplot(pd.Series(x_axis, name='Price  (after cleaning)'), ax=axs[1])"
   ]
  },
  {
   "cell_type": "markdown",
   "metadata": {},
   "source": [
    "#### Changing rare category types into 'other' bucket\n",
    "For certain categories, we need to have a big enough sample set to ensure that it is statistically significant, i.e. the category is common enough to isolate correlation between that and predictor. This has an added benefit of reducing dimensionality. For property types, I create an 'Others' category for all except for the most common ones - Apartment, House and Bed & Breakfast."
   ]
  },
  {
   "cell_type": "code",
   "execution_count": 59,
   "metadata": {
    "ExecuteTime": {
     "end_time": "2017-09-12T19:01:54.428864Z",
     "start_time": "2017-09-12T19:01:54.408928Z"
    },
    "collapsed": false
   },
   "outputs": [
    {
     "data": {
      "text/plain": [
       "Apartment             13478\n",
       "House                  4060\n",
       "Bed & Breakfast         360\n",
       "Townhouse               103\n",
       "Loft                     85\n",
       "Other                    83\n",
       "Guesthouse               37\n",
       "Serviced apartment       33\n",
       "Dorm                     33\n",
       "Boat                     32\n",
       "Bungalow                 19\n",
       "Condominium              18\n",
       "Cabin                    16\n",
       "Boutique hotel           10\n",
       "Hostel                    4\n",
       "Villa                     3\n",
       "Chalet                    2\n",
       "Lighthouse                1\n",
       "Yurt                      1\n",
       "Name: property_type, dtype: int64"
      ]
     },
     "execution_count": 59,
     "metadata": {},
     "output_type": "execute_result"
    }
   ],
   "source": [
    "df['property_type'].value_counts()"
   ]
  },
  {
   "cell_type": "code",
   "execution_count": 60,
   "metadata": {
    "ExecuteTime": {
     "end_time": "2017-09-12T19:01:54.511144Z",
     "start_time": "2017-09-12T19:01:54.431162Z"
    },
    "collapsed": false,
    "scrolled": true
   },
   "outputs": [
    {
     "name": "stderr",
     "output_type": "stream",
     "text": [
      "//anaconda/lib/python3.6/site-packages/pandas/core/indexing.py:179: SettingWithCopyWarning: \n",
      "A value is trying to be set on a copy of a slice from a DataFrame\n",
      "\n",
      "See the caveats in the documentation: http://pandas.pydata.org/pandas-docs/stable/indexing.html#indexing-view-versus-copy\n",
      "  self._setitem_with_indexer(indexer, value)\n"
     ]
    }
   ],
   "source": [
    "categories_to_rename = ['Loft','Dorm','Guesthouse','Boutique hotel','Boat','Bungalow','Hostel',\n",
    "                        'Cabin','Serviced apartment','Camper/RV','Villa','Condominium','Chalet','Parking Space',\n",
    "                        'Tent','Yurt','Igloo','Ryokan (Japan)','Castle', 'Townhouse', 'Lighthouse']\n",
    "df['property_type'].loc[df['property_type'].isin(categories_to_rename)] = 'Other'"
   ]
  },
  {
   "cell_type": "code",
   "execution_count": 61,
   "metadata": {
    "collapsed": false,
    "scrolled": true
   },
   "outputs": [
    {
     "name": "stderr",
     "output_type": "stream",
     "text": [
      "//anaconda/lib/python3.6/site-packages/pandas/core/indexing.py:179: SettingWithCopyWarning: \n",
      "A value is trying to be set on a copy of a slice from a DataFrame\n",
      "\n",
      "See the caveats in the documentation: http://pandas.pydata.org/pandas-docs/stable/indexing.html#indexing-view-versus-copy\n",
      "  self._setitem_with_indexer(indexer, value)\n"
     ]
    }
   ],
   "source": [
    "categories_to_rename = ['Pull-out Sofa', 'Futon', 'Couch', 'Airbed']\n",
    "df['bed_type'].loc[df['bed_type'].isin(categories_to_rename)] = 'Non-Real Bed'"
   ]
  },
  {
   "cell_type": "markdown",
   "metadata": {},
   "source": [
    "#### Calculation of yield"
   ]
  },
  {
   "cell_type": "markdown",
   "metadata": {},
   "source": [
    "As disuccsed earlier, **Yield** is defined as the amount of revenue that a property will earn over a year. This is calculated as follows:\n",
    "\n",
    "> AVERAGE LENGTH OF STAY X PRICE X NO. OF REVIEWS/MTH X REVIEW RATE X 12 MONTHS\n",
    "\n",
    "Using Inside AirBnb's San Franciso Model, an average length of stay in London is 3 nights with a review rate of 50%. Note that this is fairly conservative, and yield in reality is likely to be higher.\n",
    "\n",
    "Analysing the distributions for price, reviews and resulting yield makes intuitive sense. The bulk of listings are less than £100/night probably for a private room, and receive 1-4 bookings a month for stays over the weekend. This indicates occupancy rates of 10-50%, earning the average AirBnb host £15,739 per listing in a year, going up to £21,480 for upper quartile listings.\n",
    "\n",
    "Sense checking against the median [residential rents in Central London](https://www.london.gov.uk/what-we-do/housing-and-land/renting/london-rents-map, \"London Rent Map by Mayor of London office\") of £7,800 also supports the numbers."
   ]
  },
  {
   "cell_type": "code",
   "execution_count": 62,
   "metadata": {
    "ExecuteTime": {
     "end_time": "2017-09-12T19:01:55.135741Z",
     "start_time": "2017-09-12T19:01:54.612271Z"
    },
    "collapsed": false
   },
   "outputs": [
    {
     "data": {
      "text/plain": [
       "<matplotlib.axes._subplots.AxesSubplot at 0x12dddb780>"
      ]
     },
     "execution_count": 62,
     "metadata": {},
     "output_type": "execute_result"
    },
    {
     "data": {
      "image/png": "[encoded data removed]",
      "text/plain": [
       "<matplotlib.figure.Figure at 0x12ca38128>"
      ]
     },
     "metadata": {},
     "output_type": "display_data"
    }
   ],
   "source": [
    "#Distribution of yield, availability_365, reviews_per_month\n",
    "%matplotlib inline\n",
    "\n",
    "fig, axs = plt.subplots(ncols=2, figsize=(16, 4))\n",
    "fig.suptitle('Distribution of variables for calculation of yield')\n",
    "x_axis=df['price'].dropna()\n",
    "sns.distplot(pd.Series(x_axis, name=x_axis.name), ax=axs[0])\n",
    "x_axis=df['reviews_per_month'].dropna()\n",
    "sns.distplot(pd.Series(x_axis, name=x_axis.name), ax=axs[1])"
   ]
  },
  {
   "cell_type": "code",
   "execution_count": 63,
   "metadata": {
    "ExecuteTime": {
     "end_time": "2017-09-12T19:01:55.153458Z",
     "start_time": "2017-09-12T19:01:55.137603Z"
    },
    "collapsed": false
   },
   "outputs": [
    {
     "name": "stdout",
     "output_type": "stream",
     "text": [
      "Dataset has 18378 rows, 17 columns.\n"
     ]
    }
   ],
   "source": [
    "# Calculate yield\n",
    "\n",
    "# Average length of stay (by city) X Price ('price') X No. of reviews('reviews_per_month') / Review rate('50%')\n",
    "avg_length_of_stay_london = 3\n",
    "review_rate = 0.5\n",
    "df['price'] = df['price'] + df['cleaning_fee']\n",
    "df['yield'] = avg_length_of_stay_london * df['price'] * (df['reviews_per_month'] / review_rate) * 12\n",
    "\n",
    "cols_to_drop = ['cleaning_fee']\n",
    "df = df.drop(cols_to_drop, axis = 1)\n",
    "print(\"Dataset has {} rows, {} columns.\".format(*df.shape))"
   ]
  },
  {
   "cell_type": "code",
   "execution_count": 64,
   "metadata": {
    "ExecuteTime": {
     "end_time": "2017-09-12T19:01:55.486208Z",
     "start_time": "2017-09-12T19:01:55.155387Z"
    },
    "collapsed": false
   },
   "outputs": [
    {
     "data": {
      "image/png": "[encoded data removed]",
      "text/plain": [
       "<matplotlib.figure.Figure at 0x12e481320>"
      ]
     },
     "metadata": {},
     "output_type": "display_data"
    }
   ],
   "source": [
    "%matplotlib inline\n",
    "fig, ax = plt.subplots(figsize=(15,6))\n",
    "fig.suptitle('Distribution of Yield (showing only <£20,000/month)')\n",
    "x_axes = df['yield'].dropna()\n",
    "x = pd.Series(x_axis, name=x_axis.name)\n",
    "ax = sns.distplot(x)"
   ]
  },
  {
   "cell_type": "code",
   "execution_count": 65,
   "metadata": {
    "collapsed": false
   },
   "outputs": [
    {
     "data": {
      "text/plain": [
       "count      9722.000000\n",
       "mean      15739.358560\n",
       "std       17900.206348\n",
       "min          82.080000\n",
       "25%        3830.400000\n",
       "50%        9288.000000\n",
       "75%       21480.660000\n",
       "max      250560.000000\n",
       "Name: yield, dtype: float64"
      ]
     },
     "execution_count": 65,
     "metadata": {},
     "output_type": "execute_result"
    }
   ],
   "source": [
    "df['yield'].describe()"
   ]
  },
  {
   "cell_type": "markdown",
   "metadata": {},
   "source": [
    "#### Missing values"
   ]
  },
  {
   "cell_type": "markdown",
   "metadata": {},
   "source": [
    "A preview of the dataset above shows that there are missing values in some of the features such as 'beds', 'price' and 'reviews_per_month'. Depending on the nature of the column, we will treat missing values differently.\n",
    "\n",
    "In 'square_feet', almost 90% of the rows are missing and I will choose to remove the feature completely\n",
    "\n",
    "As 'yield' is an important target variable, I will completely remove any rows that have this datum missing. This will also take care of 'price' and 'reviews_per_month' as those are the required data to calculate 'yield'.\n",
    "\n",
    "For the remaining features with a small number of missing values, I impute the categorical features with the most frequent category and numericla features with the median."
   ]
  },
  {
   "cell_type": "code",
   "execution_count": 66,
   "metadata": {
    "ExecuteTime": {
     "end_time": "2017-09-12T19:02:02.007272Z",
     "start_time": "2017-09-12T19:02:01.998723Z"
    },
    "collapsed": true
   },
   "outputs": [],
   "source": [
    "from sklearn.base import TransformerMixin\n",
    "\n",
    "class DataFrameImputer(TransformerMixin):\n",
    "\n",
    "    def __init__(self):\n",
    "        \"\"\"Impute missing values.\n",
    "\n",
    "        Columns of dtype object are imputed with the most frequent value \n",
    "        in column.\n",
    "\n",
    "        Columns of other types are imputed with mean of column.\n",
    "\n",
    "        \"\"\"\n",
    "    def fit(self, X, y=None):\n",
    "\n",
    "        self.fill = pd.Series([X[c].value_counts().index[0]\n",
    "            if X[c].dtype == np.dtype('O') else X[c].mean() for c in X],\n",
    "            index=X.columns)\n",
    "\n",
    "        return self\n",
    "\n",
    "    def transform(self, X, y=None):\n",
    "        return X.fillna(self.fill)"
   ]
  },
  {
   "cell_type": "code",
   "execution_count": 67,
   "metadata": {
    "ExecuteTime": {
     "end_time": "2017-09-12T19:02:02.184018Z",
     "start_time": "2017-09-12T19:02:02.009131Z"
    },
    "collapsed": false
   },
   "outputs": [
    {
     "name": "stdout",
     "output_type": "stream",
     "text": [
      "Dataset has 9722 rows, 16 columns.\n"
     ]
    }
   ],
   "source": [
    "# Remove missing yield values\n",
    "df = df.dropna(subset=['yield'])\n",
    "\n",
    "# Remove square_feet as it is too sparse.\n",
    "df = df.drop('square_feet', axis=1)\n",
    "\n",
    "# Impute most frequent for categorical features\n",
    "categorical_feats = df.select_dtypes(include=['object']).columns\n",
    "df[categorical_feats] = DataFrameImputer().fit_transform(df[categorical_feats])\n",
    "\n",
    "# Impute median for numerical features\n",
    "num_feats = df.select_dtypes(include=[np.number]).columns\n",
    "imp = Imputer(missing_values=np.nan, strategy='median', axis=0)\n",
    "df[num_feats] = imp.fit_transform(df[num_feats])\n",
    "\n",
    "print(\"Dataset has {} rows, {} columns.\".format(*df.shape))"
   ]
  },
  {
   "cell_type": "code",
   "execution_count": 68,
   "metadata": {
    "collapsed": false
   },
   "outputs": [
    {
     "data": {
      "text/plain": [
       "False"
      ]
     },
     "execution_count": 68,
     "metadata": {},
     "output_type": "execute_result"
    }
   ],
   "source": [
    "df.isnull().values.any()"
   ]
  },
  {
   "cell_type": "markdown",
   "metadata": {},
   "source": [
    "#### Topic modelling for listing description text"
   ]
  },
  {
   "cell_type": "markdown",
   "metadata": {},
   "source": [
    "For textual information, we use a Natural Language Processing pipeline to convert the corpus into a Document-Term-Matrix, whereby each listing (document) consists of a matrix of terms (processed words). With this in place, we can use Latent Dirichlet Allocation (LDA) to discover topics inherent in the corpus, classify the corpus according to the learned topics and use them as features for the regression model.<br><br>\n",
    "\n",
    "<div class=\"alert alert-block alert-info\">LDA is a generative Bayesian inference model that associates each document with a probability distribution over topics, where topics are probability distributions over words. It is an efficient way to analyse large volumes of text and is a more human interpretable method of topic modelling.</div>\n",
    "\n",
    "In this project, I model the listing descriptions using LDA to explore emerging topics. The listing description field contains the bulk of the textual information found in a listing, and may contain important information that is not captured elsewhere. What emergent topics might we see from the rich text describing the history of a home, a host's beloved neighbourhood or it's carefully curated interiors?"
   ]
  },
  {
   "cell_type": "code",
   "execution_count": 69,
   "metadata": {
    "ExecuteTime": {
     "end_time": "2017-09-12T19:02:02.227253Z",
     "start_time": "2017-09-12T19:02:02.219064Z"
    },
    "collapsed": false
   },
   "outputs": [
    {
     "name": "stdout",
     "output_type": "stream",
     "text": [
      "Dataset has 9722 rows, 15 columns.\n"
     ]
    }
   ],
   "source": [
    "# Seperate NLP features\n",
    "nlp_feats = ['description']\n",
    "corpus = df[nlp_feats]\n",
    "df = df.drop(nlp_feats, axis = 1)\n",
    "print(\"Dataset has {} rows, {} columns.\".format(*df.shape))"
   ]
  },
  {
   "cell_type": "code",
   "execution_count": 70,
   "metadata": {
    "ExecuteTime": {
     "end_time": "2017-09-12T19:03:41.550581Z",
     "start_time": "2017-09-12T19:03:40.760610Z"
    },
    "collapsed": false
   },
   "outputs": [],
   "source": [
    "import nltk\n",
    "nltk.data.path.append(\"/Users/joaeechew/dev/nltk_data\")\n",
    "\n",
    "from nltk import word_tokenize\n",
    "from nltk.tokenize import RegexpTokenizer\n",
    "from nltk.corpus import stopwords\n",
    "from nltk.stem import WordNetLemmatizer\n",
    "\n",
    "from gensim.corpora.dictionary import Dictionary\n",
    "from gensim.models.tfidfmodel import TfidfModel\n",
    "from gensim.models.ldamodel import LdaModel\n",
    "\n",
    "import itertools\n",
    "from collections import Counter\n",
    "from collections import defaultdict\n",
    "\n",
    "import json\n",
    "import pyLDAvis.gensim\n",
    "pyLDAvis.enable_notebook()"
   ]
  },
  {
   "cell_type": "code",
   "execution_count": 71,
   "metadata": {
    "ExecuteTime": {
     "end_time": "2017-09-12T19:03:50.610528Z",
     "start_time": "2017-09-12T19:03:50.601387Z"
    },
    "collapsed": false
   },
   "outputs": [],
   "source": [
    "def preprocess_text(corpus):\n",
    "    \"\"\"Takes a corpus in list format and applies basic preprocessing steps of word tokenization,\n",
    "     removing of english stop words, lower case and lemmatization.\"\"\"\n",
    "    processed_corpus = []\n",
    "    english_words = set(nltk.corpus.words.words())\n",
    "    english_stopwords = set(stopwords.words('english'))\n",
    "    wordnet_lemmatizer = WordNetLemmatizer()\n",
    "    tokenizer = RegexpTokenizer(r'[\\w|!]+')\n",
    "    for row in corpus:\n",
    "        word_tokens = tokenizer.tokenize(row)\n",
    "        word_tokens_lower = [t.lower() for t in word_tokens]\n",
    "        word_tokens_lower_english = [t for t in word_tokens_lower if t in english_words or not t.isalpha()]\n",
    "        word_tokens_no_stops = [t for t in word_tokens_lower_english if not t in english_stopwords]\n",
    "        word_tokens_no_stops_lemmatized = [wordnet_lemmatizer.lemmatize(t) for t in word_tokens_no_stops]\n",
    "        processed_corpus.append(word_tokens_no_stops_lemmatized)\n",
    "    return processed_corpus"
   ]
  },
  {
   "cell_type": "code",
   "execution_count": 72,
   "metadata": {
    "ExecuteTime": {
     "end_time": "2017-09-12T19:07:05.131021Z",
     "start_time": "2017-09-12T19:07:05.126365Z"
    },
    "collapsed": true
   },
   "outputs": [],
   "source": [
    "def nlp_model_pipeline(processed_corpus):\n",
    "    \"\"\"Takes processed corpus and produce dictionary, doc_term_matrix and LDA model\"\"\"\n",
    "    # Creates the term dictionary (every unique term in corpus is assigned an index)\n",
    "    dictionary = Dictionary(processed_corpus)\n",
    "    # Convert corpus into Document Term Matrix using dictionary prepared above\n",
    "    doc_term_matrix = [dictionary.doc2bow(listing) for listing in processed_corpus]    \n",
    "    return dictionary, doc_term_matrix"
   ]
  },
  {
   "cell_type": "code",
   "execution_count": 73,
   "metadata": {
    "ExecuteTime": {
     "end_time": "2017-09-12T19:05:05.726962Z",
     "start_time": "2017-09-12T19:05:05.722073Z"
    },
    "collapsed": false
   },
   "outputs": [],
   "source": [
    "def LDA_topic_modelling(doc_term_matrix, dictionary, num_topics=3, passes=2):\n",
    "    # Create an object for LDA model and train it on Document-Term-Matrix\n",
    "    LDA = LdaModel\n",
    "    ldamodel = LDA(doc_term_matrix, num_topics=num_topics, id2word = dictionary, passes=passes)\n",
    "    return ldamodel"
   ]
  },
  {
   "cell_type": "code",
   "execution_count": 74,
   "metadata": {
    "collapsed": true
   },
   "outputs": [],
   "source": [
    "def add_topics_to_df(ldamodel, doc_term_matrix, df, new_col, num_topics):\n",
    "    # Convert into Per-document topic probability matrix:\n",
    "    docTopicProbMat = ldamodel[doc_term_matrix]\n",
    "    docTopicProbDf = pd.DataFrame(index=df.index, columns=range(0, num_topics))\n",
    "    for i, doc in enumerate(docTopicProbMat):\n",
    "        for topic in doc:\n",
    "            docTopicProbDf.iloc[i, topic[0]] = topic[1]\n",
    "    docTopicProbDf[new_col] = docTopicProbDf.idxmax(axis=1)\n",
    "    df_topics = docTopicProbDf[new_col]\n",
    "    # Merge with df\n",
    "    df_new = pd.concat([df, df_topics], axis=1)\n",
    "    return df_new"
   ]
  },
  {
   "cell_type": "code",
   "execution_count": 75,
   "metadata": {
    "collapsed": false
   },
   "outputs": [
    {
     "data": {
      "text/html": [
       "<div>\n",
       "<style>\n",
       "    .dataframe thead tr:only-child th {\n",
       "        text-align: right;\n",
       "    }\n",
       "\n",
       "    .dataframe thead th {\n",
       "        text-align: left;\n",
       "    }\n",
       "\n",
       "    .dataframe tbody tr th {\n",
       "        vertical-align: top;\n",
       "    }\n",
       "</style>\n",
       "<table border=\"1\" class=\"dataframe\">\n",
       "  <thead>\n",
       "    <tr style=\"text-align: right;\">\n",
       "      <th></th>\n",
       "      <th>description</th>\n",
       "    </tr>\n",
       "    <tr>\n",
       "      <th>id</th>\n",
       "      <th></th>\n",
       "    </tr>\n",
       "  </thead>\n",
       "  <tbody>\n",
       "    <tr>\n",
       "      <th>14912894</th>\n",
       "      <td>Lovely bright and sunny room overlooking the g...</td>\n",
       "    </tr>\n",
       "    <tr>\n",
       "      <th>14296637</th>\n",
       "      <td>My place is situated about 10-15mins walking d...</td>\n",
       "    </tr>\n",
       "    <tr>\n",
       "      <th>6222799</th>\n",
       "      <td>Sunny ensuite room in the newly converted loft...</td>\n",
       "    </tr>\n",
       "    <tr>\n",
       "      <th>7327883</th>\n",
       "      <td>Surbiton is very convenient  for getting into ...</td>\n",
       "    </tr>\n",
       "    <tr>\n",
       "      <th>7515814</th>\n",
       "      <td>Our one bedroom apartment is a comfortable spa...</td>\n",
       "    </tr>\n",
       "  </tbody>\n",
       "</table>\n",
       "</div>"
      ],
      "text/plain": [
       "                                                description\n",
       "id                                                         \n",
       "14912894  Lovely bright and sunny room overlooking the g...\n",
       "14296637  My place is situated about 10-15mins walking d...\n",
       "6222799   Sunny ensuite room in the newly converted loft...\n",
       "7327883   Surbiton is very convenient  for getting into ...\n",
       "7515814   Our one bedroom apartment is a comfortable spa..."
      ]
     },
     "execution_count": 75,
     "metadata": {},
     "output_type": "execute_result"
    }
   ],
   "source": [
    "corpus.head()"
   ]
  },
  {
   "cell_type": "code",
   "execution_count": 76,
   "metadata": {
    "ExecuteTime": {
     "end_time": "2017-09-12T19:15:00.948633Z",
     "start_time": "2017-09-12T19:14:27.369324Z"
    },
    "collapsed": false
   },
   "outputs": [
    {
     "name": "stdout",
     "output_type": "stream",
     "text": [
      "CPU times: user 7.12 s, sys: 122 ms, total: 7.24 s\n",
      "Wall time: 7.47 s\n"
     ]
    }
   ],
   "source": [
    "%%time\n",
    "corpus_description = corpus['description'].astype(str)\n",
    "processed_corpus_description = preprocess_text(corpus_description)\n",
    "dictionary_description, doc_term_matrix_description = nlp_model_pipeline(processed_corpus_description)"
   ]
  },
  {
   "cell_type": "code",
   "execution_count": 78,
   "metadata": {
    "collapsed": false
   },
   "outputs": [
    {
     "name": "stdout",
     "output_type": "stream",
     "text": [
      "CPU times: user 3min 17s, sys: 400 ms, total: 3min 17s\n",
      "Wall time: 3min 18s\n"
     ]
    }
   ],
   "source": [
    "%%time\n",
    "ldamodel_description = LDA_topic_modelling(doc_term_matrix_description, dictionary_description, num_topics=3, passes=10)"
   ]
  },
  {
   "cell_type": "markdown",
   "metadata": {},
   "source": [
    "### Exploratory Visualization"
   ]
  },
  {
   "cell_type": "markdown",
   "metadata": {},
   "source": [
    "The topic models are visualised in an Intertopic Distance Map, which uses the brilliant gensim and pyLDAvis packages. In this visualisation, the area of the circles represent the prevalence of each topic while the length of the bars on the right represent the membership of a term in a particular topic. For example, topic 1 below has the most prevalent, and within topic 1 the term 'walk' has the highest estimated term frequency (red area) compared to the overall term frequency (blue and red area) of the term in the entire corpus."
   ]
  },
  {
   "cell_type": "code",
   "execution_count": 84,
   "metadata": {
    "collapsed": false,
    "scrolled": false
   },
   "outputs": [
    {
     "name": "stdout",
     "output_type": "stream",
     "text": [
      "CPU times: user 11.8 s, sys: 124 ms, total: 12 s\n",
      "Wall time: 12.4 s\n"
     ]
    }
   ],
   "source": [
    "%%time\n",
    "p = pyLDAvis.gensim.prepare(ldamodel_description, doc_term_matrix_description, dictionary_description)"
   ]
  },
  {
   "cell_type": "code",
   "execution_count": 85,
   "metadata": {
    "collapsed": false
   },
   "outputs": [],
   "source": [
    "pyLDAvis.save_html(p, 'lda.html')"
   ]
  },
  {
   "cell_type": "markdown",
   "metadata": {},
   "source": [
    "<img src=\"lda_screenshot.png\">"
   ]
  },
  {
   "cell_type": "markdown",
   "metadata": {},
   "source": [
    "I chose to cluster the document terms into 3 topics as it was the largest number of topics that had no overlaps with very distinct topics. The separate topics also makes sense within the context of AirBnb listings.\n",
    "\n",
    "Based on the top terms in each topic, the topics for listings could be described as:<br>\n",
    "\n",
    "- Topic 1 - Location: This focuses on location with words such as 'location', 'walk', 'station' and 'central'. This might appeal to travellers who value convenience and proximity to transport links, such as first-time tourists in London who want to maximise their time and visit all the attractions in Central London.\n",
    "- Topic 2 - Budget: This focuses on words associated with more basic facilities such as 'bed', 'room', 'shower' and 'clean'. This might appeal to budget travellers who don't want to spend too much and are looking for listings that assure them of the basic amenities.\n",
    "- Topic 3 - Luxury: This seems to focus on modern apartments, with words such as 'kitchen', 'modern', 'private'\n",
    " and 'space' standing out. This might appeal to travellers with a bigger budget and want to stay in a comfortable place with space and privacy (which is expensive in London!)."
   ]
  },
  {
   "cell_type": "markdown",
   "metadata": {},
   "source": [
    "### Algorithms and Techniques"
   ]
  },
  {
   "cell_type": "markdown",
   "metadata": {},
   "source": [
    "I intend to train 3 regression algorithms to predict the yield for the listings. \n",
    "\n",
    "**1. Linear Regression**\n",
    "\n",
    "The first algorithm used is a simple linear regression. This is a linear approach for modelling the relationship between the features in the data set (e.g. no. of rooms, no. of guests accommodated) and the target 'yield' variable.\n",
    "\n",
    "This is used to first establish a baseline model that we can then seek to improve on.\n",
    "\n",
    "**2.\tDecision Tree**\n",
    "\n",
    "The second algorithm is a Decision Tree algorithm. This is a more complex tree-based model that can capture nonlinear relationships in the dataset whilst still retaining interpretability.\n",
    "\n",
    "It is also robust to missing values, and has the added advantage of being able to help with feature selection based on feature importance. \n",
    "\n",
    "**3.\tRandom Forest**\n",
    "\n",
    "This is the most complex ensemble model built from decision trees, and should be able to provide additional accuracy. While it sacrifices interpretability, sense checking can be made with the earlier decision tree model whilst added an interpretation layer using Tree Interpreter allows model users to break down individual predictions."
   ]
  },
  {
   "cell_type": "markdown",
   "metadata": {},
   "source": [
    "### Benchmark"
   ]
  },
  {
   "cell_type": "markdown",
   "metadata": {},
   "source": [
    "To my knowledge, there are no existing Airbnb pricing models released to the public. However, I will use a hold-out set to test my model, and the mean squared error will be used to measure the accuracy of the model. \n",
    "\n",
    "I will also build challenger models, and in particular start with a linear regression model to act as the baseline benchmark. A linear regression model is chosen as it is simple and interpretable, and the results can be easily interrogated. The methodology for building this model can be found below in the methodology section.\n",
    "\n",
    "After building the model, an MSE of 254474109 with variance of 0.18 is established."
   ]
  },
  {
   "cell_type": "markdown",
   "metadata": {},
   "source": [
    "## III. Methodology\n",
    "_(approx. 3-5 pages)_"
   ]
  },
  {
   "cell_type": "markdown",
   "metadata": {},
   "source": [
    "### Data Preprocessing"
   ]
  },
  {
   "cell_type": "markdown",
   "metadata": {},
   "source": [
    "Before performing any machine learning, the dataset needs to be pre-processed. The following steps were taken for this project and discussed in the 'Data Exploration' section of the report:\n",
    "\n",
    "1. Converting data types (e.g. string into integers)\n",
    "2. Removing part-time listings\n",
    "3. Removing large houses\n",
    "4. Removing high-priced rentals\n",
    "5. Changing minor category times into ‘Other’\n",
    "6. Calculation of yield\n",
    "7. Topic modelling\n",
    "\n",
    "In addition to those steps already taken, missing values need to be imputed, features have to be selected and categorical features have to be encoded."
   ]
  },
  {
   "cell_type": "code",
   "execution_count": null,
   "metadata": {
    "collapsed": false,
    "scrolled": true
   },
   "outputs": [],
   "source": [
    "df.describe()"
   ]
  },
  {
   "cell_type": "markdown",
   "metadata": {},
   "source": [
    "#### Feature selection"
   ]
  },
  {
   "cell_type": "markdown",
   "metadata": {},
   "source": [
    "I also remove features that are not necessary for the machine learning phase.\n",
    "\n",
    "'Price' and 'reviews_per_month' are removed as they are used to calculate 'yield' and would have a strong correlation with 'yield'."
   ]
  },
  {
   "cell_type": "code",
   "execution_count": 32,
   "metadata": {
    "ExecuteTime": {
     "end_time": "2017-09-12T19:02:02.184018Z",
     "start_time": "2017-09-12T19:02:02.009131Z"
    },
    "collapsed": false
   },
   "outputs": [
    {
     "name": "stdout",
     "output_type": "stream",
     "text": [
      "Dataset has 9722 rows, 13 columns.\n"
     ]
    }
   ],
   "source": [
    "cols_to_drop = ['price', 'reviews_per_month']\n",
    "df_final_viz = df[cols_to_drop]\n",
    "df = df.drop(cols_to_drop, axis = 1)\n",
    "print(\"Dataset has {} rows, {} columns.\".format(*df.shape))"
   ]
  },
  {
   "cell_type": "markdown",
   "metadata": {},
   "source": [
    "#### Dummy encoding"
   ]
  },
  {
   "cell_type": "markdown",
   "metadata": {},
   "source": [
    "Finally, categorical features need to be encoded to be treated properly by the machine learning algorithms. As the algorithms require numerical features only, the different categories have to be given a number. However, the categorical features present do not have any order inherent in them (eg. apartment vs. house) and thus needs to be encoded where 1 is given if the category is true and 0 is not."
   ]
  },
  {
   "cell_type": "code",
   "execution_count": 33,
   "metadata": {
    "ExecuteTime": {
     "end_time": "2017-09-12T19:02:02.245011Z",
     "start_time": "2017-09-12T19:02:02.229259Z"
    },
    "collapsed": false
   },
   "outputs": [
    {
     "name": "stdout",
     "output_type": "stream",
     "text": [
      "Dataset has 9722 rows, 19 columns.\n"
     ]
    }
   ],
   "source": [
    "# Dummy encoding\n",
    "categorical_feats = ['property_type', 'room_type', 'bed_type']\n",
    "df = pd.get_dummies(df, columns=categorical_feats, drop_first=False)\n",
    "print(\"Dataset has {} rows, {} columns.\".format(*df.shape))"
   ]
  },
  {
   "cell_type": "markdown",
   "metadata": {},
   "source": [
    "### Implementation"
   ]
  },
  {
   "cell_type": "markdown",
   "metadata": {},
   "source": [
    "Once the dataset has been processed it is now ready to for the models to be built.\n",
    "\n",
    "1. As a first step, the target variable 'yield' has to be seperated from the response variables to from the X and y data sets.\n",
    "2. Both X and y data sets and respectively split into a training set and a testing set. I chose to use 30% of the data set for the testing set. As part of the splitting process, the data set is also shuffled to ensure there is no inherent or hidden order to the data set and that both the testing and training sets are a fair representative of the complete data set.\n",
    "3. In the training phase, the training set is fitted to the 3 algorithms set out in the 'Algorithms and Techniques' section. During this process, the models are tuned using scikit-learn's GridSearchCV function. This allows us to set out a grid of parameters to iteratively train and set the models on and ultimately choose the best parameters. As tree-based algorithms are being applied, the parameters being tuned are the max no. of features used, the max depth of trees, the minimum sample split and the no. of trees grown (for random forest).\n",
    "4. Once the 3 models have been fit, they are scored on the testing set. To do this, we predict the 'yield' variable using the trained models on the response data set. The predicted 'yield' values are scored against the actual 'yield' values in the test set using the mean squared error (MSE) as set out in the 'Metrics' section. Variance is also measured alongside MSE to have a better view of consistency of our models.\n",
    "5. After each model is trained and tested, the results are compared to check that more complicated models do indeed produce a better accuracy."
   ]
  },
  {
   "cell_type": "code",
   "execution_count": null,
   "metadata": {
    "ExecuteTime": {
     "end_time": "2017-09-12T19:02:02.296553Z",
     "start_time": "2017-09-12T19:02:02.247464Z"
    },
    "collapsed": false
   },
   "outputs": [],
   "source": [
    "df.head()"
   ]
  },
  {
   "cell_type": "code",
   "execution_count": 35,
   "metadata": {
    "ExecuteTime": {
     "end_time": "2017-09-12T19:02:02.312062Z",
     "start_time": "2017-09-12T19:02:02.301378Z"
    },
    "collapsed": true
   },
   "outputs": [],
   "source": [
    "# Create response and target variable\n",
    "target = 'yield'\n",
    "X = df.drop(target, axis=1)\n",
    "y = df[target]"
   ]
  },
  {
   "cell_type": "code",
   "execution_count": 36,
   "metadata": {
    "ExecuteTime": {
     "end_time": "2017-09-12T19:02:02.334551Z",
     "start_time": "2017-09-12T19:02:02.327646Z"
    },
    "collapsed": false
   },
   "outputs": [],
   "source": [
    "# Train test split\n",
    "test_size = 0.3\n",
    "\n",
    "X_train, X_test, y_train, y_test = train_test_split(X, y, test_size=test_size, random_state=seed)"
   ]
  },
  {
   "cell_type": "markdown",
   "metadata": {},
   "source": [
    "#### Linear regression model\n",
    "\n",
    "As outlined in the 'Algorithms and Techniques' section, I fit the data to a linear regression model. This produces an MSE of 254474109 and a variance of 0.18. While not the most powerful model, it is simple and quick and will form our baseline model."
   ]
  },
  {
   "cell_type": "code",
   "execution_count": 37,
   "metadata": {
    "ExecuteTime": {
     "end_time": "2017-09-12T19:02:02.443653Z",
     "start_time": "2017-09-12T19:02:02.336520Z"
    },
    "collapsed": true
   },
   "outputs": [],
   "source": [
    "from sklearn import linear_model\n",
    "from sklearn.metrics import mean_squared_error, r2_score"
   ]
  },
  {
   "cell_type": "code",
   "execution_count": 38,
   "metadata": {
    "ExecuteTime": {
     "end_time": "2017-09-12T19:02:02.478222Z",
     "start_time": "2017-09-12T19:02:02.446635Z"
    },
    "collapsed": false
   },
   "outputs": [
    {
     "data": {
      "text/plain": [
       "LinearRegression(copy_X=True, fit_intercept=True, n_jobs=1, normalize=False)"
      ]
     },
     "execution_count": 38,
     "metadata": {},
     "output_type": "execute_result"
    }
   ],
   "source": [
    "# Create linear regression object\n",
    "regr = linear_model.LinearRegression()\n",
    "\n",
    "# Train the model using the training sets\n",
    "regr.fit(X_train, y_train)"
   ]
  },
  {
   "cell_type": "code",
   "execution_count": 39,
   "metadata": {
    "ExecuteTime": {
     "end_time": "2017-09-12T19:02:02.491044Z",
     "start_time": "2017-09-12T19:02:02.480505Z"
    },
    "collapsed": false
   },
   "outputs": [
    {
     "name": "stdout",
     "output_type": "stream",
     "text": [
      "Mean squared error: 254474109.10\n",
      "Variance score: 0.18\n"
     ]
    }
   ],
   "source": [
    "# Make predictions using the testing set\n",
    "regr_y_pred = regr.predict(X_test)\n",
    "\n",
    "# The mean squared error\n",
    "print(\"Mean squared error: %.2f\" % mean_squared_error(y_test, regr_y_pred))\n",
    "# Explained variance score: 1 is perfect prediction\n",
    "print('Variance score: %.2f' % r2_score(y_test, regr_y_pred))"
   ]
  },
  {
   "cell_type": "markdown",
   "metadata": {},
   "source": [
    "#### Decision tree model\n",
    "\n",
    "The next step is to fit a Decision Tree model. This is more complex, and returns a lower MSE of 253282661. While this is a better result, the improvement is not significant."
   ]
  },
  {
   "cell_type": "code",
   "execution_count": 40,
   "metadata": {
    "ExecuteTime": {
     "end_time": "2017-09-12T19:02:02.497400Z",
     "start_time": "2017-09-12T19:02:02.493609Z"
    },
    "collapsed": true
   },
   "outputs": [],
   "source": [
    "from sklearn.tree import DecisionTreeRegressor"
   ]
  },
  {
   "cell_type": "code",
   "execution_count": 41,
   "metadata": {
    "ExecuteTime": {
     "end_time": "2017-09-12T19:02:02.885204Z",
     "start_time": "2017-09-12T19:02:02.499685Z"
    },
    "collapsed": false
   },
   "outputs": [
    {
     "data": {
      "text/plain": [
       "DecisionTreeRegressor(criterion='mse', max_depth=5, max_features=None,\n",
       "           max_leaf_nodes=None, min_impurity_decrease=0.0,\n",
       "           min_impurity_split=None, min_samples_leaf=1,\n",
       "           min_samples_split=2, min_weight_fraction_leaf=0.0,\n",
       "           presort=False, random_state=42, splitter='best')"
      ]
     },
     "execution_count": 41,
     "metadata": {},
     "output_type": "execute_result"
    }
   ],
   "source": [
    "# Fit regression model\n",
    "dt_regr = DecisionTreeRegressor(random_state=seed, max_depth=5)\n",
    "dt_regr.fit(X_train, y_train)"
   ]
  },
  {
   "cell_type": "code",
   "execution_count": 42,
   "metadata": {
    "ExecuteTime": {
     "end_time": "2017-09-12T19:02:02.905306Z",
     "start_time": "2017-09-12T19:02:02.887819Z"
    },
    "collapsed": false
   },
   "outputs": [
    {
     "name": "stdout",
     "output_type": "stream",
     "text": [
      "Mean squared error: 253282661.10\n",
      "Variance score: 0.18\n"
     ]
    }
   ],
   "source": [
    "# Make prediction\n",
    "dt_y_pred = dt_regr.predict(X_test)\n",
    "\n",
    "# The mean squared error\n",
    "print(\"Mean squared error: %.2f\" % mean_squared_error(y_test, dt_y_pred))\n",
    "# Explained variance score: 1 is perfect prediction\n",
    "print('Variance score: %.2f' % r2_score(y_test, dt_y_pred))"
   ]
  },
  {
   "cell_type": "markdown",
   "metadata": {},
   "source": [
    "#### Random forest model\n",
    "\n",
    "Finally, I fit a Random Forest model. This is the most complex model, and returns the best results of 21254832 MSE and 0.31 variance. This suggests that the data set has many non-linear relationships which can only be captured by a more complex model."
   ]
  },
  {
   "cell_type": "code",
   "execution_count": 43,
   "metadata": {
    "ExecuteTime": {
     "end_time": "2017-09-12T19:02:38.571740Z",
     "start_time": "2017-09-12T19:02:02.907603Z"
    },
    "collapsed": false
   },
   "outputs": [
    {
     "name": "stdout",
     "output_type": "stream",
     "text": [
      "CPU times: user 2.35 s, sys: 21.1 ms, total: 2.37 s\n",
      "Wall time: 2.34 s\n"
     ]
    }
   ],
   "source": [
    "%%time\n",
    "rf_regr = RandomForestRegressor(random_state=seed, bootstrap=True, criterion='mse', max_depth=10, \n",
    "                           max_features='auto', min_samples_split=4, n_estimators=150)\n",
    "\n",
    "rf_regr.fit(X_train, y_train)"
   ]
  },
  {
   "cell_type": "code",
   "execution_count": 44,
   "metadata": {
    "ExecuteTime": {
     "end_time": "2017-09-12T19:02:38.606139Z",
     "start_time": "2017-09-12T19:02:38.573574Z"
    },
    "collapsed": false
   },
   "outputs": [
    {
     "name": "stdout",
     "output_type": "stream",
     "text": [
      "Mean squared error: 212548432.31\n",
      "Variance score: 0.31\n"
     ]
    }
   ],
   "source": [
    "# Make prediction\n",
    "rf_y_pred = rf_regr.predict(X_test)\n",
    "\n",
    "# The mean squared error\n",
    "print(\"Mean squared error: %.2f\" % mean_squared_error(y_test, rf_y_pred))\n",
    "# Explained variance score: 1 is perfect prediction\n",
    "print('Variance score: %.2f' % r2_score(y_test, rf_y_pred))"
   ]
  },
  {
   "cell_type": "markdown",
   "metadata": {},
   "source": [
    "### Refinement"
   ]
  },
  {
   "cell_type": "markdown",
   "metadata": {},
   "source": [
    "In the 'Problem Statement' section, it was first highlighted that one of the key aspects of this project is to test the predictive value of textual information in AirBnb listings. As such, one of they key refinements made is to include the earlier topics that have been modelled using LDA (explained in the 'Data Exploration' section). Each listing is classified into one topic based on probability determined by the trained LDA model. This topic is then added in as a few feature.\n",
    "\n",
    "Before this, the tuned random forest model had the best result with the lowest MSE of 212548432 and the highest variance of 0.31. After including the description topics, MSE reduces further to 211994401 while variance increases further to 0.32. This validates the hypothesis that there is valuable information as modelling description text as topics increases the model's predictive accuracy, although it is a very small effect."
   ]
  },
  {
   "cell_type": "code",
   "execution_count": 45,
   "metadata": {
    "collapsed": false
   },
   "outputs": [
    {
     "name": "stdout",
     "output_type": "stream",
     "text": [
      "Dataset has 9722 rows, 22 columns.\n"
     ]
    }
   ],
   "source": [
    "df = add_topics_to_df(ldamodel_description, doc_term_matrix_description, df, new_col='topics_description', num_topics=3)\n",
    "\n",
    "# Rename based on understanding of topics\n",
    "df['topics_description'].replace({0:'Location', 1:'Luxury', 2:'Budget'},inplace=True)\n",
    "df = pd.get_dummies(df, columns=['topics_description'], drop_first=False)\n",
    "\n",
    "print(\"Dataset has {} rows, {} columns.\".format(*df.shape))"
   ]
  },
  {
   "cell_type": "code",
   "execution_count": 46,
   "metadata": {
    "collapsed": true
   },
   "outputs": [],
   "source": [
    "# Create response and target variable\n",
    "X = df.drop(target, axis=1)\n",
    "y = df[target]\n",
    "X_train, X_test, y_train, y_test = train_test_split(X, y, test_size=test_size, random_state=seed)"
   ]
  },
  {
   "cell_type": "code",
   "execution_count": 47,
   "metadata": {
    "ExecuteTime": {
     "end_time": "2017-09-12T19:02:38.571740Z",
     "start_time": "2017-09-12T19:02:02.907603Z"
    },
    "collapsed": false
   },
   "outputs": [
    {
     "name": "stdout",
     "output_type": "stream",
     "text": [
      "CPU times: user 2.28 s, sys: 5.62 ms, total: 2.28 s\n",
      "Wall time: 2.28 s\n"
     ]
    },
    {
     "data": {
      "text/plain": [
       "RandomForestRegressor(bootstrap=True, criterion='mse', max_depth=10,\n",
       "           max_features='auto', max_leaf_nodes=None,\n",
       "           min_impurity_decrease=0.0, min_impurity_split=None,\n",
       "           min_samples_leaf=1, min_samples_split=4,\n",
       "           min_weight_fraction_leaf=0.0, n_estimators=150, n_jobs=1,\n",
       "           oob_score=False, random_state=42, verbose=0, warm_start=False)"
      ]
     },
     "execution_count": 47,
     "metadata": {},
     "output_type": "execute_result"
    }
   ],
   "source": [
    "%%time\n",
    "rf_regr.fit(X_train, y_train)"
   ]
  },
  {
   "cell_type": "code",
   "execution_count": 48,
   "metadata": {
    "ExecuteTime": {
     "end_time": "2017-09-12T19:02:38.606139Z",
     "start_time": "2017-09-12T19:02:38.573574Z"
    },
    "collapsed": false
   },
   "outputs": [
    {
     "name": "stdout",
     "output_type": "stream",
     "text": [
      "Mean squared error: 211994401.07\n",
      "Variance score: 0.32\n"
     ]
    }
   ],
   "source": [
    "# Make prediction\n",
    "rf_y_pred = rf_regr.predict(X_test)\n",
    "\n",
    "# The mean squared error\n",
    "print(\"Mean squared error: %.2f\" % mean_squared_error(y_test, rf_y_pred))\n",
    "# Explained variance score: 1 is perfect prediction\n",
    "print('Variance score: %.2f' % r2_score(y_test, rf_y_pred))"
   ]
  },
  {
   "cell_type": "markdown",
   "metadata": {},
   "source": [
    "#### Tuning the final model"
   ]
  },
  {
   "cell_type": "markdown",
   "metadata": {},
   "source": [
    "After confirming that including NLP features helps to improve accuracy, it is included in the final model. The parameters for the final Random Forest model is then tuned using scikit-learn's GridSearchCV.\n",
    "\n",
    "A parameters grid of hyperparameters are created for GridSearchCV to iteratively use and test for the best cross-validated accuracy. The paramters being tuned are: Number of estimators, the maximum depth and the minimum samples split. After tuning, the best parameters are a max_depth of 15, minimum samples split of 10 and number of estimators 200.\n",
    "\n",
    "The final MSE lowers to 210835523 with a variance score of 0.32. This shows that the model is fairly complex, with a large number of trees and depth."
   ]
  },
  {
   "cell_type": "code",
   "execution_count": null,
   "metadata": {
    "collapsed": false
   },
   "outputs": [],
   "source": [
    "#Tuning the model\n",
    "param_grid = { \"n_estimators\"      : [175, 200, 225, 250],\n",
    "           \"criterion\"         : ['mse'],\n",
    "           \"max_features\"      : ['auto'], #auto, sqrt, log2, int/n_feature\n",
    "           \"max_depth\"         : [10, 14, 15, 16, 18],\n",
    "           \"min_samples_split\" : [6, 7, 8, 9, 10] ,\n",
    "           \"bootstrap\": [True]}"
   ]
  },
  {
   "cell_type": "code",
   "execution_count": null,
   "metadata": {
    "ExecuteTime": {
     "end_time": "2017-09-12T19:02:38.571740Z",
     "start_time": "2017-09-12T19:02:02.907603Z"
    },
    "collapsed": false
   },
   "outputs": [],
   "source": [
    "%%time\n",
    "rf = RandomForestRegressor(random_state=seed)\n",
    "\n",
    "rf_cv = GridSearchCV(rf, param_grid, cv=5)\n",
    "rf_cv.fit(X_train, y_train)"
   ]
  },
  {
   "cell_type": "code",
   "execution_count": null,
   "metadata": {
    "ExecuteTime": {
     "end_time": "2017-09-12T19:02:38.606139Z",
     "start_time": "2017-09-12T19:02:38.573574Z"
    },
    "collapsed": false
   },
   "outputs": [],
   "source": [
    "# Make prediction\n",
    "rf_y_pred = rf_cv.predict(X_test)\n",
    "\n",
    "# The mean squared error\n",
    "print(\"Mean squared error: %.2f\" % mean_squared_error(y_test, rf_y_pred))\n",
    "# Explained variance score: 1 is perfect prediction\n",
    "print('Variance score: %.2f' % r2_score(y_test, rf_y_pred))\n",
    "# Best params\n",
    "print(\"Tuned Model Parameters: {}\".format(rf_cv.best_params_))"
   ]
  },
  {
   "cell_type": "markdown",
   "metadata": {},
   "source": [
    "## IV. Results\n",
    "_(approx. 2-3 pages)_"
   ]
  },
  {
   "cell_type": "markdown",
   "metadata": {},
   "source": [
    "### Model Evaluation and Validation"
   ]
  },
  {
   "cell_type": "markdown",
   "metadata": {},
   "source": [
    "To test the robustness of the final model, sensitivity analysis is done by making adjustments to the inputs and evaluating the size of changes in the outputs. The adjustments tested are:\n",
    "\n",
    "1. Changing the random state: This will cause different data points to be randomly selected during the train/testing split and during the random forest training process. By choosing different random states, we can ensure that model training is not a fluke and can be replicated on different states. Changing the state from 42 to 49, the MSE remains in the same ballpark at 211329730 and variance score is the same. \n",
    "\n",
    "2. Changing the split proportions between training and test set: By changing the amount of data split between training and testing, we can ensure that the model retains its accuracy on different size of testing data. A fairly conservative split of 30% for the test set had been chosen initially. By reducing this to 10%, the MSE drops to 205098824 which is to be expected. However, the change is not radicially different and the model is fairly robust. \n",
    "\n",
    "3. Changing input data: By manually tweaking some of the input data, it is possible to see how senstive the model is. If a small change in inputs lead to an unrealistic change in outputs then the model is unlikely to be robust. As an example, I take a random data point in the test data set and change the 'accommodates' feature which is one of the most significant features. The data point originally accommodates 4 persons and the model predicts a yield of £17,400 annually. Adjusting it to accommodate for 2 reduces the predicted yield to £13,377 while increasing it to accommodate for 6 increases it to £18,106. This change is in line with expectations, as a property that can accommodate less guests should have a smaller yield and vice-versa. Importantly, increasing the number of guests leads to a smaller increase in yield than a decrease in yield for decreasing the number of guests. This makes sense as increasing the number of guests without changing any other variable indicates that each guests needs to share of the the listing facilities and hence have less yield per guest.\n"
   ]
  },
  {
   "cell_type": "code",
   "execution_count": null,
   "metadata": {
    "collapsed": false
   },
   "outputs": [],
   "source": [
    "# Change variables\n",
    "random_state = 59\n",
    "\n",
    "X = df.drop(target, axis=1)\n",
    "y = df[target]\n",
    "X_train, X_test, y_train, y_test = train_test_split(X, y, test_size=test_size, random_state=seed)\n",
    "\n",
    "# Fit and make prediction\n",
    "rf_regr.fit(X_train, y_train)\n",
    "rf_y_pred = rf_regr.predict(X_test)\n",
    "\n",
    "# The mean squared error\n",
    "print(\"Mean squared error: %.2f\" % mean_squared_error(y_test, rf_y_pred))\n",
    "# Explained variance score: 1 is perfect prediction\n",
    "print('Variance score: %.2f' % r2_score(y_test, rf_y_pred))"
   ]
  },
  {
   "cell_type": "code",
   "execution_count": null,
   "metadata": {
    "collapsed": false
   },
   "outputs": [],
   "source": [
    "# Change variables\n",
    "test_size = 0.2\n",
    "\n",
    "X = df.drop(target, axis=1)\n",
    "y = df[target]\n",
    "X_train, X_test, y_train, y_test = train_test_split(X, y, test_size=test_size, random_state=seed)\n",
    "\n",
    "# Fit and make prediction\n",
    "rf_regr.fit(X_train, y_train)\n",
    "rf_y_pred = rf_regr.predict(X_test)\n",
    "\n",
    "# The mean squared error\n",
    "print(\"Mean squared error: %.2f\" % mean_squared_error(y_test, rf_y_pred))\n",
    "# Explained variance score: 1 is perfect prediction\n",
    "print('Variance score: %.2f' % r2_score(y_test, rf_y_pred))"
   ]
  },
  {
   "cell_type": "code",
   "execution_count": null,
   "metadata": {
    "collapsed": false
   },
   "outputs": [],
   "source": [
    "X_test.loc[1400514]"
   ]
  },
  {
   "cell_type": "code",
   "execution_count": null,
   "metadata": {
    "collapsed": false
   },
   "outputs": [],
   "source": [
    "# Change inputs - accommodates\n",
    "\n",
    "test_data = X_test.loc[1400514]\n",
    "print(rf_cv.predict(test_data.reshape(1, -1)))\n",
    "\n",
    "test_data['accommodates'] = 2\n",
    "print(rf_cv.predict(test_data.reshape(1, -1)))\n",
    "\n",
    "test_data['accommodates'] = 6\n",
    "print(rf_cv.predict(test_data.reshape(1, -1)))"
   ]
  },
  {
   "cell_type": "markdown",
   "metadata": {},
   "source": [
    "Another method of evaluating the model is to look at what the model is saying and sense checking the results. By looking at feature importance, we are able to determine what the model determines to be important features and whether that aligns with what might be expected. Features that are surprising could be further explored to check if they are genuine anomalies or if the model is inconsistent with reality.\n",
    "\n",
    "The top features are latitude (25%), accomodates (22%) and longtitude (19%) accounting for 66% of model importance. Longitude and latitude makes intuitive sense, and proves the age-old real estate adage that it's all about 'Location, location, location!'. 'Accomodates' is the number of people a listing can accommodate which also makes sense as that is a direct influence on price. Perhaps a potential hint to future hosts that an extra sofa-bed would be well worth the investment?\n",
    "\n",
    "Interestingly, the topics modelled from the listing descriptions have a combined importance of 2.5%. While this seems like a small number, it is higher than property type (i.e. house, apartment or other) which has 1.3%. This further validates the hypothesis that there is valuable information in the descriptions and tell you more about a listing than whether it is a house or apartment.\n",
    "\n",
    "The features importances produced by the model seem to make sense, and further builds confidence in the final model built."
   ]
  },
  {
   "cell_type": "code",
   "execution_count": null,
   "metadata": {
    "ExecuteTime": {
     "end_time": "2017-09-12T19:02:38.613454Z",
     "start_time": "2017-09-12T19:02:38.607802Z"
    },
    "collapsed": true
   },
   "outputs": [],
   "source": [
    "#Display feature importance\n",
    "def feature_importance(model, trainData, display_n_rows):\n",
    "    \"\"\"Display feature importance & weighting for tree based model\"\"\"\n",
    "    fi = model.feature_importances_*100\n",
    "    feat_imp = pd.DataFrame(list(zip(fi,trainData.columns.values)))\n",
    "    feat_imp = feat_imp.sort_values(by=0, axis=0, ascending=False)\n",
    "    feat_imp.columns = ['importance %', 'feature']\n",
    "    print(feat_imp[:display_n_rows])"
   ]
  },
  {
   "cell_type": "code",
   "execution_count": null,
   "metadata": {
    "ExecuteTime": {
     "end_time": "2017-09-12T19:02:38.647308Z",
     "start_time": "2017-09-12T19:02:38.615435Z"
    },
    "code_folding": [],
    "collapsed": false
   },
   "outputs": [],
   "source": [
    "#Display features & weighting\n",
    "rf_best = rf_cv.best_estimator_\n",
    "feature_importance(rf_best, X_train, 20)"
   ]
  },
  {
   "cell_type": "markdown",
   "metadata": {},
   "source": [
    "### Justification"
   ]
  },
  {
   "cell_type": "markdown",
   "metadata": {
    "hide_input": true
   },
   "source": [
    "The final MSE is 200185564 with a variance score of 0.33, which is a significantly better result compared to the baseline model with an MSE of 254474109 and variance of 0.18. The final model has also been rigorously tested, cross-validated and evaluated with different inputs and been proven to be a robust solution.\n",
    "\n",
    "This justifies the use of the final model, as it is robust and a more accurate predictor of AirBnb yield compared to a simple linear regression model. It has a lower error rate, and is able to more consistently predict a yield that is closer to the actual yield."
   ]
  },
  {
   "cell_type": "markdown",
   "metadata": {},
   "source": [
    "## V. Conclusion\n",
    "_(approx. 1-2 pages)_"
   ]
  },
  {
   "cell_type": "markdown",
   "metadata": {},
   "source": [
    "### Free-Form Visualization"
   ]
  },
  {
   "cell_type": "code",
   "execution_count": null,
   "metadata": {
    "collapsed": false
   },
   "outputs": [],
   "source": [
    "df2 = df.join(df_final_viz)\n",
    "nlp_feats = ['topics_description_Budget', 'topics_description_Location', 'topics_description_Luxury']\n",
    "df2['topics_description'] = df2[nlp_feats].idxmax(axis=1)\n",
    "df2['topics_description'] = df2['topics_description'].str.replace('topics_description_', '')"
   ]
  },
  {
   "cell_type": "code",
   "execution_count": null,
   "metadata": {
    "collapsed": false
   },
   "outputs": [],
   "source": [
    "df3 = df2[['topics_description', 'price', 'reviews_per_month']].groupby(['topics_description']).mean()\n",
    "df3['count'] = df2[['yield', 'topics_description']].groupby(['topics_description']).count()['yield']\n",
    "df3['reviews_per_year'] = df3['reviews_per_month']*12\n",
    "df3['color'] = ['R', 'G', 'B']"
   ]
  },
  {
   "cell_type": "code",
   "execution_count": null,
   "metadata": {
    "collapsed": false
   },
   "outputs": [],
   "source": [
    "plt.figure(figsize=(9, 6))\n",
    "\n",
    "# Unique category labels:\n",
    "color_labels = df3['color'].unique()\n",
    "\n",
    "# List of RGB triplets\n",
    "rgb_values = sns.color_palette(\"Set2\", 8)\n",
    "\n",
    "# Map label to RGB\n",
    "color_map = dict(zip(color_labels, rgb_values))\n",
    "\n",
    "# Finally use the mapped values\n",
    "plt.scatter(df3['reviews_per_year'], df3['price'], c=df3['color'].map(color_map), s=df3['count']*1.5)\n",
    "\n",
    "plt.ylim([120,180])\n",
    "plt.xlim([16,24])\n",
    "\n",
    "plt.xlabel('Avg. no. of reviews / year')\n",
    "plt.ylabel('Avg. price / night (£)')\n",
    "plt.title('Average price and frequency of reviews by description topic', weight='bold', fontsize=14)\n",
    "\n",
    "for i, txt in enumerate(df3.index):\n",
    "    plt.annotate(txt, (df3['reviews_per_year'].iat[i]-0.3,df3['price'].iat[i]), fontsize=11, weight='bold')"
   ]
  },
  {
   "cell_type": "markdown",
   "metadata": {},
   "source": [
    "NLP is an important feature of this project, and there are valuable insights produced from topic modelling in addition to improving predictive strength. By plotting a bubble chart of the 3 topics described in the earlier section of this report (Location, Amenities and Luxury), it is possible to segment London's Airbnb market into the different topics, each of which demonstrating a different average price and frequency which are the component factors of yield.\n",
    "\n",
    "In the below chart, each bubble is plotted at the average of that segment while the size represents the number of listings in that segment. Some of the characteristics of this chart make intuitive sense, while others are slightly more surprising. \n",
    "\n",
    "In terms of size, the 'Budget' segment has the most number of listings, followed by 'Location' while 'Luxury' has the least number of listings. This makes sense and one would expect there to naturally be more 'Budget' type listings available. \n",
    "\n",
    "Looking at the average price, 'Location' is the clear leader followed by 'Luxury' and 'Budget' at just £5-10 lower. This suggests that location is still the king in property values, and that is also corroborated with the feature importances. \n",
    "\n",
    "What is surprising is that although location commands the highest price, it is 'Luxury' stays that get the highest number of reviews. This is a proxy for the frequency of bookings and suggest that having a 'Luxury' type listing might even to lead to above-average yields. This suggests that the appeal of AirBnb is in the unique opportunity of staying in boutique places, and those are the most popular types of listings. Other segments of the market, such as business travellers who typically are more concerned with Location might prefer to stay in traditional hotels, while other segments such as budget travellers would prefer to stay in hostels for assured amenities and lower prices."
   ]
  },
  {
   "cell_type": "markdown",
   "metadata": {},
   "source": [
    "### Reflection"
   ]
  },
  {
   "cell_type": "markdown",
   "metadata": {},
   "source": [
    "This project has been extremely rewarding to complete, giving me a challenging and interesting problem to explore and design my own solution for. Each stage of the project presented its own unique learning points a different part of the analytical toolkit to practice.\n",
    "\n",
    "In the design phase, the focus was on researching and understanding the problem of predicting yield in AirBnb. What data is publicly available? What research has already been done? What are the implicit assumptions in the problem statement?\n",
    "\n",
    "This led naturally onto the exploratory data analysis phase once I had gotten my hands on the right data set. To design the right solution, I had to thoroughly understand the data and quirks in it. This included understanding what the data points meant, how it was collected, and whether there might have been any unintended biases in the data. This also laid the foundation of understanding potential insights and hypotheses to test and what pre-processing might be necessary.\n",
    "\n",
    "Iteratively, this also led to the data cleaning and manipulation stage. After understanding the data, I was able to perform the manipulations necessary such as imputing or removing missing values, feature selection, and calculating yield values.\n",
    "\n",
    "Once the data has been cleaned and processed, I was able to fit them on the selected machine learning algorithms. The course syllabus was most useful here, and I began to appreciate the complexity of the different algorithms and how to interpret the results of each algorithm. By comparing the results I was able to choose a final cross-validated model and fine-tune it according to best practices.\n",
    "\n",
    "After building the final model, it had to be thoroughly tested and evaluated. This included doing sensitivity analysis the test the robustness of the final solution, and sense checking the predictions and insights produced by the model.\n",
    "\n",
    "One interesting aspect, and also the most challenging for me, was undertaking natural language processing for the feature engineering stage. I tested various techniques such as bag-of-words, term-frequency-inverse-document-frequency, latent Dirichlet allocation and also various regexes in the preprocessing stage. Ultimately, LDA proved to be the most powerful method of reducing the no. of dimensions and was able to give more interpretable topics compared to other topic modelling methods. \n",
    "\n",
    "The unique challenges in topic modelling stemmed from the more qualitive nature of text mining as opposed to working with numerical data. It is a lot more free-form and there is seldom a \"right answer\" to fall back to. For example, choosing the number of topics to model greatly affected the results. After testing several topic numbers, I decided to choose a relatively small number of 3. This kept the data manageable, the topics interpretable and also distinct enough to form insightful segments. Labelling the topics was another free-form challenge, though it was thankfully made easier by the ability to see word distributions in LDA. Though there is certainly no correct topic label, the word distributions and earlier EDA phase helped to suggest potential topic labels. I tried a few of these labels and tested them against the data set to see if they would make sense (e.g. the 'Budget' label should have a proportionaly lower price!). In the end, I was comfortable with the labels I settled on and there was a plausible story behind each topic label."
   ]
  },
  {
   "cell_type": "markdown",
   "metadata": {},
   "source": [
    "### Improvement"
   ]
  },
  {
   "cell_type": "markdown",
   "metadata": {},
   "source": [
    "Looking back on the project, there have been numerous learnings and further improvements that could have been made.\n",
    "\n",
    "As topic modelling was a big part of the project, a potential improvement would be to try and implement other topic modelling algorithms. While I focussed on LDA due to its interpretability, there were other algorithms such as Non-Negative Matrix Factorization that might have also led to good results. I could also have taken a more scientific approach to choosing the number of topics, and perhaps build a pipeline to iterate through a range of numbers to choose to optimal number with the highest predictive power.\n",
    "\n",
    "Ultimately, I am happy with the end results and am convinced that the final solution is better than the benchmark initially established. Nevertheless, there will always be further improvements that can be made. \n",
    "\n",
    "What made this project unique was the attempt to use alternative data sources (in this case, text data) to improve predictive models of AirBnb yield. In a similar vein, AirBnb listings images could also be used as potential features. Attempting this would be quite complicated, requring an understanding of image recognition techniques but also the use of big data processing due to the amount of images one would need to analyse. Nevertheless, that would undoubtedly be an interesting next step to pursue.\n"
   ]
  }
 ],
 "metadata": {
  "hide_input": true,
  "kernelspec": {
   "display_name": "Python 3",
   "language": "python",
   "name": "python3"
  },
  "language_info": {
   "codemirror_mode": {
    "name": "ipython",
    "version": 3
   },
   "file_extension": ".py",
   "mimetype": "text/x-python",
   "name": "python",
   "nbconvert_exporter": "python",
   "pygments_lexer": "ipython3",
   "version": "3.6.0"
  }
 },
 "nbformat": 4,
 "nbformat_minor": 2
}
